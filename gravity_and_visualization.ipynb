{
 "cells": [
  {
   "cell_type": "markdown",
   "source": [
    "# Data Analysis and Visualization\n",
    "This file handles the data analysis, finding gravitational pressure and total energy in the system.\n",
    "\n",
    "Next, visualizations will be performed to show the data in a more understandable way."
   ],
   "metadata": {
    "collapsed": false
   },
   "id": "38fccfd014251451"
  },
  {
   "cell_type": "code",
   "outputs": [],
   "source": [
    "import numpy as np\n",
    "import pandas as pd\n",
    "from astropy.table import Table\n",
    "from astroquery.gaia import Gaia"
   ],
   "metadata": {
    "collapsed": true,
    "ExecuteTime": {
     "end_time": "2024-01-22T15:49:58.149717900Z",
     "start_time": "2024-01-22T15:49:55.638789300Z"
    }
   },
   "id": "initial_id",
   "execution_count": 1
  },
  {
   "cell_type": "markdown",
   "source": [
    "## Log in to Gaia\n",
    "Use credentials from gaia/CREDENTIALS file"
   ],
   "metadata": {
    "collapsed": false
   },
   "id": "94a497fc51f55d74"
  },
  {
   "cell_type": "code",
   "outputs": [
    {
     "name": "stdout",
     "output_type": "stream",
     "text": [
      "INFO: Login to gaia TAP server [astroquery.gaia.core]\n",
      "OK\n",
      "INFO: Login to gaia data server [astroquery.gaia.core]\n",
      "OK\n"
     ]
    }
   ],
   "source": [
    "Gaia.login(credentials_file='gaia/CREDENTIALS')\n",
    "username = 'mwidmaie'"
   ],
   "metadata": {
    "collapsed": false,
    "ExecuteTime": {
     "end_time": "2024-01-22T15:52:54.730636Z",
     "start_time": "2024-01-22T15:52:51.772137800Z"
    }
   },
   "id": "f734c3b894fb56d0",
   "execution_count": 2
  },
  {
   "cell_type": "markdown",
   "source": [
    "## Load data\n",
    "Load data from the `stellar_dataset_final` table."
   ],
   "metadata": {
    "collapsed": false
   },
   "id": "c3bb3d300d083b89"
  },
  {
   "cell_type": "code",
   "outputs": [],
   "source": [
    "job = Gaia.launch_job(f\"select * from user_{username}.stellar_dataset_final\")\n",
    "job = job.get_results()"
   ],
   "metadata": {
    "collapsed": false,
    "ExecuteTime": {
     "end_time": "2024-01-22T15:54:49.935057400Z",
     "start_time": "2024-01-22T15:54:48.026555500Z"
    }
   },
   "id": "f926cc0ac3bec4f2",
   "execution_count": 3
  },
  {
   "cell_type": "markdown",
   "source": [
    "## Data analysis\n",
    "Convert to pandas dataframe and perform analysis."
   ],
   "metadata": {
    "collapsed": false
   },
   "id": "b8f49f05f533b2f0"
  },
  {
   "cell_type": "code",
   "outputs": [
    {
     "data": {
      "text/plain": "      stellar_dataset_final_oid            source_id          ra        dec  \\\n0                             1  1011264588308575232  139.380013  46.817283   \n1                             2  1074883087005896320  176.484167  72.095963   \n2                             3  1137428256197026688  126.465673  77.218546   \n3                             4  1139059897091616512  124.128159  79.500683   \n4                             5  1154494768307323776  223.466160   2.775011   \n...                         ...                  ...         ...        ...   \n1853                       1854   831063566054567552  163.460409  46.155726   \n1854                       1855   842730209053336192  168.799737  54.157511   \n1855                       1856   862138371693741312  170.147868  62.364017   \n1856                       1857   885312542050123904  108.661626  28.441399   \n1857                       1858   922860108223833984  121.791378  43.260211   \n\n        radius  radius_error  mass_primary  mass_secondary  \\\n0     2.638851      0.073952      2.064137        1.648135   \n1     0.941160      0.022193      0.773057        0.097968   \n2     3.012855      0.102631      1.808754        1.997531   \n3     1.380779      0.034146      1.074839             NaN   \n4     1.254070      0.046589      1.252971        0.390569   \n...        ...           ...           ...             ...   \n1853  2.345910      0.089284      1.381726        0.583708   \n1854  0.756177      0.021991      0.677829             NaN   \n1855  2.097585      0.063009      1.492176             NaN   \n1856  1.167791      0.027201      0.952562             NaN   \n1857  3.156882      0.088708      2.477262        1.888069   \n\n      mass_primary_lower  mass_primary_upper     core_temp  \\\n0               1.975810            2.161963  8.170424e+07   \n1               0.724040            0.825749  1.091355e+07   \n2               1.716472            1.916902  8.174268e+07   \n3               0.977008            1.132453  2.226174e+07   \n4               1.195053            1.303416  2.356969e+07   \n...                  ...                 ...           ...   \n1853            1.305733            1.445168  4.862108e+07   \n1854            0.543633            0.727880  7.688387e+06   \n1855            1.436168            1.548184  4.694950e+07   \n1856            0.892327            1.009213  1.668590e+07   \n1857            2.368794            2.599014  1.173064e+08   \n\n      core_temp_rel_error  core_temp_abs_error  \n0                0.086561         7.072419e+06  \n1                0.069279         7.560783e+05  \n2                0.116517         9.524422e+06  \n3                0.081216         1.808020e+06  \n4                0.063653         1.500282e+06  \n...                   ...                  ...  \n1853             0.102668         4.991848e+06  \n1854             0.146563         1.126833e+06  \n1855             0.073341         3.443323e+06  \n1856             0.067219         1.121603e+06  \n1857             0.100083         1.174039e+07  \n\n[1858 rows x 13 columns]",
      "text/html": "<div>\n<style scoped>\n    .dataframe tbody tr th:only-of-type {\n        vertical-align: middle;\n    }\n\n    .dataframe tbody tr th {\n        vertical-align: top;\n    }\n\n    .dataframe thead th {\n        text-align: right;\n    }\n</style>\n<table border=\"1\" class=\"dataframe\">\n  <thead>\n    <tr style=\"text-align: right;\">\n      <th></th>\n      <th>stellar_dataset_final_oid</th>\n      <th>source_id</th>\n      <th>ra</th>\n      <th>dec</th>\n      <th>radius</th>\n      <th>radius_error</th>\n      <th>mass_primary</th>\n      <th>mass_secondary</th>\n      <th>mass_primary_lower</th>\n      <th>mass_primary_upper</th>\n      <th>core_temp</th>\n      <th>core_temp_rel_error</th>\n      <th>core_temp_abs_error</th>\n    </tr>\n  </thead>\n  <tbody>\n    <tr>\n      <th>0</th>\n      <td>1</td>\n      <td>1011264588308575232</td>\n      <td>139.380013</td>\n      <td>46.817283</td>\n      <td>2.638851</td>\n      <td>0.073952</td>\n      <td>2.064137</td>\n      <td>1.648135</td>\n      <td>1.975810</td>\n      <td>2.161963</td>\n      <td>8.170424e+07</td>\n      <td>0.086561</td>\n      <td>7.072419e+06</td>\n    </tr>\n    <tr>\n      <th>1</th>\n      <td>2</td>\n      <td>1074883087005896320</td>\n      <td>176.484167</td>\n      <td>72.095963</td>\n      <td>0.941160</td>\n      <td>0.022193</td>\n      <td>0.773057</td>\n      <td>0.097968</td>\n      <td>0.724040</td>\n      <td>0.825749</td>\n      <td>1.091355e+07</td>\n      <td>0.069279</td>\n      <td>7.560783e+05</td>\n    </tr>\n    <tr>\n      <th>2</th>\n      <td>3</td>\n      <td>1137428256197026688</td>\n      <td>126.465673</td>\n      <td>77.218546</td>\n      <td>3.012855</td>\n      <td>0.102631</td>\n      <td>1.808754</td>\n      <td>1.997531</td>\n      <td>1.716472</td>\n      <td>1.916902</td>\n      <td>8.174268e+07</td>\n      <td>0.116517</td>\n      <td>9.524422e+06</td>\n    </tr>\n    <tr>\n      <th>3</th>\n      <td>4</td>\n      <td>1139059897091616512</td>\n      <td>124.128159</td>\n      <td>79.500683</td>\n      <td>1.380779</td>\n      <td>0.034146</td>\n      <td>1.074839</td>\n      <td>NaN</td>\n      <td>0.977008</td>\n      <td>1.132453</td>\n      <td>2.226174e+07</td>\n      <td>0.081216</td>\n      <td>1.808020e+06</td>\n    </tr>\n    <tr>\n      <th>4</th>\n      <td>5</td>\n      <td>1154494768307323776</td>\n      <td>223.466160</td>\n      <td>2.775011</td>\n      <td>1.254070</td>\n      <td>0.046589</td>\n      <td>1.252971</td>\n      <td>0.390569</td>\n      <td>1.195053</td>\n      <td>1.303416</td>\n      <td>2.356969e+07</td>\n      <td>0.063653</td>\n      <td>1.500282e+06</td>\n    </tr>\n    <tr>\n      <th>...</th>\n      <td>...</td>\n      <td>...</td>\n      <td>...</td>\n      <td>...</td>\n      <td>...</td>\n      <td>...</td>\n      <td>...</td>\n      <td>...</td>\n      <td>...</td>\n      <td>...</td>\n      <td>...</td>\n      <td>...</td>\n      <td>...</td>\n    </tr>\n    <tr>\n      <th>1853</th>\n      <td>1854</td>\n      <td>831063566054567552</td>\n      <td>163.460409</td>\n      <td>46.155726</td>\n      <td>2.345910</td>\n      <td>0.089284</td>\n      <td>1.381726</td>\n      <td>0.583708</td>\n      <td>1.305733</td>\n      <td>1.445168</td>\n      <td>4.862108e+07</td>\n      <td>0.102668</td>\n      <td>4.991848e+06</td>\n    </tr>\n    <tr>\n      <th>1854</th>\n      <td>1855</td>\n      <td>842730209053336192</td>\n      <td>168.799737</td>\n      <td>54.157511</td>\n      <td>0.756177</td>\n      <td>0.021991</td>\n      <td>0.677829</td>\n      <td>NaN</td>\n      <td>0.543633</td>\n      <td>0.727880</td>\n      <td>7.688387e+06</td>\n      <td>0.146563</td>\n      <td>1.126833e+06</td>\n    </tr>\n    <tr>\n      <th>1855</th>\n      <td>1856</td>\n      <td>862138371693741312</td>\n      <td>170.147868</td>\n      <td>62.364017</td>\n      <td>2.097585</td>\n      <td>0.063009</td>\n      <td>1.492176</td>\n      <td>NaN</td>\n      <td>1.436168</td>\n      <td>1.548184</td>\n      <td>4.694950e+07</td>\n      <td>0.073341</td>\n      <td>3.443323e+06</td>\n    </tr>\n    <tr>\n      <th>1856</th>\n      <td>1857</td>\n      <td>885312542050123904</td>\n      <td>108.661626</td>\n      <td>28.441399</td>\n      <td>1.167791</td>\n      <td>0.027201</td>\n      <td>0.952562</td>\n      <td>NaN</td>\n      <td>0.892327</td>\n      <td>1.009213</td>\n      <td>1.668590e+07</td>\n      <td>0.067219</td>\n      <td>1.121603e+06</td>\n    </tr>\n    <tr>\n      <th>1857</th>\n      <td>1858</td>\n      <td>922860108223833984</td>\n      <td>121.791378</td>\n      <td>43.260211</td>\n      <td>3.156882</td>\n      <td>0.088708</td>\n      <td>2.477262</td>\n      <td>1.888069</td>\n      <td>2.368794</td>\n      <td>2.599014</td>\n      <td>1.173064e+08</td>\n      <td>0.100083</td>\n      <td>1.174039e+07</td>\n    </tr>\n  </tbody>\n</table>\n<p>1858 rows × 13 columns</p>\n</div>"
     },
     "execution_count": 5,
     "metadata": {},
     "output_type": "execute_result"
    }
   ],
   "source": [
    "df = job.to_pandas()\n",
    "df"
   ],
   "metadata": {
    "collapsed": false,
    "ExecuteTime": {
     "end_time": "2024-01-22T15:55:04.515300Z",
     "start_time": "2024-01-22T15:55:04.413798300Z"
    }
   },
   "id": "d75d47c84df23e1d",
   "execution_count": 5
  }
 ],
 "metadata": {
  "kernelspec": {
   "display_name": "Python 3",
   "language": "python",
   "name": "python3"
  },
  "language_info": {
   "codemirror_mode": {
    "name": "ipython",
    "version": 2
   },
   "file_extension": ".py",
   "mimetype": "text/x-python",
   "name": "python",
   "nbconvert_exporter": "python",
   "pygments_lexer": "ipython2",
   "version": "2.7.6"
  }
 },
 "nbformat": 4,
 "nbformat_minor": 5
}
