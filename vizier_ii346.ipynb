{
 "cells": [
  {
   "cell_type": "code",
   "execution_count": 2,
   "id": "a6eaeebf",
   "metadata": {
    "ExecuteTime": {
     "end_time": "2024-01-19T03:08:39.553947600Z",
     "start_time": "2024-01-19T03:08:37.334475500Z"
    }
   },
   "outputs": [],
   "source": [
    "# Access astronomical databases\n",
    "from pyvo import registry  # version >=1.4.1 \n",
    "\n",
    "# Moc and HEALPix tools\n",
    "from mocpy import MOC\n",
    "\n",
    "# Sky visualization\n",
    "from ipyaladin import Aladin\n",
    "\n",
    "# For plots\n",
    "import matplotlib.pyplot as plt\n",
    "\n",
    "from astropy.table import Table"
   ]
  },
  {
   "cell_type": "markdown",
   "id": "7ad7861f",
   "metadata": {},
   "source": [
    "# Welcome to VizieR example workflow\n",
    "\n",
    "[![Vizier](https://custom-icon-badges.demolab.com/badge/Vizier-gray.svg?logo=vizier&logoColor=orange&logoWidth=20)](https://vizier.cds.unistra.fr/viz-bin/VizieR \"https://vizier.cds.unistra.fr/viz-bin/VizieR\")\n",
    "\n",
    "It is a generic notebook, highlighting what can be done once you chose a catalog. This workflow is suggested by [CDS](https://cdsweb.unistra.fr/) (Strasbourg Astronomical Data Center, house of [VizieR](https://vizier.cds.unistra.fr/viz-bin/VizieR)).\n",
    "\n",
    "--------------------------------------------------------\n",
    "\n",
    "Modify the <a href='https://vizier.cds.unistra.fr/'>VizieR catalogue</a> name (variable <b>CATALOGUE</b>) and anything else you might feel like exploring!\n",
    "\n",
    "## 1. Setup\n",
    "\n",
    "This example notebook has the following dependencies: \n",
    "\n",
    "**Required**\n",
    "- pyvo : this library facilitates the access to the Virtual Observatory (VO) resources. VizieR is part of the VO.\n",
    "This notebook needs version >=1.4.1\n",
    "\n",
    "**Optional, for visualization**\n",
    "- ipyaladin : this is the Aladin-lite sky viewer, bundled as a jupyter widget. It allows to plot catalogs and multi-order coverages (MOC)\n",
    "- matplotlib : an other option to see catalog points and MOCs\n",
    "\n",
    "## 2. Metadata exploration with the Virtual Observatory registry\n",
    "\n",
    "This part uses [pyvo](https://pyvo.readthedocs.io/en) to connect to the VO registry."
   ]
  },
  {
   "cell_type": "code",
   "execution_count": 3,
   "id": "95888801",
   "metadata": {
    "ExecuteTime": {
     "end_time": "2024-01-19T03:08:39.569324800Z",
     "start_time": "2024-01-19T03:08:39.556427400Z"
    }
   },
   "outputs": [],
   "source": [
    "# the catalogue name in VizieR\n",
    "CATALOGUE = \"II/346\""
   ]
  },
  {
   "cell_type": "markdown",
   "id": "26ad3c69",
   "metadata": {},
   "source": [
    "We first retrieve catalogue information."
   ]
  },
  {
   "cell_type": "code",
   "execution_count": 4,
   "id": "6db57e6b",
   "metadata": {
    "ExecuteTime": {
     "end_time": "2024-01-19T03:08:43.246773400Z",
     "start_time": "2024-01-19T03:08:41.035264400Z"
    }
   },
   "outputs": [],
   "source": [
    "# each resource in the VO has an identifier, called ivoid. For vizier catalogs,\n",
    "# the VO ids can be constructed like this:\n",
    "catalogue_ivoid = f\"ivo://CDS.VizieR/{CATALOGUE}\"\n",
    "# the actual query to the registry\n",
    "voresource = registry.search(ivoid=catalogue_ivoid)[0]"
   ]
  },
  {
   "cell_type": "code",
   "execution_count": 4,
   "id": "f3e975e3",
   "metadata": {
    "ExecuteTime": {
     "end_time": "2024-01-18T17:07:02.938163700Z",
     "start_time": "2024-01-18T17:07:02.911660200Z"
    }
   },
   "outputs": [
    {
     "name": "stdout",
     "output_type": "stream",
     "text": [
      "JMMC Stellar Diameters Catalogue - JSDC. Version 2\n",
      "Short Name: II/346\n",
      "IVOA Identifier: ivo://cds.vizier/ii/346\n",
      "Access modes: conesearch, tap#aux, web\n",
      "Multi-capability service -- use get_service()\n",
      "\n",
      "This catalogue contains stellar angular diameter estimates for nearly all the\n",
      "stars of the Hipparcos and Tycho catalogue that have an associated spectral\n",
      "type in Simbad/CDS. The median error on the diameters is around 1.5%, with\n",
      "possible biases of around ~2%. For each object, the limb-darkened diameter\n",
      "retained is the mean value of several estimates performed using different\n",
      "couples of photometries. The chi-square representing the dispersion between\n",
      "these values is also given (it is below 2 for ~400000 stars). An additional\n",
      "flag signals stars that could represent a risk if chosen as calibrators for\n",
      "Optical Long-Baseline Interferometry, independently of the correctness of\n",
      "their apparent diameter estimate. This catalog replaces the catalog\n",
      "II/300/jsdc .\n",
      "\n",
      "Waveband Coverage: infrared, optical\n",
      "\n",
      "Source: 2014ASPC..485..223B\n",
      "Authors: Bourges L.,  Mella G.,  Lafrasse S.,  Duvert G.,  Chelli A. et al.\n",
      "See creators attribute for the complete list of authors.\n",
      "Alternative identifier: bibcode:2017yCat.2346....0B\n",
      "More info: https://cdsarc.cds.unistra.fr/viz-bin/cat/II/346\n"
     ]
    }
   ],
   "source": [
    "# We can print metadata information about the catalogue\n",
    "voresource.describe(verbose=True)"
   ]
  },
  {
   "cell_type": "markdown",
   "id": "bd2a7ae3",
   "metadata": {},
   "source": [
    "We can also inspect in details the `resource` object and access the attributes not provided by the describe method. See for example, the first author of a resource: "
   ]
  },
  {
   "cell_type": "code",
   "execution_count": 5,
   "id": "f5a53605",
   "metadata": {
    "ExecuteTime": {
     "end_time": "2024-01-01T21:50:37.365441100Z",
     "start_time": "2024-01-01T21:50:37.275170500Z"
    }
   },
   "outputs": [
    {
     "data": {
      "text/plain": "'Bourges L.'"
     },
     "execution_count": 5,
     "metadata": {},
     "output_type": "execute_result"
    }
   ],
   "source": [
    "voresource.creators[0]"
   ]
  },
  {
   "cell_type": "markdown",
   "id": "5a457510",
   "metadata": {},
   "source": [
    "## 3. Access the tabular data of this catalog\n",
    "\n",
    "We can have a look at the tables available in the catalogue."
   ]
  },
  {
   "cell_type": "code",
   "execution_count": 6,
   "id": "92ebe10f",
   "metadata": {
    "ExecuteTime": {
     "end_time": "2024-01-19T03:08:50.754184Z",
     "start_time": "2024-01-19T03:08:49.499993800Z"
    }
   },
   "outputs": [
    {
     "name": "stderr",
     "output_type": "stream",
     "text": [
      "WARNING: W02: ?:?:?: W02: '' is not a valid datatype according to the VOSI spec [pyvo.io.vosi.vodataservice]\n"
     ]
    },
    {
     "data": {
      "text/plain": "{'II/346/jsdc_v2': <VODataServiceTable name=\"II/346/jsdc_v2\">... 39 columns ...</VODataServiceTable>,\n 'II/346/jsdc_dis': <VODataServiceTable name=\"II/346/jsdc_dis\">... 11 columns ...</VODataServiceTable>}"
     },
     "execution_count": 6,
     "metadata": {},
     "output_type": "execute_result"
    }
   ],
   "source": [
    "tables = voresource.get_tables()\n",
    "tables"
   ]
  },
  {
   "cell_type": "code",
   "execution_count": 7,
   "id": "81514878",
   "metadata": {
    "ExecuteTime": {
     "end_time": "2024-01-19T03:08:51.128080500Z",
     "start_time": "2024-01-19T03:08:51.104769300Z"
    }
   },
   "outputs": [
    {
     "data": {
      "text/plain": "['II/346/jsdc_v2', 'II/346/jsdc_dis']"
     },
     "execution_count": 7,
     "metadata": {},
     "output_type": "execute_result"
    }
   ],
   "source": [
    "# We can also extract the tables names for later use\n",
    "tables_names = list(tables.keys())\n",
    "tables_names"
   ]
  },
  {
   "cell_type": "markdown",
   "id": "eedac527",
   "metadata": {},
   "source": [
    "The actual data can then be access using any of the ``access_modes`` of the voresource."
   ]
  },
  {
   "cell_type": "code",
   "execution_count": 8,
   "id": "32db444e",
   "metadata": {
    "ExecuteTime": {
     "end_time": "2024-01-01T21:50:52.429252100Z",
     "start_time": "2024-01-01T21:50:52.407925300Z"
    }
   },
   "outputs": [
    {
     "data": {
      "text/plain": "{'conesearch', 'tap#aux', 'web'}"
     },
     "execution_count": 8,
     "metadata": {},
     "output_type": "execute_result"
    }
   ],
   "source": [
    "voresource.access_modes()"
   ]
  },
  {
   "cell_type": "markdown",
   "id": "4a7dd42f",
   "metadata": {},
   "source": [
    "The web access is found by following the ``reference_url``"
   ]
  },
  {
   "cell_type": "code",
   "execution_count": 9,
   "id": "545f9bf8",
   "metadata": {
    "ExecuteTime": {
     "end_time": "2024-01-01T21:50:57.058613300Z",
     "start_time": "2024-01-01T21:50:57.050677800Z"
    }
   },
   "outputs": [
    {
     "data": {
      "text/plain": "'https://cdsarc.cds.unistra.fr/viz-bin/cat/II/346'"
     },
     "execution_count": 9,
     "metadata": {},
     "output_type": "execute_result"
    }
   ],
   "source": [
    "voresource.reference_url"
   ]
  },
  {
   "cell_type": "markdown",
   "id": "abee6ce7",
   "metadata": {},
   "source": [
    "### 3.1 Execute a SQL/ADQL query\n",
    "\n",
    "The ``tap#aux`` in the ``access_mode`` response indicates that we can also do a SQL/ADQL query for these VizieR tables.\n",
    "\n",
    "On the first table of the catalogue, we execute an <a href='https://www.ivoa.net/documents/latest/ADQL.html'>ADQL</a> query."
   ]
  },
  {
   "cell_type": "code",
   "execution_count": 8,
   "id": "3a8b8d60",
   "metadata": {
    "ExecuteTime": {
     "end_time": "2024-01-19T03:09:07.132354900Z",
     "start_time": "2024-01-19T03:08:54.165894500Z"
    }
   },
   "outputs": [
    {
     "data": {
      "text/plain": "<DALResultsTable length=465877>\nrecno      Name        RAJ2000      ...  e_LDD     Vmag   SpType\n                         deg        ...   mas      mag          \nint32     object       float64      ... float64  float64  object\n------ ----------- ---------------- ... -------- ------- -------\n 40141   HD  18667     45.034152875 ... 0.006655    8.34  G6/8IV\n 40246 BD-00   478 45.1528620833333 ...  0.00206  10.017      F8\n 40203 BD-00   473      45.09491375 ... 0.000891    9.93      A0\n 40521 BD-00   483 45.5013447083333 ... 0.002745     9.5      G0\n 40515 BD+00   500 45.4908541666667 ... 0.005306  10.383      K4\n 39792   HD  18496 44.6194970833333 ... 0.007115   9.083   K0III\n 39984 BD+00   491      44.85630125 ... 0.002396   9.967      G0\n 40121 BD+00   493      45.00825375 ... 0.004786    9.63      K0\n 40277   HD  18738 45.1959279166667 ... 0.002663    8.84     F3V\n   ...         ...              ... ...      ...     ...     ...\n414403 BD-01  4085      314.8185375 ... 0.008752   9.734      K5\n414454 BD-01  4088 314.858041666667 ... 0.002158   9.798      F8\n414434 BD-01  4086 314.836791666667 ... 0.003002   9.975      G5\n415036   HD 200048 315.270266666667 ... 0.006974    8.43 G8/K0IV\n414450   HD 199788 314.853220833333 ... 0.002383   9.098     F3V\n414396   HD 199767 314.812116666667 ... 0.010655   8.925   K3III\n414294   HD 199701 314.741604166667 ... 0.002322     9.1  A9/F0V\n415055   HD 200064 315.282808333333 ... 0.002541    9.43   F5/6V\n414293 BD-00  4135 314.740595833333 ... 0.006204   9.458      K5\n414607 BD-00  4140 314.960720833333 ... 0.001357   9.755      F0"
     },
     "execution_count": 8,
     "metadata": {},
     "output_type": "execute_result"
    }
   ],
   "source": [
    "# get the first table of the catalogue\n",
    "table_name = 'II/346/jsdc_v2'\n",
    "\n",
    "# execute a synchronous ADQL query\n",
    "tap_service = voresource.get_service(\"tap\")\n",
    "tap_records = voresource.get_service(\"tap\").run_sync(\n",
    "    f'select recno, Name, RAJ2000, DEJ2000, LDD, e_LDD, Vmag, SpType from \"{table_name}\"',\n",
    ")\n",
    "tap_records"
   ]
  },
  {
   "cell_type": "markdown",
   "id": "80157f1b",
   "metadata": {},
   "source": [
    "<!-- section position -->\n",
    "\n",
    "We will explore the other access modes here.\n",
    "\n",
    "### 3.2. Execute a cone search query\n",
    "\n",
    "We use the Simple Cone Search (<a href='https://www.ivoa.net/documents/latest/ConeSearch.html'>SCS</a>) protocol of the virtual observatory (only available for tables with positions).\n",
    "\n",
    "Adapt the radius and position of the center to your needs."
   ]
  },
  {
   "cell_type": "code",
   "execution_count": 9,
   "id": "9c678dd4",
   "metadata": {
    "ExecuteTime": {
     "end_time": "2023-12-31T22:44:20.443421200Z",
     "start_time": "2023-12-31T22:44:20.421101600Z"
    }
   },
   "outputs": [],
   "source": [
    "conesearch_radius = 1 / 60.0  # in degrees\n",
    "conesearch_center = (46.16455078125, 1.8654265345025227)"
   ]
  },
  {
   "cell_type": "code",
   "execution_count": 10,
   "id": "8f34d3fd",
   "metadata": {
    "ExecuteTime": {
     "end_time": "2023-12-31T22:44:23.196438500Z",
     "start_time": "2023-12-31T22:44:21.853230100Z"
    }
   },
   "outputs": [
    {
     "data": {
      "text/plain": "<DALResultsTable length=1>\n _RAJ2000   _DEJ2000     _r   recno  RAJ2000   ... Meth r_Diam rem   R  \n   deg        deg                              ...                      \n float64    float64   float64 int32   str10    ... str2  str3  str5 str1\n---------- ---------- ------- ----- ---------- ... ---- ------ ---- ----\n 46.158750   1.863611 0.00608  1146 03 04 38.1 ...   6H     W1          "
     },
     "execution_count": 10,
     "metadata": {},
     "output_type": "execute_result"
    }
   ],
   "source": [
    "conesearch_records = voresource.get_service(\"conesearch\").search(\n",
    "    pos=conesearch_center,\n",
    "    sr=conesearch_radius,\n",
    ")\n",
    "conesearch_records"
   ]
  },
  {
   "cell_type": "markdown",
   "id": "d1df2200",
   "metadata": {},
   "source": [
    "## 4. Get the catalogue coverage\n",
    "\n",
    "VizieR also provides the coverage of each catalogue with Multiple Order Coverage (<a href='https://ivoa.net/documents/MOC/'>MOC</a>) at order 10 -- meaning with a 0.001 rad spacial resolution."
   ]
  },
  {
   "cell_type": "code",
   "execution_count": 11,
   "id": "b532da7e",
   "metadata": {
    "ExecuteTime": {
     "end_time": "2023-12-31T22:44:36.144719200Z",
     "start_time": "2023-12-31T22:44:34.247480800Z"
    }
   },
   "outputs": [
    {
     "data": {
      "text/plain": "<Figure size 640x480 with 1 Axes>",
      "image/png": "[encoded data removed]"
     },
     "metadata": {},
     "output_type": "display_data"
    }
   ],
   "source": [
    "# retrieve the MOC\n",
    "catalogue_coverage = MOC.from_fits(\n",
    "    f\"https://cdsarc.cds.unistra.fr/viz-bin/moc/{CATALOGUE}\",\n",
    ")\n",
    "catalogue_coverage.display_preview()"
   ]
  },
  {
   "cell_type": "markdown",
   "id": "a8273b53",
   "metadata": {},
   "source": [
    "We can plot the coverage with ``matplotlib``."
   ]
  },
  {
   "cell_type": "code",
   "execution_count": null,
   "id": "f47e09e2",
   "metadata": {},
   "outputs": [],
   "source": [
    "fig = plt.figure(figsize=(5, 5))\n",
    "wcs = catalogue_coverage.wcs(fig)\n",
    "ax = fig.add_subplot(projection=wcs)\n",
    "catalogue_coverage.fill(ax=ax, wcs=wcs, alpha=0.5, color=\"blue\")"
   ]
  },
  {
   "cell_type": "markdown",
   "id": "adad9fc7",
   "metadata": {},
   "source": [
    "or with ipyaladin"
   ]
  },
  {
   "cell_type": "code",
   "execution_count": 12,
   "id": "53840a2b",
   "metadata": {
    "ExecuteTime": {
     "end_time": "2023-12-31T22:44:52.569052100Z",
     "start_time": "2023-12-31T22:44:52.480766800Z"
    }
   },
   "outputs": [
    {
     "data": {
      "text/plain": "Aladin(options=['allow_full_zoomout', 'coo_frame', 'fov', 'full_screen', 'log', 'overlay_survey', 'overlay_sur…",
      "application/vnd.jupyter.widget-view+json": {
       "version_major": 2,
       "version_minor": 0,
       "model_id": "b63c0718c7b548a09600173d00c95c42"
      }
     },
     "execution_count": 12,
     "metadata": {},
     "output_type": "execute_result"
    }
   ],
   "source": [
    "aladin = Aladin()\n",
    "aladin"
   ]
  },
  {
   "cell_type": "markdown",
   "id": "de738e90-b34b-4818-a6e6-2d07c9b4c2c2",
   "metadata": {},
   "source": [
    "We can add the tables and coverage in this ipyaladin window."
   ]
  },
  {
   "cell_type": "code",
   "execution_count": 13,
   "id": "52e6635c-2500-4c49-930b-35a08b36caa0",
   "metadata": {
    "ExecuteTime": {
     "end_time": "2023-12-31T22:44:55.154704600Z",
     "start_time": "2023-12-31T22:44:55.124448700Z"
    }
   },
   "outputs": [],
   "source": [
    "aladin.add_table(conesearch_records.to_table())"
   ]
  },
  {
   "cell_type": "code",
   "execution_count": 14,
   "id": "3f55e7d1-bf38-4b7d-a73b-567f9b256f85",
   "metadata": {
    "ExecuteTime": {
     "end_time": "2023-12-31T22:44:57.608459200Z",
     "start_time": "2023-12-31T22:44:57.578203200Z"
    }
   },
   "outputs": [],
   "source": [
    "aladin.add_table(tap_records.to_table())"
   ]
  },
  {
   "cell_type": "code",
   "execution_count": 15,
   "id": "097a4505-5417-4dd3-9032-d75a76fa7c5c",
   "metadata": {
    "ExecuteTime": {
     "end_time": "2023-12-31T22:44:59.050332700Z",
     "start_time": "2023-12-31T22:44:59.025037600Z"
    }
   },
   "outputs": [],
   "source": [
    "aladin.add_moc_from_URL(\n",
    "    f\"https://cdsarc.cds.unistra.fr/viz-bin/moc/{CATALOGUE}\",\n",
    "    moc_options={\"opacity\": 0.5, \"color\": \"pink\"},\n",
    ")"
   ]
  },
  {
   "cell_type": "markdown",
   "id": "065588dd",
   "metadata": {},
   "source": [
    "For more information about manipulating coverages, see [MOCpy documentation](https://cds-astro.github.io/mocpy/)."
   ]
  },
  {
   "cell_type": "code",
   "execution_count": 14,
   "outputs": [
    {
     "data": {
      "text/plain": "         recno       Name     RAJ2000   DEJ2000       LDD     e_LDD   Vmag  \\\n8        40277  HD  18738   45.195928  0.993409  0.107498  0.002663  8.840   \n14       40809  HD  19002   45.871063  1.512188  0.119962  0.003286  9.030   \n16       39945  HD  18571   44.819833  1.244571  0.064205  0.001768  8.640   \n25       41166  HD  19188   46.329149  1.271046  0.190678  0.005273  9.128   \n26       41667  HD  19449   46.935802  1.847568  0.106298  0.002705  8.843   \n...        ...        ...         ...       ...       ...       ...    ...   \n465858  413316  HD 199321  314.118162 -1.569394  0.104414  0.002380  9.399   \n465860  413073  HD 199224  313.972451 -1.338416  0.074611  0.002057  9.628   \n465871  414450  HD 199788  314.853221 -0.539633  0.097247  0.002383  9.098   \n465873  414294  HD 199701  314.741604 -0.423181  0.089329  0.002322  9.100   \n465874  415055  HD 200064  315.282808 -0.343058  0.097152  0.002541  9.430   \n\n        SpType  \n8          F3V  \n14         F6V  \n16         A0V  \n25       G6/8V  \n26         F3V  \n...        ...  \n465858  F8/G0V  \n465860     F0V  \n465871     F3V  \n465873  A9/F0V  \n465874   F5/6V  \n\n[75381 rows x 8 columns]",
      "text/html": "<div>\n<style scoped>\n    .dataframe tbody tr th:only-of-type {\n        vertical-align: middle;\n    }\n\n    .dataframe tbody tr th {\n        vertical-align: top;\n    }\n\n    .dataframe thead th {\n        text-align: right;\n    }\n</style>\n<table border=\"1\" class=\"dataframe\">\n  <thead>\n    <tr style=\"text-align: right;\">\n      <th></th>\n      <th>recno</th>\n      <th>Name</th>\n      <th>RAJ2000</th>\n      <th>DEJ2000</th>\n      <th>LDD</th>\n      <th>e_LDD</th>\n      <th>Vmag</th>\n      <th>SpType</th>\n    </tr>\n  </thead>\n  <tbody>\n    <tr>\n      <th>8</th>\n      <td>40277</td>\n      <td>HD  18738</td>\n      <td>45.195928</td>\n      <td>0.993409</td>\n      <td>0.107498</td>\n      <td>0.002663</td>\n      <td>8.840</td>\n      <td>F3V</td>\n    </tr>\n    <tr>\n      <th>14</th>\n      <td>40809</td>\n      <td>HD  19002</td>\n      <td>45.871063</td>\n      <td>1.512188</td>\n      <td>0.119962</td>\n      <td>0.003286</td>\n      <td>9.030</td>\n      <td>F6V</td>\n    </tr>\n    <tr>\n      <th>16</th>\n      <td>39945</td>\n      <td>HD  18571</td>\n      <td>44.819833</td>\n      <td>1.244571</td>\n      <td>0.064205</td>\n      <td>0.001768</td>\n      <td>8.640</td>\n      <td>A0V</td>\n    </tr>\n    <tr>\n      <th>25</th>\n      <td>41166</td>\n      <td>HD  19188</td>\n      <td>46.329149</td>\n      <td>1.271046</td>\n      <td>0.190678</td>\n      <td>0.005273</td>\n      <td>9.128</td>\n      <td>G6/8V</td>\n    </tr>\n    <tr>\n      <th>26</th>\n      <td>41667</td>\n      <td>HD  19449</td>\n      <td>46.935802</td>\n      <td>1.847568</td>\n      <td>0.106298</td>\n      <td>0.002705</td>\n      <td>8.843</td>\n      <td>F3V</td>\n    </tr>\n    <tr>\n      <th>...</th>\n      <td>...</td>\n      <td>...</td>\n      <td>...</td>\n      <td>...</td>\n      <td>...</td>\n      <td>...</td>\n      <td>...</td>\n      <td>...</td>\n    </tr>\n    <tr>\n      <th>465858</th>\n      <td>413316</td>\n      <td>HD 199321</td>\n      <td>314.118162</td>\n      <td>-1.569394</td>\n      <td>0.104414</td>\n      <td>0.002380</td>\n      <td>9.399</td>\n      <td>F8/G0V</td>\n    </tr>\n    <tr>\n      <th>465860</th>\n      <td>413073</td>\n      <td>HD 199224</td>\n      <td>313.972451</td>\n      <td>-1.338416</td>\n      <td>0.074611</td>\n      <td>0.002057</td>\n      <td>9.628</td>\n      <td>F0V</td>\n    </tr>\n    <tr>\n      <th>465871</th>\n      <td>414450</td>\n      <td>HD 199788</td>\n      <td>314.853221</td>\n      <td>-0.539633</td>\n      <td>0.097247</td>\n      <td>0.002383</td>\n      <td>9.098</td>\n      <td>F3V</td>\n    </tr>\n    <tr>\n      <th>465873</th>\n      <td>414294</td>\n      <td>HD 199701</td>\n      <td>314.741604</td>\n      <td>-0.423181</td>\n      <td>0.089329</td>\n      <td>0.002322</td>\n      <td>9.100</td>\n      <td>A9/F0V</td>\n    </tr>\n    <tr>\n      <th>465874</th>\n      <td>415055</td>\n      <td>HD 200064</td>\n      <td>315.282808</td>\n      <td>-0.343058</td>\n      <td>0.097152</td>\n      <td>0.002541</td>\n      <td>9.430</td>\n      <td>F5/6V</td>\n    </tr>\n  </tbody>\n</table>\n<p>75381 rows × 8 columns</p>\n</div>"
     },
     "execution_count": 14,
     "metadata": {},
     "output_type": "execute_result"
    }
   ],
   "source": [
    "# Remove any records with null RAJ2000 or DEJ2000 fields, and any records with a null ID1 field\n",
    "tap_records_df = tap_records.to_table().to_pandas()\n",
    "tap_records_df = tap_records_df.dropna(subset=[\"RAJ2000\", \"DEJ2000\", \"Name\"])\n",
    "\n",
    "# Filter out non main-sequence stars\n",
    "tap_records_df = tap_records_df[tap_records_df[\"SpType\"].str.contains(\"V\")]\n",
    "\n",
    "# Remove Sub-giants and sub-dwarfs\n",
    "tap_records_df = tap_records_df[~tap_records_df[\"SpType\"].str.contains(\"IV\")]\n",
    "tap_records_df = tap_records_df[~tap_records_df[\"SpType\"].str.contains(\"VI\")]\n",
    "\n",
    "tap_records_df"
   ],
   "metadata": {
    "collapsed": false,
    "ExecuteTime": {
     "end_time": "2024-01-19T03:15:57.088160900Z",
     "start_time": "2024-01-19T03:15:56.555951800Z"
    }
   },
   "id": "8d25c243e9d39139"
  },
  {
   "cell_type": "code",
   "execution_count": 15,
   "outputs": [],
   "source": [
    "processed_vot_table = Table.from_pandas(tap_records_df)"
   ],
   "metadata": {
    "collapsed": false,
    "ExecuteTime": {
     "end_time": "2024-01-19T03:16:09.228413800Z",
     "start_time": "2024-01-19T03:16:09.119467200Z"
    }
   },
   "id": "8b8005a7f55ea922"
  },
  {
   "cell_type": "code",
   "execution_count": 16,
   "outputs": [],
   "source": [
    "# Save table as a VOTable file\n",
    "processed_vot_table.write(\"data/stellar_ldd.vot\", format=\"votable\", overwrite=True)"
   ],
   "metadata": {
    "collapsed": false,
    "ExecuteTime": {
     "end_time": "2024-01-19T03:16:14.621100600Z",
     "start_time": "2024-01-19T03:16:09.994905900Z"
    }
   },
   "id": "3ba20217ad5be01c"
  }
 ],
 "metadata": {
  "kernelspec": {
   "display_name": "Python 3 (ipykernel)",
   "language": "python",
   "name": "python3"
  },
  "language_info": {
   "codemirror_mode": {
    "name": "ipython",
    "version": 3
   },
   "file_extension": ".py",
   "mimetype": "text/x-python",
   "name": "python",
   "nbconvert_exporter": "python",
   "pygments_lexer": "ipython3",
   "version": "3.10.12"
  },
  "widgets": {
   "application/vnd.jupyter.widget-state+json": {
    "state": {
     "614c056f9da546e99e13516067d84b51": {
      "model_module": "ipyaladin",
      "model_module_version": "^0.2.5",
      "model_name": "AladinModel",
      "state": {
       "_model_module_version": "^0.2.5",
       "_view_module_version": "^0.2.5",
       "allow_full_zoomout": false,
       "color_map_flag": true,
       "color_map_name": "",
       "coo_frame": "J2000",
       "fov": 0.40402,
       "full_screen": false,
       "height": 400,
       "layout": "IPY_MODEL_b614942c85f143f29cb69fd61d31fc08",
       "listener_flag": true,
       "listener_type": "",
       "log": true,
       "moc_URL": "https://cdsarc.cds.unistra.fr/viz-bin/moc/J/AJ/157/229",
       "moc_dict": {},
       "moc_from_URL_flag": false,
       "moc_from_dict_flag": true,
       "moc_options": {
        "color": "pink",
        "opacity": 0.5
       },
       "options": [
        "allow_full_zoomout",
        "coo_frame",
        "fov",
        "full_screen",
        "log",
        "overlay_survey",
        "overlay_survey_opacity",
        "reticle_color",
        "reticle_size",
        "show_catalog",
        "show_context_menu",
        "show_coo_grid",
        "show_frame",
        "show_fullscreen_control",
        "show_goto_control",
        "show_layers_control",
        "show_reticle",
        "show_share_control",
        "show_simbad_pointer_control",
        "show_zoom_control",
        "survey",
        "target"
       ],
       "overlay_from_stcs_flag": true,
       "overlay_options": {},
       "overlay_survey": "",
       "overlay_survey_opacity": 0,
       "rectangular_selection_flag": true,
       "reticle_color": "rgb(178, 50, 178)",
       "reticle_size": 22,
       "show_catalog": true,
       "show_context_menu": true,
       "show_coo_grid": false,
       "show_frame": true,
       "show_fullscreen_control": false,
       "show_goto_control": true,
       "show_layers_control": true,
       "show_reticle": true,
       "show_share_control": false,
       "show_simbad_pointer_control": true,
       "show_zoom_control": true,
       "stc_string": "",
       "survey": "P/DSS2/color",
       "table_columns": [
        [
         1,
         "1757132",
         7608,
         42.48899841308594,
         3.298799967454795E-14,
         7.765999871681779E-16,
         3.2987999886306186E-16,
         8,
         211.1,
         1
        ],
        [
         2,
         "1757132",
         7624,
         55.70100021362305,
         3.3175000832379176E-14,
         6.217699877066171E-16,
         3.3175000938258294E-16,
         8,
         211.1,
         1
        ],
        [
         3,
         "1757132",
         7640,
         67.34300231933594,
         3.196099933105642E-14,
         5.155499914781189E-16,
         3.196099890753995E-16,
         8,
         211.1,
         1
        ],
        [
         4,
         "1757132",
         7656,
         83.2770004272461,
         3.1485000696017396E-14,
         4.2738000265781385E-16,
         3.1485000801896514E-16,
         8,
         211.1,
         1
        ],
        [
         5,
         "1757132",
         7672,
         108.45999908447266,
         3.169599999131023E-14,
         3.4893998718173733E-16,
         3.169599935603552E-16,
         8,
         211.1,
         1
        ],
        [
         6,
         "1757132",
         7688,
         142.10000610351562,
         3.182499972104527E-14,
         2.856200127399625E-16,
         3.182499982692439E-16,
         8,
         211.1,
         1
        ],
        [
         7,
         "1757132",
         7704,
         183.4600067138672,
         3.21299993446926E-14,
         2.3906999363462235E-16,
         3.2130000509362903E-16,
         8,
         211.1,
         1
        ],
        [
         8,
         "1757132",
         7720,
         222.55999755859375,
         3.195000145526927E-14,
         2.072299986775536E-16,
         3.1950000714115444E-16,
         8,
         211.1,
         1
        ],
        [
         9,
         "1757132",
         7736,
         253.0500030517578,
         3.1498000957691855E-14,
         1.8742999473055349E-16,
         3.1498000110658907E-16,
         8,
         211.1,
         1
        ],
        [
         10,
         "1757132",
         7752,
         275.17999267578125,
         3.10060001762133E-14,
         1.745300005812257E-16,
         3.1006001023246247E-16,
         8,
         211.1,
         1
        ]
       ],
       "table_flag": false,
       "table_keys": [
        "recno",
        "ID",
        "Wave",
        "Net",
        "Flux",
        "Stat-err",
        "Sys-err",
        "Nobs",
        "Exp",
        "Qual"
       ],
       "target": "76.446253 52.849186",
       "thumbnail_flag": true,
       "votable_URL": "",
       "votable_from_URL_flag": true,
       "votable_options": {}
      }
     },
     "b614942c85f143f29cb69fd61d31fc08": {
      "model_module": "@jupyter-widgets/base",
      "model_module_version": "2.0.0",
      "model_name": "LayoutModel",
      "state": {}
     }
    },
    "version_major": 2,
    "version_minor": 0
   }
  }
 },
 "nbformat": 4,
 "nbformat_minor": 5
}
