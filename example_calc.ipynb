{
 "cells": [
  {
   "metadata": {
    "ExecuteTime": {
     "end_time": "2024-06-17T01:29:19.387963Z",
     "start_time": "2024-06-17T01:29:19.373515Z"
    }
   },
   "cell_type": "code",
   "source": [
    "from typing import Union\n",
    "import numpy as np\n",
    "from collections import namedtuple"
   ],
   "id": "fabd53f19d3cbae1",
   "outputs": [],
   "execution_count": 65
  },
  {
   "metadata": {},
   "cell_type": "markdown",
   "source": "### Necessary Constants",
   "id": "c267c05f7ea21ee7"
  },
  {
   "metadata": {
    "ExecuteTime": {
     "end_time": "2024-06-17T01:29:27.327759Z",
     "start_time": "2024-06-17T01:29:27.310734Z"
    }
   },
   "cell_type": "code",
   "source": [
    "HYDROGEN_MASS = 1.00784\n",
    "HELIUM_MASS = 4.002602\n",
    "CARBON_MASS = 12.011\n",
    "NITROGEN_MASS = 14.0067\n",
    "OXYGEN_MASS = 15.999\n",
    "NEON_MASS = 20.1797\n",
    "SODIUM_MASS = 22.989769\n",
    "MAGNESIUM_MASS = 24.305\n",
    "ALUMINUM_MASS = 26.981539\n",
    "SILICON_MASS = 28.0855\n",
    "SUlFUR_MASS = 32.065\n",
    "POTASSIUM_MASS = 39.0983\n",
    "CALCIUM_MASS = 40.078\n",
    "TITANIUM_MASS = 47.867\n",
    "CHROMIUM_MASS = 51.9961\n",
    "MANGANESE_MASS = 54.938044\n",
    "IRON_MASS = 55.845\n",
    "NICKEL_MASS = 58.6934\n",
    "\n",
    "masses =  {\n",
    "    'H': HYDROGEN_MASS,\n",
    "    'He': HELIUM_MASS,\n",
    "    'C': CARBON_MASS,\n",
    "    'N': NITROGEN_MASS,\n",
    "    'O': OXYGEN_MASS,\n",
    "    'Ne': NEON_MASS,\n",
    "    'Na': SODIUM_MASS,\n",
    "    'Mg': MAGNESIUM_MASS,\n",
    "    'Al': ALUMINUM_MASS,\n",
    "    'Si': SILICON_MASS,\n",
    "    'S': SUlFUR_MASS,\n",
    "    'K': POTASSIUM_MASS,\n",
    "    'Ca': CALCIUM_MASS,\n",
    "    'Ti': TITANIUM_MASS,\n",
    "    'Cr': CHROMIUM_MASS,\n",
    "    'Mn': MANGANESE_MASS,\n",
    "    'Fe': IRON_MASS,\n",
    "    'Ni': NICKEL_MASS,\n",
    "}"
   ],
   "id": "f5637168ef5af844",
   "outputs": [],
   "execution_count": 66
  },
  {
   "metadata": {},
   "cell_type": "markdown",
   "source": [
    "### Stellar Data Model\n",
    "The stellar data model is a object that contains the following properties for a star:\n",
    "- mass (mSun)\n",
    "- relative abundances\n",
    "- mass fractions (calculated from relative abundances)\n",
    "- metallicity (calculated from mass fractions)\n",
    "- age\n",
    "- radius (rSun)\n",
    "\n",
    "A stellar data model is the input for a MESA simulation and contains all necessary information to run a stellar evolution simulation."
   ],
   "id": "f70b60ce33e6e09a"
  },
  {
   "metadata": {
    "ExecuteTime": {
     "end_time": "2024-06-17T02:22:06.283616Z",
     "start_time": "2024-06-17T02:22:06.246798Z"
    }
   },
   "cell_type": "code",
   "source": [
    "Abundance = namedtuple('Abundance', ['atom', 'relAbundance'])  # Atom name, relative abundance\n",
    "AbundanceVal = namedtuple('AbundanceVal', ['aMass', 'abundance'])"
   ],
   "id": "2ee76f986167b35c",
   "outputs": [
    {
     "name": "stdout",
     "output_type": "stream",
     "text": [
      "12 7.5\n",
      "Initial metallicity: 0.02000\n",
      "Iteration 1: 0.02000 -> 0.02334\n",
      "Iteration 2: 0.02334 -> 0.02250\n",
      "Iteration 3: 0.02250 -> 0.02271\n",
      "Iteration 4: 0.02271 -> 0.02265\n",
      "Iteration 5: 0.02265 -> 0.02267\n",
      "Iteration 6: 0.02267 -> 0.02266\n",
      "Iteration 7: 0.02266 -> 0.02266\n",
      "Iteration 8: 0.02266 -> 0.02266\n",
      "Iteration 9: 0.02266 -> 0.02266\n"
     ]
    },
    {
     "data": {
      "text/plain": [
       "<__main__.StellarDataModel at 0x138a86b0670>"
      ]
     },
     "execution_count": 102,
     "metadata": {},
     "output_type": "execute_result"
    }
   ],
   "execution_count": 102
  },
  {
   "metadata": {
    "ExecuteTime": {
     "end_time": "2024-06-17T02:30:31.605184Z",
     "start_time": "2024-06-17T02:30:31.588166Z"
    }
   },
   "cell_type": "code",
   "source": "",
   "id": "be5fb70daad75ad7",
   "outputs": [],
   "execution_count": 115
  },
  {
   "metadata": {
    "ExecuteTime": {
     "end_time": "2024-06-17T02:31:48.607805Z",
     "start_time": "2024-06-17T02:31:48.589247Z"
    }
   },
   "cell_type": "code",
   "source": "",
   "id": "5a4ddadffed11ddc",
   "outputs": [
    {
     "name": "stdout",
     "output_type": "stream",
     "text": [
      "12 7.5\n",
      "Initial metallicity: 0.02260\n",
      "Iteration 1: 0.02260 -> 0.02268\n",
      "Iteration 2: 0.02268 -> 0.02266\n",
      "Iteration 3: 0.02266 -> 0.02267\n",
      "Iteration 4: 0.02267 -> 0.02266\n",
      "Iteration 5: 0.02266 -> 0.02266\n",
      "Iteration 6: 0.02266 -> 0.02266\n",
      "{'C': AbundanceVal(aMass=12.011, abundance=8.85), 'N': AbundanceVal(aMass=14.0067, abundance=7.87), 'O': AbundanceVal(aMass=15.999, abundance=8.93), 'Ne': AbundanceVal(aMass=20.1797, abundance=7.67), 'Na': AbundanceVal(aMass=22.989769, abundance=6.36), 'Mg': AbundanceVal(aMass=24.305, abundance=7.71), 'Si': AbundanceVal(aMass=28.0855, abundance=7.82), 'S': AbundanceVal(aMass=32.065, abundance=7.3100000000000005), 'Ca': AbundanceVal(aMass=40.078, abundance=6.54), 'Ti': AbundanceVal(aMass=47.867, abundance=5.25), 'Cr': AbundanceVal(aMass=51.9961, abundance=5.71), 'Mn': AbundanceVal(aMass=54.938044, abundance=5.51), 'Fe': AbundanceVal(aMass=55.845, abundance=7.69), 'Ni': AbundanceVal(aMass=58.6934, abundance=6.42)}\n",
      "{'C': 0.006218117443487784, 'N': 0.0007593038122593888, 'O': 0.00995801077510779, 'Ne': 0.0006902309974018823, 'Na': 3.851362176725214e-05, 'Mg': 0.000911539260879033, 'Si': 0.001356943963619181, 'S': 0.0004787524370476492, 'Ca': 0.00010162154523337323, 'Ti': 6.224664706324831e-06, 'Cr': 1.950071448779769e-05, 'Mn': 1.3000287186524718e-05, 'Fe': 0.0020001568263652496, 'Ni': 0.00011289352184798901, 'y': 0.29089610072993416, 'z': 0.022664809871397216}\n",
      "0.29089610072993416\n",
      "0.022664809871397216\n"
     ]
    }
   ],
   "execution_count": 119
  }
 ],
 "metadata": {
  "kernelspec": {
   "display_name": "Python 3",
   "language": "python",
   "name": "python3"
  },
  "language_info": {
   "codemirror_mode": {
    "name": "ipython",
    "version": 2
   },
   "file_extension": ".py",
   "mimetype": "text/x-python",
   "name": "python",
   "nbconvert_exporter": "python",
   "pygments_lexer": "ipython2",
   "version": "2.7.6"
  }
 },
 "nbformat": 4,
 "nbformat_minor": 5
}
