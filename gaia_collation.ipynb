{
 "cells": [
  {
   "cell_type": "markdown",
   "source": [
    "# Data collation and analysis\n",
    "This file handles collecting all collected data into one consistent table.\n",
    "\n",
    "## Data Collection\n",
    "First data is collected, then any non-gaia stellar IDs (such as HD numbers) are matched \n",
    "with a corresponding Gaia star entry. \n",
    "\n",
    "## Analysis\n",
    "After data has been collected into a common table, mass analysis can be performed"
   ],
   "metadata": {
    "collapsed": false
   },
   "id": "790a09d6d2228b29"
  },
  {
   "cell_type": "code",
   "execution_count": 4,
   "outputs": [],
   "source": [
    "import pandas as pd\n",
    "import numpy as np\n",
    "from astropy.table import Table\n",
    "from astroquery.gaia import Gaia\n",
    "\n",
    "Gaia.MAIN_GAIA_TABLE = \"gaiadr3.gaia_source\"  # Select Data Release 3, default"
   ],
   "metadata": {
    "collapsed": true,
    "ExecuteTime": {
     "end_time": "2024-01-19T03:37:25.099511200Z",
     "start_time": "2024-01-19T03:37:24.081222600Z"
    }
   },
   "id": "initial_id"
  },
  {
   "cell_type": "markdown",
   "source": [
    "## Log in to Gaia\n",
    "Use credentials from gaia/CREDENTIALS file"
   ],
   "metadata": {
    "collapsed": false
   },
   "id": "e75e297e2d06fb8d"
  },
  {
   "cell_type": "code",
   "execution_count": 5,
   "outputs": [
    {
     "name": "stdout",
     "output_type": "stream",
     "text": [
      "INFO: Login to gaia TAP server [astroquery.gaia.core]\n",
      "OK\n",
      "INFO: Login to gaia data server [astroquery.gaia.core]\n",
      "OK\n"
     ]
    }
   ],
   "source": [
    "Gaia.login(credentials_file='gaia/CREDENTIALS')\n",
    "username = 'mwidmaie'"
   ],
   "metadata": {
    "collapsed": false,
    "ExecuteTime": {
     "end_time": "2024-01-19T03:37:28.222471200Z",
     "start_time": "2024-01-19T03:37:26.555691300Z"
    }
   },
   "id": "2798bf2e713a35be"
  },
  {
   "cell_type": "markdown",
   "source": [
    "## Radii Data\n",
    "The initial radii dataset was insufficient, so we need to use another dataset and combine them into one. \n",
    "We will use the data from `data/stellar_ldd.vot` as well as some Gaia data to manually calculate the stellar radii (using trigonometry).\n",
    "\n",
    "If the stellar_ldd table is available locally, please use the `vizier_ii346.ipynb` notebook to download it from VizieR."
   ],
   "metadata": {
    "collapsed": false
   },
   "id": "c5695ec7e07aaac4"
  },
  {
   "cell_type": "code",
   "outputs": [
    {
     "name": "stdout",
     "output_type": "stream",
     "text": [
      "Retrieving table 'user_mwidmaie.stellar_ldd'\n",
      "500 Error 500:\n",
      "esavo.tap.TAPException: Code: 404, msg: Table 'user_mwidmaie.stellar_ldd' not found.\n",
      "Table does not exist, uploading from local machine.\n",
      "Sending file: data/stellar_ldd.vot\n",
      "Uploaded table 'stellar_ldd'.\n",
      "Retrieving table 'user_mwidmaie.stellar_ldd'\n"
     ]
    }
   ],
   "source": [
    "stellar_ldd_table_name = 'user_' + username + \".stellar_ldd\"\n",
    "\n",
    "try:\n",
    "    stellar_ldd = Gaia.load_table(stellar_ldd_table_name)\n",
    "except:\n",
    "    # Table doesn't exist so we're gonna upload from the local stellar_ldd.vot file\n",
    "    print(\"Table does not exist, uploading from local machine.\")\n",
    "    Gaia.upload_table(upload_resource=\"data/stellar_ldd.vot\", table_name='stellar_ldd', format=\"VOTable\")\n",
    "    stellar_ldd = Gaia.load_table(stellar_ldd_table_name)"
   ],
   "metadata": {
    "collapsed": false,
    "ExecuteTime": {
     "end_time": "2024-01-19T03:38:20.158484400Z",
     "start_time": "2024-01-19T03:37:30.846287700Z"
    }
   },
   "id": "50614072eb49bab4",
   "execution_count": 6
  },
  {
   "cell_type": "markdown",
   "source": [
    "## Update metadata for stellar_ldd\n",
    "This will make the next steps a lot easier. (and faster)"
   ],
   "metadata": {
    "collapsed": false
   },
   "id": "4cf370ce7c2369be"
  },
  {
   "cell_type": "code",
   "outputs": [
    {
     "name": "stdout",
     "output_type": "stream",
     "text": [
      "Retrieving table 'user_mwidmaie.stellar_ldd'\n",
      "Table 'user_mwidmaie.stellar_ldd' updated.\n"
     ]
    }
   ],
   "source": [
    "Gaia.update_user_table(table_name=stellar_ldd_table_name,\n",
    "                           list_of_changes=[['\"RAJ2000\"', 'flags', 'Ra'], ['\"DEJ2000\"', 'flags', 'Dec'],\n",
    "                                            ['\"RAJ2000\"', 'indexed', True], ['\"DEJ2000\"', 'indexed', True]])"
   ],
   "metadata": {
    "collapsed": false,
    "ExecuteTime": {
     "end_time": "2024-01-19T03:23:57.977863200Z",
     "start_time": "2024-01-19T03:23:55.571555100Z"
    }
   },
   "id": "6a58b0ece0909f65",
   "execution_count": 4
  },
  {
   "cell_type": "markdown",
   "source": [
    "## Retrieving Gaia Parallax and Parallax Error\n",
    "We need to retrieve the parallax and parallax error from Gaia for each star in the stellar_ldd table.\n",
    "\n",
    "With this data, we can calculate the distance to the star, and then use the angular diameter from the stellar_ldd table to calculate the stellar radius.\n",
    "We can combine the data using the following ADQL query:\n",
    "```sql\n",
    "SELECT TOP 100000 recno, source_id, Name, RAJ2000, DEJ2000, LDD, e_LDD, ra as gaia_ra, dec as gaia_dec, vmag, parallax, parallax_error,\n",
    "DISTANCE(\n",
    "    POINT(RAJ2000, DEJ2000),\n",
    "    POINT(ra, dec)\n",
    ") * 3600. AS dist_arcsec\n",
    "FROM user_<username>.stellar_ldd AS stellar_ldd\n",
    "JOIN gaiadr3.gaia_source AS gaia\n",
    "-- Geometric Cross-Match: =======\n",
    "ON DISTANCE(\n",
    "    POINT(RAJ2000, DEJ2000),\n",
    "    POINT(ra, dec)\n",
    ") < 1.8 / 3600.\n",
    "-- Condition: ===================\n",
    "WHERE ABS(vmag - phot_g_mean_mag) < 2.\n",
    "```\n",
    "\n",
    "Processing will be done in Python."
   ],
   "metadata": {
    "collapsed": false
   },
   "id": "3071e57a45a0f7ce"
  },
  {
   "cell_type": "code",
   "outputs": [
    {
     "name": "stdout",
     "output_type": "stream",
     "text": [
      "Launched query: 'SELECT TOP 466000 recno, source_id, Name, RAJ2000, DEJ2000, ra as gaia_ra, dec as gaia_dec, vmag, parallax, parallax_error, LDD, e_LDD,\n",
      "DISTANCE(\n",
      "    POINT(RAJ2000, DEJ2000),\n",
      "    POINT(ra, dec)\n",
      ") * 3600. AS dist_arcsec\n",
      "FROM user_mwidmaie.stellar_ldd AS stellar_ldd\n",
      "JOIN gaiadr3.gaia_source AS gaia\n",
      "-- Geometric Cross-Match: =======\n",
      "ON DISTANCE(\n",
      "    POINT(RAJ2000, DEJ2000),\n",
      "    POINT(ra, dec)\n",
      ") < 1.8 / 3600.\n",
      "-- Condition: ===================\n",
      "WHERE ABS(vmag - phot_g_mean_mag) < 2.'\n",
      "------>https\n",
      "host = gea.esac.esa.int:443\n",
      "context = /tap-server/tap/sync\n",
      "Content-type = application/x-www-form-urlencoded\n",
      "200 200\n",
      "[('Date', 'Fri, 19 Jan 2024 03:24:01 GMT'), ('Server', 'Apache/2.4.6 (CentOS) OpenSSL/1.0.2k-fips mod_jk/1.2.43'), ('Cache-Control', 'no-cache, no-store, max-age=0, must-revalidate'), ('Pragma', 'no-cache'), ('Expires', '0'), ('X-XSS-Protection', '1; mode=block'), ('X-Frame-Options', 'SAMEORIGIN'), ('X-Content-Type-Options', 'nosniff'), ('Content-Encoding', 'gzip'), ('Content-Disposition', 'attachment;filename=\"1705634641838O-result.vot\"'), ('Transfer-Encoding', 'chunked'), ('Content-Type', 'application/x-votable+xml')]\n",
      "Retrieving sync. results...\n",
      "Saving results to: data/stellar_ldd_gaia.vot.gz\n",
      "Query finished.\n"
     ]
    }
   ],
   "source": [
    "import gzip\n",
    "\n",
    "job = Gaia.launch_job(f\"\"\"SELECT TOP 100000 recno, source_id, Name, RAJ2000, DEJ2000, ra as gaia_ra, dec as gaia_dec, vmag, parallax, parallax_error, LDD, e_LDD,\n",
    "DISTANCE(\n",
    "    POINT(RAJ2000, DEJ2000),\n",
    "    POINT(ra, dec)\n",
    ") * 3600. AS dist_arcsec\n",
    "FROM {stellar_ldd_table_name} AS stellar_ldd\n",
    "JOIN gaiadr3.gaia_source AS gaia\n",
    "-- Geometric Cross-Match: =======\n",
    "ON DISTANCE(\n",
    "    POINT(RAJ2000, DEJ2000),\n",
    "    POINT(ra, dec)\n",
    ") < 1.8 / 3600.\n",
    "-- Condition: ===================\n",
    "WHERE ABS(vmag - phot_g_mean_mag) < 2.\"\"\", dump_to_file=True, output_format='votable',\n",
    "                      output_file='data/stellar_ldd_gaia.vot.gz', verbose=True)\n",
    "\n",
    "results = job.get_results()\n",
    "\n",
    "with gzip.open('data/stellar_ldd_gaia.vot.gz', 'rb') as f:\n",
    "    with open('data/stellar_ldd_gaia.vot', 'wb') as f2:\n",
    "        f2.write(f.read())"
   ],
   "metadata": {
    "collapsed": false,
    "ExecuteTime": {
     "end_time": "2024-01-19T03:24:14.881124Z",
     "start_time": "2024-01-19T03:24:00.271137600Z"
    }
   },
   "id": "8529aac6a05a9b41",
   "execution_count": 5
  },
  {
   "cell_type": "markdown",
   "source": [
    "## Calculating Stellar Radii\n",
    "### Calculating Distance\n",
    "We can calculate the distance to the star using the parallax from Gaia, using the following formula:\n",
    "![Distance Formula](imgs/latex_distance.png)\n",
    "Where:\n",
    "d = distance to star (in parsecs)\n",
    "p = parallax angle (in mas)\n",
    "\n",
    "### Calculating Stellar Radius\n",
    "We can calculate the stellar radius using the angular diameter from the stellar_ldd table, using the following formula:\n",
    "![Stellar Radius Formula](imgs/latex_radius.png)\n",
    "Where:\n",
    "r_star = stellar radius (in kilometers)\n",
    "d = distance to star (in parsecs)\n",
    "theta = angular diameter (in radians)\n",
    "\n",
    "### Calculating Stellar Radius Error\n",
    "We can calculate the stellar radius error using the following formula:\n",
    "![Stellar Radius Error Formula](imgs/latex_radius_error.png)"
   ],
   "metadata": {
    "collapsed": false
   },
   "id": "5412b376d4a3a84c"
  },
  {
   "cell_type": "code",
   "outputs": [
    {
     "name": "stdout",
     "output_type": "stream",
     "text": [
      "0.0034094556796703847\n",
      "0.005114183519505577\n"
     ]
    },
    {
     "data": {
      "text/plain": "                 source_id     gaia_ra  gaia_dec    radius  radius_error  \\\n0          122737281195008   45.196005  0.993298  1.867323      0.046258   \n1          261756782464128   45.871279  1.512243  1.746986      0.047853   \n2          332469124171904   44.819887  1.244554  3.469091      0.095540   \n3          564397358129664   46.329107  1.270990  5.944965      0.186298   \n4          613978460597248   46.935937  1.847510  1.982953      0.050461   \n...                    ...         ...       ...       ...           ...   \n68653  6917265660248260736  314.118203 -1.569706  1.899961      0.043308   \n68654  6917321597900574720  313.972545 -1.338387  2.465559      0.067975   \n68655  6917474670535481728  314.853266 -0.539722  1.780285      0.043626   \n68656  6917489002841762304  314.741707 -0.423198  2.261141      0.058850   \n68657  6917504975824469248  315.282884 -0.343185  1.729567      0.045260   \n\n       radius_error_ratio  \n0                0.024773  \n1                0.027392  \n2                0.027540  \n3                0.031337  \n4                0.025447  \n...                   ...  \n68653            0.022794  \n68654            0.027570  \n68655            0.024505  \n68656            0.026026  \n68657            0.026169  \n\n[64379 rows x 6 columns]",
      "text/html": "<div>\n<style scoped>\n    .dataframe tbody tr th:only-of-type {\n        vertical-align: middle;\n    }\n\n    .dataframe tbody tr th {\n        vertical-align: top;\n    }\n\n    .dataframe thead th {\n        text-align: right;\n    }\n</style>\n<table border=\"1\" class=\"dataframe\">\n  <thead>\n    <tr style=\"text-align: right;\">\n      <th></th>\n      <th>source_id</th>\n      <th>gaia_ra</th>\n      <th>gaia_dec</th>\n      <th>radius</th>\n      <th>radius_error</th>\n      <th>radius_error_ratio</th>\n    </tr>\n  </thead>\n  <tbody>\n    <tr>\n      <th>0</th>\n      <td>122737281195008</td>\n      <td>45.196005</td>\n      <td>0.993298</td>\n      <td>1.867323</td>\n      <td>0.046258</td>\n      <td>0.024773</td>\n    </tr>\n    <tr>\n      <th>1</th>\n      <td>261756782464128</td>\n      <td>45.871279</td>\n      <td>1.512243</td>\n      <td>1.746986</td>\n      <td>0.047853</td>\n      <td>0.027392</td>\n    </tr>\n    <tr>\n      <th>2</th>\n      <td>332469124171904</td>\n      <td>44.819887</td>\n      <td>1.244554</td>\n      <td>3.469091</td>\n      <td>0.095540</td>\n      <td>0.027540</td>\n    </tr>\n    <tr>\n      <th>3</th>\n      <td>564397358129664</td>\n      <td>46.329107</td>\n      <td>1.270990</td>\n      <td>5.944965</td>\n      <td>0.186298</td>\n      <td>0.031337</td>\n    </tr>\n    <tr>\n      <th>4</th>\n      <td>613978460597248</td>\n      <td>46.935937</td>\n      <td>1.847510</td>\n      <td>1.982953</td>\n      <td>0.050461</td>\n      <td>0.025447</td>\n    </tr>\n    <tr>\n      <th>...</th>\n      <td>...</td>\n      <td>...</td>\n      <td>...</td>\n      <td>...</td>\n      <td>...</td>\n      <td>...</td>\n    </tr>\n    <tr>\n      <th>68653</th>\n      <td>6917265660248260736</td>\n      <td>314.118203</td>\n      <td>-1.569706</td>\n      <td>1.899961</td>\n      <td>0.043308</td>\n      <td>0.022794</td>\n    </tr>\n    <tr>\n      <th>68654</th>\n      <td>6917321597900574720</td>\n      <td>313.972545</td>\n      <td>-1.338387</td>\n      <td>2.465559</td>\n      <td>0.067975</td>\n      <td>0.027570</td>\n    </tr>\n    <tr>\n      <th>68655</th>\n      <td>6917474670535481728</td>\n      <td>314.853266</td>\n      <td>-0.539722</td>\n      <td>1.780285</td>\n      <td>0.043626</td>\n      <td>0.024505</td>\n    </tr>\n    <tr>\n      <th>68656</th>\n      <td>6917489002841762304</td>\n      <td>314.741707</td>\n      <td>-0.423198</td>\n      <td>2.261141</td>\n      <td>0.058850</td>\n      <td>0.026026</td>\n    </tr>\n    <tr>\n      <th>68657</th>\n      <td>6917504975824469248</td>\n      <td>315.282884</td>\n      <td>-0.343185</td>\n      <td>1.729567</td>\n      <td>0.045260</td>\n      <td>0.026169</td>\n    </tr>\n  </tbody>\n</table>\n<p>64379 rows × 6 columns</p>\n</div>"
     },
     "execution_count": 10,
     "metadata": {},
     "output_type": "execute_result"
    }
   ],
   "source": [
    "import numpy as np\n",
    "\n",
    "df = Table.read('data/stellar_ldd_gaia.vot').to_pandas()\n",
    "df['distance'] = 1000 / df['parallax']  # Convert parallax to distance in km\n",
    "df['LDD_rad'] = df[\n",
    "                    'LDD'] / 1000 / 3600 * np.pi / 180  # Convert LDD to radians (First convert to arcseconds, then to degrees, then to radians)\n",
    "df['e_LDD_rad'] = df['e_LDD'] / 1000 / 3600 * np.pi / 180  # Convert e_LDD to radians\n",
    "df['radius'] = 1 / 2 * df['distance'] * np.tan(df['LDD_rad']) * 3.086e+13  # Calculate radius in km \n",
    "df['distance_error'] = 1000 / np.square(df['parallax']) * df['parallax_error']  # Calculate distance error in parsecs\n",
    "df['distance_error_ratio'] = df['distance_error'] / df['distance']  # Calculate distance error as a ratio\n",
    "df['radius_error'] = np.sqrt(\n",
    "    np.square(1 / 2 * df['distance'] * 1 / (np.square(np.cos(df['LDD_rad']))) * df['e_LDD_rad']) + np.square(\n",
    "        1 / 2 * df['distance_error'] * df['parallax_error'] * np.tan(\n",
    "            df['LDD_rad']))) * 3.086e+13  # Calculate radius error in km\n",
    "df['radius_error_ratio'] = df['radius_error'] / df['radius']  # Calculate radius error as a ratio\n",
    "\n",
    "df['radius'] = df['radius'] / 695700  # Convert radius to solar radii\n",
    "df['radius_error'] = df['radius_error'] / 695700  # Convert radius error to solar radii\n",
    "\n",
    "df.drop(columns=['LDD_rad', 'e_LDD_rad'], inplace=True)\n",
    "df.dropna(subset=['distance', 'distance_error', 'radius', 'radius_error', 'source_id', 'gaia_dec', 'gaia_ra'],\n",
    "          inplace=True)\n",
    "df.drop(columns=['parallax', 'parallax_error', 'LDD', 'e_LDD', 'RAJ2000', 'DEJ2000', 'Name', 'dist_arcsec', 'vmag',\n",
    "                 'distance', 'distance_error', 'distance_error_ratio', 'recno'], inplace=True)\n",
    "\n",
    "# There are some extreme errors, however we do error filtering later so we don't need to worry about it here (e.g. negative radii)\n",
    "\n",
    "df"
   ],
   "metadata": {
    "collapsed": false,
    "ExecuteTime": {
     "end_time": "2024-01-19T03:28:03.396285900Z",
     "start_time": "2024-01-19T03:28:00.407386200Z"
    }
   },
   "id": "dd6302d276913997",
   "execution_count": 10
  },
  {
   "cell_type": "code",
   "outputs": [
    {
     "name": "stdout",
     "output_type": "stream",
     "text": [
      "Sending file: data/stellar_radii_finalized.vot\n",
      "Uploaded table 'stellar_radii'.\n",
      "Retrieving table 'user_mwidmaie.stellar_radii'\n",
      "Table 'user_mwidmaie.stellar_radii' updated.\n",
      "Table 'user_mwidmaie.stellar_ldd' deleted.\n"
     ]
    }
   ],
   "source": [
    "# Save as a VOTable and upload to Gaia\n",
    "stellar_radii_table_name = 'user_' + username + \".stellar_radii\"\n",
    "stellar_radii_vot = Table.from_pandas(df)\n",
    "stellar_radii_vot.write('data/stellar_radii_finalized.vot', format='votable', overwrite=True)\n",
    "\n",
    "Gaia.upload_table(upload_resource='data/stellar_radii_finalized.vot', table_name='stellar_radii', format='votable')\n",
    "Gaia.update_user_table(table_name=stellar_radii_table_name,\n",
    "                       list_of_changes=[['gaia_ra', 'flags', 'Ra'], ['gaia_dec', 'flags', 'Dec'],\n",
    "                                        ['gaia_ra', 'indexed', True], ['gaia_dec', 'indexed', True]])\n",
    "Gaia.delete_user_table(table_name=stellar_ldd_table_name)  # Delete the old stellar_ldd table"
   ],
   "metadata": {
    "collapsed": false,
    "ExecuteTime": {
     "end_time": "2024-01-19T03:30:21.665157200Z",
     "start_time": "2024-01-19T03:29:32.418861Z"
    }
   },
   "id": "f6978ff14ca71c5e",
   "execution_count": 11
  },
  {
   "cell_type": "markdown",
   "source": [
    "## Collating with stellar mass data\n",
    "Using data from `data/stellar_radii_combined.vot` we can pair up the Gaia source ids from `data/stellar_masses.rawdata` to form a new dataset including both radii and mass, 2 of the 3 data points we need to calculate stellar core temperature"
   ],
   "metadata": {
    "collapsed": false
   },
   "id": "cabf31e44cdc6d78"
  },
  {
   "cell_type": "code",
   "outputs": [
    {
     "name": "stdout",
     "output_type": "stream",
     "text": [
      "Downloading data from https://cdsarc.cds.unistra.fr/viz-bin/nph-Cat/txt?I/360/binmass.dat... This may take a while.\n",
      "Download complete, processing...\n",
      "Done\n"
     ]
    }
   ],
   "source": [
    "# We need to download and pre-process the data from https://cdsarc.cds.unistra.fr/viz-bin/nph-Cat/txt?I/360/binmass.dat.gz\n",
    "# This is a table of stellar masses\n",
    "import requests\n",
    "\n",
    "url = 'https://cdsarc.cds.unistra.fr/viz-bin/nph-Cat/txt?I/360/binmass.dat'\n",
    "print(\"Downloading data from \" + url + \"... This may take a while.\")\n",
    "r = requests.get(url, allow_redirects=True)\n",
    "\n",
    "with open('data/binmass.rawdata', 'wb') as f:\n",
    "    f.write(r.content)\n",
    "\n",
    "print('Download complete, processing...')\n",
    "fixed_content = ''\n",
    "# Now we need to process the data, since it's not in a standard format\n",
    "with open('data/binmass.rawdata', 'r') as f:\n",
    "    lines = f.readlines()[4:-1]\n",
    "    for line in lines:\n",
    "        if line[0] == '#' or line[0] == '-':\n",
    "            continue\n",
    "        content = line.replace('|', ',')\n",
    "        ra_and_dec = content.split(',')[13]\n",
    "        ra = ra_and_dec.split(' ')[0]\n",
    "        dec = ra_and_dec.split(' ')[-1]\n",
    "        content = content.replace(ra_and_dec, ra + ',' + dec).replace(' ', '')\n",
    "        fixed_content += content\n",
    "\n",
    "with open('data/stellar_masses.rawdata', 'w') as f:\n",
    "    f.write(fixed_content)\n",
    "\n",
    "print('Done')"
   ],
   "metadata": {
    "collapsed": false,
    "ExecuteTime": {
     "end_time": "2024-01-19T03:31:18.186928Z",
     "start_time": "2024-01-19T03:30:21.662642100Z"
    }
   },
   "id": "3011ec5d1e172768",
   "execution_count": 12
  },
  {
   "cell_type": "markdown",
   "source": [
    "## Uploading stellar_masses to Gaia\n",
    "We need to upload the stellar_masses data to Gaia so we can join it with the stellar_radii data."
   ],
   "metadata": {
    "collapsed": false
   },
   "id": "f9420d6cb567b0ab"
  },
  {
   "cell_type": "code",
   "outputs": [
    {
     "name": "stdout",
     "output_type": "stream",
     "text": [
      "Sending file: data/stellar_masses.vot\n",
      "Uploaded table 'stellar_masses'.\n"
     ]
    }
   ],
   "source": [
    "# Load stellar_masses.rawdata as a Pandas DataFrame\n",
    "\n",
    "# Removed the column headers because they weren't specific enough, we'll use these column names instead\n",
    "columns = ['source_id', 'mass_primary', 'mass_primary_lower', 'mass_primary_upper', 'mass_secondary',\n",
    "           'mass_secondary_lower', 'mass_secondary_upper', 'flux_ratio', 'flux_ratio_lower',\n",
    "           'flux_ratio_upper', 'method', 'reference_for_primary_mass', 'flag', 'ra2016', 'dec2016']\n",
    "\n",
    "# Load the data into a Pandas DataFrame\n",
    "stellar_masses = pd.read_csv('data/stellar_masses.rawdata', names=columns, skiprows=4)\n",
    "stellar_masses.drop(\n",
    "    columns=['mass_secondary_lower', 'mass_secondary_upper', 'flux_ratio_lower', 'flux_ratio_upper', 'flag', 'method',\n",
    "             'reference_for_primary_mass'], inplace=True)\n",
    "\n",
    "# Drop any with NaN ra or dec\n",
    "stellar_masses.dropna(subset=['ra2016', 'dec2016'], inplace=True)\n",
    "\n",
    "# Save as a VOTable\n",
    "stellar_masses_vot = Table.from_pandas(stellar_masses)\n",
    "stellar_masses_vot.write('data/stellar_masses.vot', format='votable', overwrite=True)\n",
    "\n",
    "# Upload to Gaia\n",
    "Gaia.upload_table(upload_resource='data/stellar_masses.vot', table_name='stellar_masses', format='votable')"
   ],
   "metadata": {
    "collapsed": false,
    "is_executing": true,
    "ExecuteTime": {
     "start_time": "2024-01-19T03:31:27.693876400Z"
    }
   },
   "id": "2d4caf1bc2caf33b",
   "execution_count": null
  },
  {
   "cell_type": "code",
   "outputs": [
    {
     "name": "stdout",
     "output_type": "stream",
     "text": [
      "Retrieving table 'user_mwidmaie.stellar_masses'\n",
      "Table 'user_mwidmaie.stellar_masses' updated.\n"
     ]
    }
   ],
   "source": [
    "# Add metadata to the table\n",
    "stellar_masses_table_name = 'user_' + username + \".stellar_masses\"\n",
    "\n",
    "Gaia.update_user_table(table_name=stellar_masses_table_name,\n",
    "                       list_of_changes=[['ra2016', 'flags', 'Ra'], ['dec2016', 'flags', 'Dec'],\n",
    "                                        ['ra2016', 'indexed', True], ['dec2016', 'indexed', True]])"
   ],
   "metadata": {
    "collapsed": false,
    "ExecuteTime": {
     "end_time": "2024-01-19T03:39:57.614699200Z",
     "start_time": "2024-01-19T03:39:55.457388300Z"
    }
   },
   "id": "6d7ebe071bfa56d5",
   "execution_count": 7
  },
  {
   "cell_type": "markdown",
   "source": [
    "## Joining stellar_masses and stellar_radii\n",
    "\n",
    "We can join the stellar_masses and stellar_radii tables using the following ADQL query:\n",
    "```sql\n",
    "SELECT TOP 150000 stellar_radii.source_id, gaia_ra as ra, gaia_dec as dec, radius, radius_error, mass_primary, mass_secondary, mass_primary_lower, mass_primary_upper\n",
    "FROM {stellar_radii_table_name} AS stellar_radii\n",
    "JOIN {stellar_masses_table_name} AS stellar_masses\n",
    "ON stellar_radii.source_id = stellar_masses.source_id\n",
    "```"
   ],
   "metadata": {
    "collapsed": false
   },
   "id": "9a1174621d8a3b99"
  },
  {
   "cell_type": "code",
   "outputs": [
    {
     "name": "stdout",
     "output_type": "stream",
     "text": [
      "Retrieving table 'user_mwidmaie.stellar_masses_and_radii'\n",
      "500 Error 500:\n",
      "esavo.tap.TAPException: Code: 404, msg: Table 'user_mwidmaie.stellar_masses_and_radii' not found.\n",
      "Table does not exist, running queries and uploading from local machine.\n",
      "Launched query: 'SELECT TOP 150000 stellar_radii.source_id, gaia_ra as ra, gaia_dec as dec, radius, radius_error, mass_primary, mass_secondary, mass_primary_lower, mass_primary_upper\n",
      "FROM user_mwidmaie.stellar_radii AS stellar_radii\n",
      "JOIN user_mwidmaie.stellar_masses AS stellar_masses\n",
      "ON stellar_radii.source_id = stellar_masses.source_id'\n",
      "------>https\n",
      "host = gea.esac.esa.int:443\n",
      "context = /tap-server/tap/sync\n",
      "Content-type = application/x-www-form-urlencoded\n",
      "200 200\n",
      "[('Date', 'Fri, 19 Jan 2024 03:40:18 GMT'), ('Server', 'Apache/2.4.6 (CentOS) OpenSSL/1.0.2k-fips mod_jk/1.2.43'), ('Cache-Control', 'no-cache, no-store, max-age=0, must-revalidate'), ('Pragma', 'no-cache'), ('Expires', '0'), ('X-XSS-Protection', '1; mode=block'), ('X-Frame-Options', 'SAMEORIGIN'), ('X-Content-Type-Options', 'nosniff'), ('Content-Encoding', 'gzip'), ('Content-Disposition', 'attachment;filename=\"1705635618529O-result.vot\"'), ('Transfer-Encoding', 'chunked'), ('Content-Type', 'application/x-votable+xml')]\n",
      "Retrieving sync. results...\n",
      "Saving results to: data/stellar_masses_and_radii.vot.gz\n",
      "Query finished.\n",
      "Sending file: data/stellar_masses_and_radii.vot\n",
      "Uploaded table 'stellar_masses_and_radii'.\n",
      "Retrieving table 'user_mwidmaie.stellar_masses_and_radii'\n",
      "Table 'user_mwidmaie.stellar_masses_and_radii' updated.\n",
      "Table 'user_mwidmaie.stellar_radii' deleted.\n",
      "Table 'user_mwidmaie.stellar_masses' deleted.\n"
     ]
    }
   ],
   "source": [
    "import gzip\n",
    "\n",
    "stellar_radii_table_name = 'user_' + username + \".stellar_radii\"\n",
    "stellar_masses_table_name = 'user_' + username + \".stellar_masses\"\n",
    "combined_table_name = 'user_' + username + \".stellar_masses_and_radii\"\n",
    "\n",
    "try:\n",
    "    stellar_mass_and_radii = Gaia.load_table(combined_table_name)\n",
    "except:\n",
    "    # Table doesn't exist so we're gonna upload from the local stellar_ldd.vot file\n",
    "    print(\"Table does not exist, running queries and uploading from local machine.\")\n",
    "    job = Gaia.launch_job(f\"\"\"SELECT TOP 150000 stellar_radii.source_id, gaia_ra as ra, gaia_dec as dec, radius, radius_error, mass_primary, mass_secondary, mass_primary_lower, mass_primary_upper\n",
    "FROM {stellar_radii_table_name} AS stellar_radii\n",
    "JOIN {stellar_masses_table_name} AS stellar_masses\n",
    "ON stellar_radii.source_id = stellar_masses.source_id\"\"\", dump_to_file=True, output_format='votable',\n",
    "                          output_file='data/stellar_masses_and_radii.vot.gz', verbose=True)\n",
    "\n",
    "    results = job.get_results()\n",
    "\n",
    "    with gzip.open('data/stellar_masses_and_radii.vot.gz', 'rb') as f:\n",
    "        with open('data/stellar_masses_and_radii.vot', 'wb') as f2:\n",
    "            f2.write(f.read())\n",
    "\n",
    "    table = Table.read('data/stellar_masses_and_radii.vot')\n",
    "    # Set units for the table\n",
    "    table['radius'].unit = 'Rsun'\n",
    "    table['radius_error'].unit = 'Rsun'\n",
    "    table['mass_primary'].unit = 'Msun'\n",
    "    table['mass_secondary'].unit = 'Msun'\n",
    "    table['mass_primary_lower'].unit = 'Msun'\n",
    "    table['mass_primary_upper'].unit = 'Msun'\n",
    "    table['ra'].unit = 'deg'\n",
    "    table['dec'].unit = 'deg'\n",
    "\n",
    "    # Save as a VOTable and upload to Gaia\n",
    "    table.write('data/stellar_masses_and_radii.vot', format='votable', overwrite=True)\n",
    "\n",
    "    Gaia.upload_table(upload_resource='data/stellar_masses_and_radii.vot', table_name='stellar_masses_and_radii',\n",
    "                      format='votable')\n",
    "    Gaia.update_user_table(table_name=combined_table_name,\n",
    "                           list_of_changes=[['ra', 'flags', 'Ra'], ['dec', 'flags', 'Dec'], ['ra', 'indexed', True],\n",
    "                                            ['dec', 'indexed', True]])\n",
    "\n",
    "    # Remove the old tables\n",
    "    Gaia.delete_user_table(table_name=stellar_radii_table_name)\n",
    "    Gaia.delete_user_table(table_name=stellar_masses_table_name)"
   ],
   "metadata": {
    "collapsed": false,
    "ExecuteTime": {
     "end_time": "2024-01-19T03:40:25.146349200Z",
     "start_time": "2024-01-19T03:40:16.258362800Z"
    }
   },
   "id": "f55fb9180d764ba",
   "execution_count": 8
  },
  {
   "cell_type": "markdown",
   "source": [
    "## Calculating Stellar Core Temperature\n",
    "We can calculate the stellar core temperature using a generalized formula based on the Lane-Emden equation: (Solved using the Sun's data as a reference)\n",
    "\n",
    "According to [this paper](https://jila.colorado.edu/~ajsh/courses/astr1120_03/text/chapter5/Hydrostatic.htm), this equation works as a good generalization for all main sequence stars.\n",
    "\n",
    "The formula is as follows:\n",
    "![Stellar Core Temperature Formula](imgs/latex_core_temp.png)\n",
    "Where:\n",
    "`T sub c` = Stellar core temperature (in Kelvin)\n",
    "`M sub *` = Stellar mass (in solar masses)\n",
    "`R sub *` = Stellar radius (in radii)\n",
    "\n",
    "We will use pandas to calculate the core temperature for each star in the dataset."
   ],
   "metadata": {
    "collapsed": false
   },
   "id": "ef337259c021cb11"
  },
  {
   "cell_type": "code",
   "outputs": [],
   "source": [
    "import numpy as np\n",
    "# Load stellar_masses_and_radii.vot as a Pandas DataFrame\n",
    "combined_table_name = 'user_' + username + \".stellar_masses_and_radii\"\n",
    "combined_table: Table = Table.read('data/stellar_masses_and_radii.vot')\n",
    "combined_table_df = combined_table.to_pandas(index='source_id')\n",
    "\n",
    "# Calculate core temperature\n",
    "combined_table_df['core_temp'] = 1.5e+7 * combined_table_df['mass_primary'] / np.power(combined_table_df['radius'], -1)"
   ],
   "metadata": {
    "collapsed": false,
    "ExecuteTime": {
     "end_time": "2024-01-19T03:42:35.128174300Z",
     "start_time": "2024-01-19T03:42:35.063694700Z"
    }
   },
   "id": "dbd4d2a432cf0e51",
   "execution_count": 9
  },
  {
   "cell_type": "markdown",
   "source": [
    "## Calculating Stellar Core Temperature Error\n",
    "Now that we have the core temperature, we must calculate the error. This is a simple procedure relying on error propagation with multiplied values (`M sub *` and `R sub *`)\n",
    "\n",
    "The formula is as follows:\n",
    "![Stellar Core Temperature Error Formula](imgs/latex_core_temp_error.png)\n",
    "\n",
    "Where:\n",
    "`ΔT sub c` = Absolute stellar core temperature error (in Kelvin)\n",
    "`T sub c` = Stellar core temperature (in Kelvin)\n",
    "`ΔM sub *` = Stellar mass error (in solar masses), calculated using the following formula:\n",
    "![Stellar Mass Error Formula](imgs/latex_mass_error.png)\n",
    "\n",
    "Where:\n",
    "`ΔM sub *` = Stellar mass error (in solar masses)\n",
    "`M sub upper` = Upper stellar mass (in solar masses), Given\n",
    "`M sub lower` = Lower stellar mass (in solar masses), Given\n",
    "\n",
    "`ΔR sub *` = Stellar radius error (in solar radii), Given\n",
    "`M sub avg` = Average of upper and lower stellar masses (in solar masses)\n",
    "`R sub *` = Stellar radius (in solar radii), Given\n",
    "\n",
    "We will use pandas to calculate the core temperature error for each star in the dataset."
   ],
   "metadata": {
    "collapsed": false
   },
   "id": "ddec02fada2a15af"
  },
  {
   "cell_type": "code",
   "outputs": [
    {
     "data": {
      "text/plain": "                             ra        dec    radius  radius_error  \\\nsource_id                                                            \n1011264588308575232  139.380013  46.817283  2.638851      0.072963   \n1074883087005896320  176.484167  72.095963  0.941160      0.021266   \n1139059897091616512  124.128159  79.500683  1.380779      0.034046   \n1154494768307323776  223.466160   2.775011  1.254070      0.037613   \n1155587858959873024  227.075234   3.930532  1.415924      0.034139   \n...                         ...        ...       ...           ...   \n831063566054567552   163.460409  46.155726  2.345910      0.056095   \n842730209053336192   168.799737  54.157511  0.756177      0.021433   \n862138371693741312   170.147868  62.364017  2.097585      0.050723   \n885312542050123904   108.661626  28.441399  1.167791      0.025482   \n922860108223833984   121.791378  43.260211  3.156882      0.085017   \n\n                     mass_primary  mass_secondary  mass_primary_lower  \\\nsource_id                                                               \n1011264588308575232      2.064137        1.648135            1.975810   \n1074883087005896320      0.773057        0.097968            0.724040   \n1139059897091616512      1.074839             NaN            0.977008   \n1154494768307323776      1.252971        0.390569            1.195053   \n1155587858959873024      1.069516             NaN            1.000609   \n...                           ...             ...                 ...   \n831063566054567552       1.381726        0.583708            1.305733   \n842730209053336192       0.677829             NaN            0.543633   \n862138371693741312       1.492176             NaN            1.436168   \n885312542050123904       0.952562             NaN            0.892327   \n922860108223833984       2.477262        1.888069            2.368794   \n\n                     mass_primary_upper     core_temp  mass_error  mass_avg  \\\nsource_id                                                                     \n1011264588308575232            2.161963  8.170424e+07    0.093076  2.068886   \n1074883087005896320            0.825749  1.091355e+07    0.050855  0.774895   \n1139059897091616512            1.132453  2.226174e+07    0.077723  1.054730   \n1154494768307323776            1.303416  2.356969e+07    0.054182  1.249234   \n1155587858959873024            1.127263  2.271529e+07    0.063327  1.063936   \n...                                 ...           ...         ...       ...   \n831063566054567552             1.445168  4.862108e+07    0.069718  1.375450   \n842730209053336192             0.727880  7.688387e+06    0.092124  0.635756   \n862138371693741312             1.548184  4.694950e+07    0.056008  1.492176   \n885312542050123904             1.009213  1.668590e+07    0.058443  0.950770   \n922860108223833984             2.599014  1.173064e+08    0.115110  2.483904   \n\n                     core_temp_rel_error  core_temp_abs_error  \nsource_id                                                      \n1011264588308575232             0.085718         7.003552e+06  \n1074883087005896320             0.068987         7.528970e+05  \n1139059897091616512             0.081174         1.807085e+06  \n1154494768307323776             0.057410         1.353129e+06  \n1155587858959873024             0.068617         1.558654e+06  \n...                                  ...                  ...  \n831063566054567552              0.075603         3.675902e+06  \n842730209053336192              0.146480         1.126198e+06  \n862138371693741312              0.063100         2.962510e+06  \n885312542050123904              0.066542         1.110307e+06  \n922860108223833984              0.096827         1.135842e+07  \n\n[1908 rows x 13 columns]",
      "text/html": "<div>\n<style scoped>\n    .dataframe tbody tr th:only-of-type {\n        vertical-align: middle;\n    }\n\n    .dataframe tbody tr th {\n        vertical-align: top;\n    }\n\n    .dataframe thead th {\n        text-align: right;\n    }\n</style>\n<table border=\"1\" class=\"dataframe\">\n  <thead>\n    <tr style=\"text-align: right;\">\n      <th></th>\n      <th>ra</th>\n      <th>dec</th>\n      <th>radius</th>\n      <th>radius_error</th>\n      <th>mass_primary</th>\n      <th>mass_secondary</th>\n      <th>mass_primary_lower</th>\n      <th>mass_primary_upper</th>\n      <th>core_temp</th>\n      <th>mass_error</th>\n      <th>mass_avg</th>\n      <th>core_temp_rel_error</th>\n      <th>core_temp_abs_error</th>\n    </tr>\n    <tr>\n      <th>source_id</th>\n      <th></th>\n      <th></th>\n      <th></th>\n      <th></th>\n      <th></th>\n      <th></th>\n      <th></th>\n      <th></th>\n      <th></th>\n      <th></th>\n      <th></th>\n      <th></th>\n      <th></th>\n    </tr>\n  </thead>\n  <tbody>\n    <tr>\n      <th>1011264588308575232</th>\n      <td>139.380013</td>\n      <td>46.817283</td>\n      <td>2.638851</td>\n      <td>0.072963</td>\n      <td>2.064137</td>\n      <td>1.648135</td>\n      <td>1.975810</td>\n      <td>2.161963</td>\n      <td>8.170424e+07</td>\n      <td>0.093076</td>\n      <td>2.068886</td>\n      <td>0.085718</td>\n      <td>7.003552e+06</td>\n    </tr>\n    <tr>\n      <th>1074883087005896320</th>\n      <td>176.484167</td>\n      <td>72.095963</td>\n      <td>0.941160</td>\n      <td>0.021266</td>\n      <td>0.773057</td>\n      <td>0.097968</td>\n      <td>0.724040</td>\n      <td>0.825749</td>\n      <td>1.091355e+07</td>\n      <td>0.050855</td>\n      <td>0.774895</td>\n      <td>0.068987</td>\n      <td>7.528970e+05</td>\n    </tr>\n    <tr>\n      <th>1139059897091616512</th>\n      <td>124.128159</td>\n      <td>79.500683</td>\n      <td>1.380779</td>\n      <td>0.034046</td>\n      <td>1.074839</td>\n      <td>NaN</td>\n      <td>0.977008</td>\n      <td>1.132453</td>\n      <td>2.226174e+07</td>\n      <td>0.077723</td>\n      <td>1.054730</td>\n      <td>0.081174</td>\n      <td>1.807085e+06</td>\n    </tr>\n    <tr>\n      <th>1154494768307323776</th>\n      <td>223.466160</td>\n      <td>2.775011</td>\n      <td>1.254070</td>\n      <td>0.037613</td>\n      <td>1.252971</td>\n      <td>0.390569</td>\n      <td>1.195053</td>\n      <td>1.303416</td>\n      <td>2.356969e+07</td>\n      <td>0.054182</td>\n      <td>1.249234</td>\n      <td>0.057410</td>\n      <td>1.353129e+06</td>\n    </tr>\n    <tr>\n      <th>1155587858959873024</th>\n      <td>227.075234</td>\n      <td>3.930532</td>\n      <td>1.415924</td>\n      <td>0.034139</td>\n      <td>1.069516</td>\n      <td>NaN</td>\n      <td>1.000609</td>\n      <td>1.127263</td>\n      <td>2.271529e+07</td>\n      <td>0.063327</td>\n      <td>1.063936</td>\n      <td>0.068617</td>\n      <td>1.558654e+06</td>\n    </tr>\n    <tr>\n      <th>...</th>\n      <td>...</td>\n      <td>...</td>\n      <td>...</td>\n      <td>...</td>\n      <td>...</td>\n      <td>...</td>\n      <td>...</td>\n      <td>...</td>\n      <td>...</td>\n      <td>...</td>\n      <td>...</td>\n      <td>...</td>\n      <td>...</td>\n    </tr>\n    <tr>\n      <th>831063566054567552</th>\n      <td>163.460409</td>\n      <td>46.155726</td>\n      <td>2.345910</td>\n      <td>0.056095</td>\n      <td>1.381726</td>\n      <td>0.583708</td>\n      <td>1.305733</td>\n      <td>1.445168</td>\n      <td>4.862108e+07</td>\n      <td>0.069718</td>\n      <td>1.375450</td>\n      <td>0.075603</td>\n      <td>3.675902e+06</td>\n    </tr>\n    <tr>\n      <th>842730209053336192</th>\n      <td>168.799737</td>\n      <td>54.157511</td>\n      <td>0.756177</td>\n      <td>0.021433</td>\n      <td>0.677829</td>\n      <td>NaN</td>\n      <td>0.543633</td>\n      <td>0.727880</td>\n      <td>7.688387e+06</td>\n      <td>0.092124</td>\n      <td>0.635756</td>\n      <td>0.146480</td>\n      <td>1.126198e+06</td>\n    </tr>\n    <tr>\n      <th>862138371693741312</th>\n      <td>170.147868</td>\n      <td>62.364017</td>\n      <td>2.097585</td>\n      <td>0.050723</td>\n      <td>1.492176</td>\n      <td>NaN</td>\n      <td>1.436168</td>\n      <td>1.548184</td>\n      <td>4.694950e+07</td>\n      <td>0.056008</td>\n      <td>1.492176</td>\n      <td>0.063100</td>\n      <td>2.962510e+06</td>\n    </tr>\n    <tr>\n      <th>885312542050123904</th>\n      <td>108.661626</td>\n      <td>28.441399</td>\n      <td>1.167791</td>\n      <td>0.025482</td>\n      <td>0.952562</td>\n      <td>NaN</td>\n      <td>0.892327</td>\n      <td>1.009213</td>\n      <td>1.668590e+07</td>\n      <td>0.058443</td>\n      <td>0.950770</td>\n      <td>0.066542</td>\n      <td>1.110307e+06</td>\n    </tr>\n    <tr>\n      <th>922860108223833984</th>\n      <td>121.791378</td>\n      <td>43.260211</td>\n      <td>3.156882</td>\n      <td>0.085017</td>\n      <td>2.477262</td>\n      <td>1.888069</td>\n      <td>2.368794</td>\n      <td>2.599014</td>\n      <td>1.173064e+08</td>\n      <td>0.115110</td>\n      <td>2.483904</td>\n      <td>0.096827</td>\n      <td>1.135842e+07</td>\n    </tr>\n  </tbody>\n</table>\n<p>1908 rows × 13 columns</p>\n</div>"
     },
     "execution_count": 10,
     "metadata": {},
     "output_type": "execute_result"
    }
   ],
   "source": [
    "# Calculate core temperature error\n",
    "combined_table_df['mass_error'] = np.abs(combined_table_df['mass_primary_upper'] - combined_table_df['mass_primary_lower']) / 2\n",
    "combined_table_df['mass_avg'] = (combined_table_df['mass_primary_upper'] + combined_table_df['mass_primary_lower']) / 2\n",
    "\n",
    "combined_table_df['core_temp_rel_error'] = np.sqrt(np.square(combined_table_df['mass_error'] / combined_table_df['mass_avg']) + np.square(-1 * combined_table_df['radius_error']))\n",
    "combined_table_df['core_temp_abs_error'] = combined_table_df['core_temp'] * combined_table_df['core_temp_rel_error']\n",
    "\n",
    "combined_table_df"
   ],
   "metadata": {
    "collapsed": false,
    "ExecuteTime": {
     "end_time": "2024-01-19T03:42:38.440500400Z",
     "start_time": "2024-01-19T03:42:38.406772800Z"
    }
   },
   "id": "1a11346bbba1d0a7",
   "execution_count": 10
  },
  {
   "cell_type": "markdown",
   "source": [
    "### Save to Gaia\n",
    "Export to VOT, update labels then push to Gaia"
   ],
   "metadata": {
    "collapsed": false
   },
   "id": "b65cd2260fb7e209"
  },
  {
   "cell_type": "code",
   "outputs": [
    {
     "name": "stdout",
     "output_type": "stream",
     "text": [
      "Sending file: data/stellar_dataset_final.vot\n",
      "Uploaded table 'stellar_dataset_final'.\n",
      "Retrieving table 'user_mwidmaie.stellar_dataset_final'\n",
      "Table 'user_mwidmaie.stellar_dataset_final' updated.\n",
      "Table 'user_mwidmaie.stellar_masses_and_radii' deleted.\n"
     ]
    }
   ],
   "source": [
    "# combined_table_df.drop(columns=['mass_error', 'mass_avg'], inplace=True)\n",
    "# Drop data with a temperature error greater than Q3 + 1.5 * IQR\n",
    "combined_table_df = combined_table_df[combined_table_df['core_temp_rel_error'] < .1]\n",
    "combined_table_df = combined_table_df[combined_table_df['core_temp_rel_error'] >= 0] # Negative errors are impossible so we can remove them\n",
    "\n",
    "# Drop data with radius error less than 0 (negative radii are impossible)\n",
    "combined_table_df = combined_table_df[combined_table_df['radius_error'] >= 0]\n",
    "\n",
    "table: Table = Table.from_pandas(combined_table_df, index='source_id')\n",
    "\n",
    "# Update labels\n",
    "table['source_id'].description = 'Gaia Source ID'\n",
    "table['ra'].description = 'Right Ascension'\n",
    "table['dec'].description = 'Declination'\n",
    "table['radius'].description = 'Stellar Radius'\n",
    "table['radius_error'].description = 'Stellar Radius Error'\n",
    "table['mass_primary'].description = 'Primary Stellar Mass'\n",
    "table['mass_secondary'].description = 'Secondary Stellar Mass'\n",
    "table['core_temp'].description = 'Stellar Core Temperature'\n",
    "table['core_temp_abs_error'].description = 'Absolute Stellar Core Temperature Error'\n",
    "\n",
    "# Update units\n",
    "table['ra'].unit = 'deg'\n",
    "table['dec'].unit = 'deg'\n",
    "table['radius'].unit = 'Rsun'\n",
    "table['radius_error'].unit = 'Rsun'\n",
    "table['mass_primary'].unit = 'Msun'\n",
    "table['mass_secondary'].unit = 'Msun'\n",
    "table['core_temp'].unit = 'K'\n",
    "table['core_temp_abs_error'].unit = 'K'\n",
    "\n",
    "table.meta.description = 'Final dataset of Stellar Masses, Radii, and Core Temperatures'\n",
    "table.meta.keywords = ['Stellar', 'Mass', 'Radius', 'Core Temperature', 'Gaia']\n",
    "table.meta.curation = 'Data collated from various sources, including Gaia and Vizier, and processed using Python and Astroquery.'\n",
    "table.meta.curation_date = '2024-01-18'\n",
    "table.meta.creator_name = 'Maximus Widmaier'\n",
    "\n",
    "# Save as a VOTable and upload to Gaia\n",
    "table.write('data/stellar_dataset_final.vot', format='votable', overwrite=True, table_id='stellar_dataset_final')\n",
    "\n",
    "final_table_name = 'user_' + username + \".stellar_dataset_final\"\n",
    "\n",
    "Gaia.upload_table(upload_resource='data/stellar_dataset_final.vot', table_name='stellar_dataset_final', format='votable')\n",
    "\n",
    "Gaia.update_user_table(table_name=final_table_name,\n",
    "                       list_of_changes=[['ra', 'flags', 'Ra'], ['dec', 'flags', 'Dec'], ['ra', 'indexed', True],\n",
    "                                        ['dec', 'indexed', True]])\n",
    "\n",
    "# Delete the old tables\n",
    "Gaia.delete_user_table(table_name=combined_table_name)"
   ],
   "metadata": {
    "collapsed": false,
    "ExecuteTime": {
     "end_time": "2024-01-19T03:43:29.835128600Z",
     "start_time": "2024-01-19T03:43:23.691484600Z"
    }
   },
   "id": "bf27993729e32157",
   "execution_count": 11
  }
 ],
 "metadata": {
  "kernelspec": {
   "display_name": "Python 3",
   "language": "python",
   "name": "python3"
  },
  "language_info": {
   "codemirror_mode": {
    "name": "ipython",
    "version": 2
   },
   "file_extension": ".py",
   "mimetype": "text/x-python",
   "name": "python",
   "nbconvert_exporter": "python",
   "pygments_lexer": "ipython2",
   "version": "2.7.6"
  }
 },
 "nbformat": 4,
 "nbformat_minor": 5
}
