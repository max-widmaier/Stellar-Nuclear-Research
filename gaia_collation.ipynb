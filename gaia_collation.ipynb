{
 "cells": [
  {
   "cell_type": "markdown",
   "source": [
    "# Data collation and analysis\n",
    "This file handles collecting all collected data into one consistent table.\n",
    "\n",
    "## Data Collection\n",
    "First data is collected, then any non-gaia stellar IDs (such as HD numbers) are matched \n",
    "with a corresponding Gaia star entry. \n",
    "\n",
    "## Analysis\n",
    "After data has been collected into a common table, mass analysis can be performed"
   ],
   "metadata": {
    "collapsed": false
   },
   "id": "790a09d6d2228b29"
  },
  {
   "cell_type": "code",
   "execution_count": 18,
   "outputs": [],
   "source": [
    "import pandas as pd\n",
    "import numpy as np\n",
    "from astropy.table import Table\n",
    "from astroquery.gaia import Gaia\n",
    "\n",
    "Gaia.MAIN_GAIA_TABLE = \"gaiadr3.gaia_source\"  # Select Data Release 3, default"
   ],
   "metadata": {
    "collapsed": true,
    "ExecuteTime": {
     "end_time": "2024-01-18T18:37:25.912338700Z",
     "start_time": "2024-01-18T18:37:25.864136400Z"
    }
   },
   "id": "initial_id"
  },
  {
   "cell_type": "markdown",
   "source": [
    "## Log in to Gaia\n",
    "Use credentials from gaia/CREDENTIALS file"
   ],
   "metadata": {
    "collapsed": false
   },
   "id": "e75e297e2d06fb8d"
  },
  {
   "cell_type": "code",
   "execution_count": 19,
   "outputs": [
    {
     "name": "stdout",
     "output_type": "stream",
     "text": [
      "INFO: Login to gaia TAP server [astroquery.gaia.core]\n",
      "OK\n",
      "INFO: Login to gaia data server [astroquery.gaia.core]\n",
      "OK\n"
     ]
    }
   ],
   "source": [
    "Gaia.login(credentials_file='gaia/CREDENTIALS')\n",
    "username = 'mwidmaie'"
   ],
   "metadata": {
    "collapsed": false,
    "ExecuteTime": {
     "end_time": "2024-01-18T18:37:31.632296100Z",
     "start_time": "2024-01-18T18:37:29.076346Z"
    }
   },
   "id": "2798bf2e713a35be"
  },
  {
   "cell_type": "markdown",
   "source": [
    "## Radii Data\n",
    "The initial radii dataset was insufficient, so we need to use another dataset and combine them into one. \n",
    "We will use the data from `data/stellar_ldd.vot` as well as some Gaia data to manually calculate the stellar radii (using trigonometry)."
   ],
   "metadata": {
    "collapsed": false
   },
   "id": "c5695ec7e07aaac4"
  },
  {
   "cell_type": "code",
   "outputs": [
    {
     "name": "stdout",
     "output_type": "stream",
     "text": [
      "Retrieving table 'user_mwidmaie.stellar_ldd'\n",
      "500 Error 500:\n",
      "esavo.tap.TAPException: Code: 404, msg: Table 'user_mwidmaie.stellar_ldd' not found.\n",
      "Table does not exist, uploading from local machine.\n",
      "Sending file: data/stellar_ldd.vot\n",
      "Uploaded table 'stellar_ldd'.\n",
      "Retrieving table 'user_mwidmaie.stellar_ldd'\n"
     ]
    }
   ],
   "source": [
    "stellar_ldd_table_name = 'user_' + username + \".stellar_ldd\"\n",
    "\n",
    "try:\n",
    "    stellar_ldd = Gaia.load_table(stellar_ldd_table_name)\n",
    "except:\n",
    "# Table doesn't exist so we're gonna upload from the local stellar_ldd.vot file\n",
    "print(\"Table does not exist, uploading from local machine.\")\n",
    "Gaia.upload_table(upload_resource=\"data/stellar_ldd.vot\", table_name='stellar_ldd', format=\"VOTable\")\n",
    "stellar_ldd = Gaia.load_table(stellar_ldd_table_name)"
   ],
   "metadata": {
    "collapsed": false,
    "ExecuteTime": {
     "end_time": "2024-01-18T17:13:02.842557400Z",
     "start_time": "2024-01-18T17:08:55.610278800Z"
    }
   },
   "id": "50614072eb49bab4",
   "execution_count": 4
  },
  {
   "cell_type": "markdown",
   "source": [
    "## Update metadata for stellar_ldd\n",
    "This will make the next steps a lot easier. (and faster)"
   ],
   "metadata": {
    "collapsed": false
   },
   "id": "4cf370ce7c2369be"
  },
  {
   "cell_type": "code",
   "outputs": [
    {
     "name": "stdout",
     "output_type": "stream",
     "text": [
      "Retrieving table 'user_mwidmaie.stellar_ldd'\n",
      "Table 'user_mwidmaie.stellar_ldd' updated.\n"
     ]
    }
   ],
   "source": [
    "    Gaia.update_user_table(table_name=stellar_ldd_table_name,\n",
    "                           list_of_changes=[['\"RAJ2000\"', 'flags', 'Ra'], ['\"DEJ2000\"', 'flags', 'Dec'],\n",
    "                                            ['\"RAJ2000\"', 'indexed', True], ['\"DEJ2000\"', 'indexed', True]])"
   ],
   "metadata": {
    "collapsed": false,
    "ExecuteTime": {
     "end_time": "2024-01-18T17:13:18.681993600Z",
     "start_time": "2024-01-18T17:13:14.061817400Z"
    }
   },
   "id": "6a58b0ece0909f65",
   "execution_count": 5
  },
  {
   "cell_type": "markdown",
   "source": [
    "## Retrieving Gaia Parallax and Parallax Error\n",
    "We need to retrieve the parallax and parallax error from Gaia for each star in the stellar_ldd table.\n",
    "\n",
    "With this data, we can calculate the distance to the star, and then use the angular diameter from the stellar_ldd table to calculate the stellar radius.\n",
    "We can combine the data using the following ADQL query:\n",
    "```sql\n",
    "SELECT recno, source_id, Name, RAJ2000, DEJ2000, LDD, e_LDD, ra as gaia_ra, dec as gaia_dec, vmag, parallax, parallax_error,\n",
    "DISTANCE(\n",
    "    POINT(RAJ2000, DEJ2000),\n",
    "    POINT(ra, dec)\n",
    ") * 3600. AS dist_arcsec\n",
    "FROM user_<username>.stellar_ldd AS stellar_ldd\n",
    "JOIN gaiadr3.gaia_source AS gaia\n",
    "-- Geometric Cross-Match: =======\n",
    "ON DISTANCE(\n",
    "    POINT(RAJ2000, DEJ2000),\n",
    "    POINT(ra, dec)\n",
    ") < 1.8 / 3600.\n",
    "-- Condition: ===================\n",
    "WHERE ABS(vmag - phot_g_mean_mag) < 2.\n",
    "```\n",
    "\n",
    "Processing will be done in Python."
   ],
   "metadata": {
    "collapsed": false
   },
   "id": "3071e57a45a0f7ce"
  },
  {
   "cell_type": "code",
   "outputs": [
    {
     "name": "stdout",
     "output_type": "stream",
     "text": [
      "Launched query: 'SELECT TOP 466000 recno, source_id, Name, RAJ2000, DEJ2000, ra as gaia_ra, dec as gaia_dec, vmag, parallax, parallax_error, LDD, e_LDD,\n",
      "DISTANCE(\n",
      "    POINT(RAJ2000, DEJ2000),\n",
      "    POINT(ra, dec)\n",
      ") * 3600. AS dist_arcsec\n",
      "FROM user_mwidmaie.stellar_ldd AS stellar_ldd\n",
      "JOIN gaiadr3.gaia_source AS gaia\n",
      "-- Geometric Cross-Match: =======\n",
      "ON DISTANCE(\n",
      "    POINT(RAJ2000, DEJ2000),\n",
      "    POINT(ra, dec)\n",
      ") < 1.8 / 3600.\n",
      "-- Condition: ===================\n",
      "WHERE ABS(vmag - phot_g_mean_mag) < 2.'\n",
      "------>https\n",
      "host = gea.esac.esa.int:443\n",
      "context = /tap-server/tap/sync\n",
      "Content-type = application/x-www-form-urlencoded\n",
      "200 200\n",
      "[('Date', 'Thu, 18 Jan 2024 17:13:24 GMT'), ('Server', 'Apache/2.4.6 (CentOS) OpenSSL/1.0.2k-fips mod_jk/1.2.43'), ('Cache-Control', 'no-cache, no-store, max-age=0, must-revalidate'), ('Pragma', 'no-cache'), ('Expires', '0'), ('X-XSS-Protection', '1; mode=block'), ('X-Frame-Options', 'SAMEORIGIN'), ('X-Content-Type-Options', 'nosniff'), ('Content-Encoding', 'gzip'), ('Content-Disposition', 'attachment;filename=\"1705598004760O-result.vot\"'), ('Transfer-Encoding', 'chunked'), ('Content-Type', 'application/x-votable+xml')]\n",
      "Retrieving sync. results...\n",
      "Saving results to: data/stellar_ldd_gaia.vot.gz\n",
      "Query finished.\n"
     ]
    }
   ],
   "source": [
    "import gzip\n",
    "\n",
    "job = Gaia.launch_job(f\"\"\"SELECT TOP 466000 recno, source_id, Name, RAJ2000, DEJ2000, ra as gaia_ra, dec as gaia_dec, vmag, parallax, parallax_error, LDD, e_LDD,\n",
    "DISTANCE(\n",
    "    POINT(RAJ2000, DEJ2000),\n",
    "    POINT(ra, dec)\n",
    ") * 3600. AS dist_arcsec\n",
    "FROM {stellar_ldd_table_name} AS stellar_ldd\n",
    "JOIN gaiadr3.gaia_source AS gaia\n",
    "-- Geometric Cross-Match: =======\n",
    "ON DISTANCE(\n",
    "    POINT(RAJ2000, DEJ2000),\n",
    "    POINT(ra, dec)\n",
    ") < 1.8 / 3600.\n",
    "-- Condition: ===================\n",
    "WHERE ABS(vmag - phot_g_mean_mag) < 2.\"\"\", dump_to_file=True, output_format='votable',\n",
    "                      output_file='data/stellar_ldd_gaia.vot.gz', verbose=True)\n",
    "\n",
    "results = job.get_results()\n",
    "\n",
    "with gzip.open('data/stellar_ldd_gaia.vot.gz', 'rb') as f:\n",
    "    with open('data/stellar_ldd_gaia.vot', 'wb') as f2:\n",
    "        f2.write(f.read())"
   ],
   "metadata": {
    "collapsed": false,
    "ExecuteTime": {
     "end_time": "2024-01-18T17:14:36.919049100Z",
     "start_time": "2024-01-18T17:13:24.107750400Z"
    }
   },
   "id": "8529aac6a05a9b41",
   "execution_count": 6
  },
  {
   "cell_type": "markdown",
   "source": [
    "## Calculating Stellar Radii\n",
    "### Calculating Distance\n",
    "We can calculate the distance to the star using the parallax from Gaia, using the following formula:\n",
    "![Distance Formula](imgs/latex_distance.png)\n",
    "Where:\n",
    "d = distance to star (in parsecs)\n",
    "p = parallax angle (in mas)\n",
    "\n",
    "### Calculating Stellar Radius\n",
    "We can calculate the stellar radius using the angular diameter from the stellar_ldd table, using the following formula:\n",
    "![Stellar Radius Formula](imgs/latex_radius.png)\n",
    "Where:\n",
    "r_star = stellar radius (in kilometers)\n",
    "d = distance to star (in parsecs)\n",
    "theta = angular diameter (in radians)\n",
    "\n",
    "### Calculating Stellar Radius Error\n",
    "We can calculate the stellar radius error using the following formula:\n",
    "![Stellar Radius Error Formula](imgs/latex_radius_error.png)"
   ],
   "metadata": {
    "collapsed": false
   },
   "id": "5412b376d4a3a84c"
  },
  {
   "cell_type": "code",
   "outputs": [
    {
     "data": {
      "text/plain": "                  source_id     gaia_ra   gaia_dec     radius  radius_error  \\\n0             7632157690368   45.034343   0.235390   5.713006      0.127737   \n1            16733192740608   45.152965   0.386342   1.489124      0.040466   \n2            30343944744320   45.094992   0.476836   3.069619      0.085569   \n3            44358422235136   45.501454   0.497697   1.223615      0.030880   \n4            64531884461952   45.490906   0.741372  29.043697      0.770821   \n...                     ...         ...        ...        ...           ...   \n327676  5310910375029195520  137.302009 -55.287044   4.171335      0.098949   \n327677  5310927108226060160  137.016883 -55.176849   5.069081      0.139604   \n327678  5310928482615564672  136.919700 -55.108573   4.154725      0.115875   \n327679  5310928688774038656  137.041132 -55.099785   2.860295      0.093900   \n327680  5310946658914541696  136.292436 -55.241064  62.939636      2.033535   \n\n        radius_error_ratio  \n0                 0.022359  \n1                 0.027174  \n2                 0.027876  \n3                 0.025237  \n4                 0.026540  \n...                    ...  \n327676            0.023721  \n327677            0.027540  \n327678            0.027890  \n327679            0.032829  \n327680            0.032309  \n\n[323664 rows x 6 columns]",
      "text/html": "<div>\n<style scoped>\n    .dataframe tbody tr th:only-of-type {\n        vertical-align: middle;\n    }\n\n    .dataframe tbody tr th {\n        vertical-align: top;\n    }\n\n    .dataframe thead th {\n        text-align: right;\n    }\n</style>\n<table border=\"1\" class=\"dataframe\">\n  <thead>\n    <tr style=\"text-align: right;\">\n      <th></th>\n      <th>source_id</th>\n      <th>gaia_ra</th>\n      <th>gaia_dec</th>\n      <th>radius</th>\n      <th>radius_error</th>\n      <th>radius_error_ratio</th>\n    </tr>\n  </thead>\n  <tbody>\n    <tr>\n      <th>0</th>\n      <td>7632157690368</td>\n      <td>45.034343</td>\n      <td>0.235390</td>\n      <td>5.713006</td>\n      <td>0.127737</td>\n      <td>0.022359</td>\n    </tr>\n    <tr>\n      <th>1</th>\n      <td>16733192740608</td>\n      <td>45.152965</td>\n      <td>0.386342</td>\n      <td>1.489124</td>\n      <td>0.040466</td>\n      <td>0.027174</td>\n    </tr>\n    <tr>\n      <th>2</th>\n      <td>30343944744320</td>\n      <td>45.094992</td>\n      <td>0.476836</td>\n      <td>3.069619</td>\n      <td>0.085569</td>\n      <td>0.027876</td>\n    </tr>\n    <tr>\n      <th>3</th>\n      <td>44358422235136</td>\n      <td>45.501454</td>\n      <td>0.497697</td>\n      <td>1.223615</td>\n      <td>0.030880</td>\n      <td>0.025237</td>\n    </tr>\n    <tr>\n      <th>4</th>\n      <td>64531884461952</td>\n      <td>45.490906</td>\n      <td>0.741372</td>\n      <td>29.043697</td>\n      <td>0.770821</td>\n      <td>0.026540</td>\n    </tr>\n    <tr>\n      <th>...</th>\n      <td>...</td>\n      <td>...</td>\n      <td>...</td>\n      <td>...</td>\n      <td>...</td>\n      <td>...</td>\n    </tr>\n    <tr>\n      <th>327676</th>\n      <td>5310910375029195520</td>\n      <td>137.302009</td>\n      <td>-55.287044</td>\n      <td>4.171335</td>\n      <td>0.098949</td>\n      <td>0.023721</td>\n    </tr>\n    <tr>\n      <th>327677</th>\n      <td>5310927108226060160</td>\n      <td>137.016883</td>\n      <td>-55.176849</td>\n      <td>5.069081</td>\n      <td>0.139604</td>\n      <td>0.027540</td>\n    </tr>\n    <tr>\n      <th>327678</th>\n      <td>5310928482615564672</td>\n      <td>136.919700</td>\n      <td>-55.108573</td>\n      <td>4.154725</td>\n      <td>0.115875</td>\n      <td>0.027890</td>\n    </tr>\n    <tr>\n      <th>327679</th>\n      <td>5310928688774038656</td>\n      <td>137.041132</td>\n      <td>-55.099785</td>\n      <td>2.860295</td>\n      <td>0.093900</td>\n      <td>0.032829</td>\n    </tr>\n    <tr>\n      <th>327680</th>\n      <td>5310946658914541696</td>\n      <td>136.292436</td>\n      <td>-55.241064</td>\n      <td>62.939636</td>\n      <td>2.033535</td>\n      <td>0.032309</td>\n    </tr>\n  </tbody>\n</table>\n<p>323664 rows × 6 columns</p>\n</div>"
     },
     "execution_count": 7,
     "metadata": {},
     "output_type": "execute_result"
    }
   ],
   "source": [
    "import numpy as np\n",
    "\n",
    "df = Table.read('data/stellar_ldd_gaia.vot').to_pandas()\n",
    "df['distance'] = 1000 / df['parallax']  # Convert parallax to distance in km\n",
    "df['LDD_rad'] = df[\n",
    "                    'LDD'] / 1000 / 3600 * np.pi / 180  # Convert LDD to radians (First convert to arcseconds, then to degrees, then to radians)\n",
    "df['e_LDD_rad'] = df['e_LDD'] / 1000 / 3600 * np.pi / 180  # Convert e_LDD to radians\n",
    "df['radius'] = 1 / 2 * df['distance'] * np.tan(df['LDD_rad']) * 3.086e+13  # Calculate radius in km \n",
    "df['distance_error'] = 1000 / np.square(df['parallax']) * df['parallax_error']  # Calculate distance error in parsecs\n",
    "df['distance_error_ratio'] = df['distance_error'] / df['distance']  # Calculate distance error as a ratio\n",
    "df['radius_error'] = np.sqrt(\n",
    "    np.square(1 / 2 * df['distance'] * 1 / (np.square(np.cos(df['LDD_rad']))) * df['e_LDD_rad']) + np.square(\n",
    "        1 / 2 * df['distance_error'] * df['parallax_error'] * np.tan(\n",
    "            df['LDD_rad']))) * 3.086e+13  # Calculate radius error in km\n",
    "df['radius_error_ratio'] = df['radius_error'] / df['radius']  # Calculate radius error as a ratio\n",
    "\n",
    "df['radius'] = df['radius'] / 695700  # Convert radius to solar radii\n",
    "df['radius_error'] = df['radius_error'] / 695700  # Convert radius error to solar radii\n",
    "\n",
    "df.drop(columns=['LDD_rad', 'e_LDD_rad'], inplace=True)\n",
    "df.dropna(subset=['distance', 'distance_error', 'radius', 'radius_error', 'source_id', 'gaia_dec', 'gaia_ra'],\n",
    "          inplace=True)\n",
    "df.drop(columns=['parallax', 'parallax_error', 'LDD', 'e_LDD', 'RAJ2000', 'DEJ2000', 'Name', 'dist_arcsec', 'vmag',\n",
    "                 'distance', 'distance_error', 'distance_error_ratio', 'recno'], inplace=True)\n",
    "df"
   ],
   "metadata": {
    "collapsed": false,
    "ExecuteTime": {
     "end_time": "2024-01-18T17:17:24.903661300Z",
     "start_time": "2024-01-18T17:17:14.849476900Z"
    }
   },
   "id": "dd6302d276913997",
   "execution_count": 7
  },
  {
   "cell_type": "code",
   "outputs": [
    {
     "name": "stdout",
     "output_type": "stream",
     "text": [
      "Sending file: data/stellar_radii_finalized.vot\n",
      "Uploaded table 'stellar_radii'.\n",
      "Retrieving table 'user_mwidmaie.stellar_radii'\n",
      "Table 'user_mwidmaie.stellar_radii' updated.\n",
      "Table 'user_mwidmaie.stellar_ldd' deleted.\n"
     ]
    }
   ],
   "source": [
    "# Save as a VOTable and upload to Gaia\n",
    "stellar_radii_table_name = 'user_' + username + \".stellar_radii\"\n",
    "stellar_radii_vot = Table.from_pandas(df)\n",
    "stellar_radii_vot.write('data/stellar_radii_finalized.vot', format='votable', overwrite=True)\n",
    "\n",
    "Gaia.upload_table(upload_resource='data/stellar_radii_finalized.vot', table_name='stellar_radii', format='votable')\n",
    "Gaia.update_user_table(table_name=stellar_radii_table_name,\n",
    "                       list_of_changes=[['gaia_ra', 'flags', 'Ra'], ['gaia_dec', 'flags', 'Dec'],\n",
    "                                        ['gaia_ra', 'indexed', True], ['gaia_dec', 'indexed', True]])\n",
    "Gaia.delete_user_table(table_name=stellar_ldd_table_name)  # Delete the old stellar_ldd table"
   ],
   "metadata": {
    "collapsed": false,
    "ExecuteTime": {
     "end_time": "2024-01-18T17:26:33.016741200Z",
     "start_time": "2024-01-18T17:23:03.691350400Z"
    }
   },
   "id": "f6978ff14ca71c5e",
   "execution_count": 9
  },
  {
   "cell_type": "markdown",
   "source": [
    "## Collating with stellar mass data\n",
    "Using data from `data/stellar_radii_combined.vot` we can pair up the Gaia source ids from `data/stellar_masses.rawdata` to form a new dataset including both radii and mass, 2 of the 3 data points we need to calculate stellar core temperature"
   ],
   "metadata": {
    "collapsed": false
   },
   "id": "cabf31e44cdc6d78"
  },
  {
   "cell_type": "code",
   "outputs": [
    {
     "name": "stdout",
     "output_type": "stream",
     "text": [
      "Downloading data from https://cdsarc.cds.unistra.fr/viz-bin/nph-Cat/txt?I/360/binmass.dat... This may take a while.\n",
      "Download complete, processing...\n",
      "Done\n"
     ]
    }
   ],
   "source": [
    "# We need to download and pre-process the data from https://cdsarc.cds.unistra.fr/viz-bin/nph-Cat/txt?I/360/binmass.dat.gz\n",
    "# This is a table of stellar masses\n",
    "import requests\n",
    "\n",
    "url = 'https://cdsarc.cds.unistra.fr/viz-bin/nph-Cat/txt?I/360/binmass.dat'\n",
    "print(\"Downloading data from \" + url + \"... This may take a while.\")\n",
    "r = requests.get(url, allow_redirects=True)\n",
    "\n",
    "with open('data/binmass.rawdata', 'wb') as f:\n",
    "    f.write(r.content)\n",
    "\n",
    "print('Download complete, processing...')\n",
    "fixed_content = ''\n",
    "# Now we need to process the data, since it's not in a standard format\n",
    "with open('data/binmass.rawdata', 'r') as f:\n",
    "    lines = f.readlines()[4:-1]\n",
    "    for line in lines:\n",
    "        if line[0] == '#' or line[0] == '-':\n",
    "            continue\n",
    "        content = line.replace('|', ',')\n",
    "        ra_and_dec = content.split(',')[13]\n",
    "        ra = ra_and_dec.split(' ')[0]\n",
    "        dec = ra_and_dec.split(' ')[-1]\n",
    "        content = content.replace(ra_and_dec, ra + ',' + dec).replace(' ', '')\n",
    "        fixed_content += content\n",
    "\n",
    "with open('data/stellar_masses.rawdata', 'w') as f:\n",
    "    f.write(fixed_content)\n",
    "\n",
    "print('Done')"
   ],
   "metadata": {
    "collapsed": false,
    "ExecuteTime": {
     "end_time": "2024-01-18T17:27:31.034369300Z",
     "start_time": "2024-01-18T17:26:58.848179100Z"
    }
   },
   "id": "3011ec5d1e172768",
   "execution_count": 10
  },
  {
   "cell_type": "markdown",
   "source": [
    "## Uploading stellar_masses to Gaia\n",
    "We need to upload the stellar_masses data to Gaia so we can join it with the stellar_radii data."
   ],
   "metadata": {
    "collapsed": false
   },
   "id": "f9420d6cb567b0ab"
  },
  {
   "cell_type": "code",
   "outputs": [
    {
     "name": "stdout",
     "output_type": "stream",
     "text": [
      "Sending file: data/stellar_masses.vot\n",
      "Uploaded table 'stellar_masses'.\n"
     ]
    }
   ],
   "source": [
    "# Load stellar_masses.rawdata as a Pandas DataFrame\n",
    "\n",
    "# Removed the column headers because they weren't specific enough, we'll use these column names instead\n",
    "columns = ['source_id', 'mass_primary', 'mass_primary_lower', 'mass_primary_upper', 'mass_secondary',\n",
    "           'mass_secondary_lower', 'mass_secondary_upper', 'flux_ratio', 'flux_ratio_lower',\n",
    "           'flux_ratio_upper', 'method', 'reference_for_primary_mass', 'flag', 'ra2016', 'dec2016']\n",
    "\n",
    "# Load the data into a Pandas DataFrame\n",
    "stellar_masses = pd.read_csv('data/stellar_masses.rawdata', names=columns, skiprows=4)\n",
    "stellar_masses.drop(\n",
    "    columns=['mass_secondary_lower', 'mass_secondary_upper', 'flux_ratio_lower', 'flux_ratio_upper', 'flag', 'method',\n",
    "             'reference_for_primary_mass'], inplace=True)\n",
    "\n",
    "# Drop any with NaN ra or dec\n",
    "stellar_masses.dropna(subset=['ra2016', 'dec2016'], inplace=True)\n",
    "\n",
    "# Save as a VOTable\n",
    "stellar_masses_vot = Table.from_pandas(stellar_masses)\n",
    "stellar_masses_vot.write('data/stellar_masses.vot', format='votable', overwrite=True)\n",
    "\n",
    "# Upload to Gaia\n",
    "Gaia.upload_table(upload_resource='data/stellar_masses.vot', table_name='stellar_masses', format='votable')"
   ],
   "metadata": {
    "collapsed": false,
    "ExecuteTime": {
     "end_time": "2024-01-18T17:32:03.798432300Z",
     "start_time": "2024-01-18T17:30:28.307504800Z"
    }
   },
   "id": "2d4caf1bc2caf33b",
   "execution_count": 11
  },
  {
   "cell_type": "markdown",
   "source": [
    "## Joining stellar_masses and stellar_radii\n",
    "\n",
    "We can join the stellar_masses and stellar_radii tables using the following ADQL query:\n",
    "```sql\n",
    "SELECT TOP 150000 stellar_radii.source_id, gaia_ra as ra, gaia_dec as dec, radius, radius_error, mass_primary, mass_secondary\n",
    "FROM {stellar_radii_table_name} AS stellar_radii\n",
    "JOIN {stellar_masses_table_name} AS stellar_masses\n",
    "ON stellar_radii.source_id = stellar_masses.source_id\n",
    "```"
   ],
   "metadata": {
    "collapsed": false
   },
   "id": "9a1174621d8a3b99"
  },
  {
   "cell_type": "code",
   "outputs": [
    {
     "name": "stdout",
     "output_type": "stream",
     "text": [
      "Retrieving table 'user_mwidmaie.stellar_masses_and_radii'\n",
      "500 Error 500:\n",
      "esavo.tap.TAPException: Code: 404, msg: Table 'user_mwidmaie.stellar_masses_and_radii' not found.\n",
      "Table does not exist, running queries and uploading from local machine.\n",
      "Launched query: 'SELECT TOP 150000 stellar_radii.source_id, gaia_ra as ra, gaia_dec as dec, radius, radius_error, mass_primary, mass_secondary, mass_primary_lower, mass_primary_upper\n",
      "FROM user_mwidmaie.stellar_radii AS stellar_radii\n",
      "JOIN user_mwidmaie.stellar_masses AS stellar_masses\n",
      "ON stellar_radii.source_id = stellar_masses.source_id'\n",
      "------>https\n",
      "host = gea.esac.esa.int:443\n",
      "context = /tap-server/tap/sync\n",
      "Content-type = application/x-www-form-urlencoded\n",
      "200 200\n",
      "[('Date', 'Thu, 18 Jan 2024 17:35:02 GMT'), ('Server', 'Apache/2.4.6 (CentOS) OpenSSL/1.0.2k-fips mod_jk/1.2.43'), ('Cache-Control', 'no-cache, no-store, max-age=0, must-revalidate'), ('Pragma', 'no-cache'), ('Expires', '0'), ('X-XSS-Protection', '1; mode=block'), ('X-Frame-Options', 'SAMEORIGIN'), ('X-Content-Type-Options', 'nosniff'), ('Content-Encoding', 'gzip'), ('Content-Disposition', 'attachment;filename=\"1705599302101O-result.vot\"'), ('Transfer-Encoding', 'chunked'), ('Content-Type', 'application/x-votable+xml')]\n",
      "Retrieving sync. results...\n",
      "Saving results to: data/stellar_masses_and_radii.vot.gz\n",
      "Query finished.\n"
     ]
    },
    {
     "name": "stderr",
     "output_type": "stream",
     "text": [
      "WARNING: W50: ?:?:?: W50: Invalid unit string 'solar radii' [astropy.io.votable.tree]\n"
     ]
    },
    {
     "name": "stdout",
     "output_type": "stream",
     "text": [
      "Sending file: data/stellar_masses_and_radii.vot\n",
      "Uploaded table 'stellar_masses_and_radii'.\n",
      "Retrieving table 'user_mwidmaie.stellar_masses_and_radii'\n",
      "Table 'user_mwidmaie.stellar_masses_and_radii' updated.\n",
      "Table 'user_mwidmaie.stellar_radii' deleted.\n",
      "Table 'user_mwidmaie.stellar_masses' deleted.\n"
     ]
    }
   ],
   "source": [
    "import gzip\n",
    "\n",
    "stellar_radii_table_name = 'user_' + username + \".stellar_radii\"\n",
    "stellar_masses_table_name = 'user_' + username + \".stellar_masses\"\n",
    "combined_table_name = 'user_' + username + \".stellar_masses_and_radii\"\n",
    "\n",
    "try:\n",
    "    stellar_mass_and_radii = Gaia.load_table(combined_table_name)\n",
    "except:\n",
    "    # Table doesn't exist so we're gonna upload from the local stellar_ldd.vot file\n",
    "    print(\"Table does not exist, running queries and uploading from local machine.\")\n",
    "    job = Gaia.launch_job(f\"\"\"SELECT TOP 150000 stellar_radii.source_id, gaia_ra as ra, gaia_dec as dec, radius, radius_error, mass_primary, mass_secondary, mass_primary_lower, mass_primary_upper\n",
    "FROM {stellar_radii_table_name} AS stellar_radii\n",
    "JOIN {stellar_masses_table_name} AS stellar_masses\n",
    "ON stellar_radii.source_id = stellar_masses.source_id\"\"\", dump_to_file=True, output_format='votable',\n",
    "                          output_file='data/stellar_masses_and_radii.vot.gz', verbose=True)\n",
    "\n",
    "    results = job.get_results()\n",
    "\n",
    "    with gzip.open('data/stellar_masses_and_radii.vot.gz', 'rb') as f:\n",
    "        with open('data/stellar_masses_and_radii.vot', 'wb') as f2:\n",
    "            f2.write(f.read())\n",
    "\n",
    "    table = Table.read('data/stellar_masses_and_radii.vot')\n",
    "    # Set units for the table\n",
    "    table['radius'].unit = 'Rsun'\n",
    "    table['radius_error'].unit = 'Rsun'\n",
    "    table['mass_primary'].unit = 'Msun'\n",
    "    table['mass_secondary'].unit = 'Msun'\n",
    "    table['mass_primary_lower'].unit = 'Msun'\n",
    "    table['mass_primary_upper'].unit = 'Msun'\n",
    "    table['ra'].unit = 'deg'\n",
    "    table['dec'].unit = 'deg'\n",
    "\n",
    "    # Save as a VOTable and upload to Gaia\n",
    "    table.write('data/stellar_masses_and_radii.vot', format='votable', overwrite=True)\n",
    "\n",
    "    Gaia.upload_table(upload_resource='data/stellar_masses_and_radii.vot', table_name='stellar_masses_and_radii',\n",
    "                      format='votable')\n",
    "    Gaia.update_user_table(table_name=combined_table_name,\n",
    "                           list_of_changes=[['ra', 'flags', 'Ra'], ['dec', 'flags', 'Dec'], ['ra', 'indexed', True],\n",
    "                                            ['dec', 'indexed', True]])\n",
    "\n",
    "    # Remove the old tables\n",
    "    Gaia.delete_user_table(table_name=stellar_radii_table_name)\n",
    "    Gaia.delete_user_table(table_name=stellar_masses_table_name)"
   ],
   "metadata": {
    "collapsed": false,
    "ExecuteTime": {
     "end_time": "2024-01-18T17:35:14.071412600Z",
     "start_time": "2024-01-18T17:35:01.216546200Z"
    }
   },
   "id": "f55fb9180d764ba",
   "execution_count": 13
  },
  {
   "cell_type": "markdown",
   "source": [
    "## Calculating Stellar Core Temperature\n",
    "We can calculate the stellar core temperature using a generalized formula based on the Lane-Emden equation: (Solved using the Sun's data as a reference)\n",
    "\n",
    "According to [this paper](https://jila.colorado.edu/~ajsh/courses/astr1120_03/text/chapter5/Hydrostatic.htm), this equation works as a good generalization for all main sequence stars.\n",
    "\n",
    "The formula is as follows:\n",
    "![Stellar Core Temperature Formula](imgs/latex_core_temp.png)\n",
    "Where:\n",
    "`T sub c` = Stellar core temperature (in Kelvin)\n",
    "`M sub *` = Stellar mass (in solar masses)\n",
    "`R sub *` = Stellar radius (in radii)\n",
    "\n",
    "We will use pandas to calculate the core temperature for each star in the dataset."
   ],
   "metadata": {
    "collapsed": false
   },
   "id": "ef337259c021cb11"
  },
  {
   "cell_type": "code",
   "outputs": [
    {
     "name": "stderr",
     "output_type": "stream",
     "text": [
      "WARNING: UnitsWarning: Unit 'solar' not supported by the VOUnit standard.  [astropy.units.format.vounit]\n",
      "WARNING: UnitsWarning: Unit 'radii' not supported by the VOUnit standard.  [astropy.units.format.vounit]\n"
     ]
    }
   ],
   "source": [
    "import numpy as np\n",
    "# Load stellar_masses_and_radii.vot as a Pandas DataFrame\n",
    "combined_table_name = 'user_' + username + \".stellar_masses_and_radii\"\n",
    "combined_table: Table = Table.read('data/stellar_masses_and_radii.vot')\n",
    "combined_table_df = combined_table.to_pandas(index='source_id')\n",
    "\n",
    "# Calculate core temperature\n",
    "combined_table_df['core_temp'] = 1.5e+7 * combined_table_df['mass_primary'] / np.power(combined_table_df['radius'], -1)"
   ],
   "metadata": {
    "collapsed": false,
    "ExecuteTime": {
     "end_time": "2024-01-18T18:45:16.353956200Z",
     "start_time": "2024-01-18T18:45:16.226966100Z"
    }
   },
   "id": "dbd4d2a432cf0e51",
   "execution_count": 27
  },
  {
   "cell_type": "markdown",
   "source": [
    "## Calculating Stellar Core Temperature Error\n",
    "Now that we have the core temperature, we must calculate the error. This is a simple procedure relying on error propagation with multiplied values (`M sub *` and `R sub *`)\n",
    "\n",
    "The formula is as follows:\n",
    "![Stellar Core Temperature Error Formula](imgs/latex_core_temp_error.png)\n",
    "\n",
    "Where:\n",
    "`ΔT sub c` = Absolute stellar core temperature error (in Kelvin)\n",
    "`T sub c` = Stellar core temperature (in Kelvin)\n",
    "`ΔM sub *` = Stellar mass error (in solar masses), calculated using the following formula:\n",
    "![Stellar Mass Error Formula](imgs/latex_mass_error.png)\n",
    "\n",
    "Where:\n",
    "`ΔM sub *` = Stellar mass error (in solar masses)\n",
    "`M sub upper` = Upper stellar mass (in solar masses), Given\n",
    "`M sub lower` = Lower stellar mass (in solar masses), Given\n",
    "\n",
    "`ΔR sub *` = Stellar radius error (in solar radii), Given\n",
    "`M sub avg` = Average of upper and lower stellar masses (in solar masses)\n",
    "`R sub *` = Stellar radius (in solar radii), Given\n",
    "\n",
    "We will use pandas to calculate the core temperature error for each star in the dataset."
   ],
   "metadata": {
    "collapsed": false
   },
   "id": "ddec02fada2a15af"
  },
  {
   "cell_type": "code",
   "outputs": [
    {
     "data": {
      "text/plain": "                             ra        dec    radius  radius_error  \\\nsource_id                                                            \n577600125523574400   133.654404   1.450089  1.070391      0.028464   \n578724303147997824   138.139429   2.688561  1.881674      0.048006   \n579463965236154112   140.505721   4.806395  1.517894      0.047218   \n579840685407304704   136.499234   3.674005  1.697662      0.041493   \n580223869504212480   135.398586   4.986870  3.971047      0.118664   \n...                         ...        ...       ...           ...   \n5310291624866429952  138.681301 -54.788978  2.560037      0.071639   \n5310329351859038336  140.457997 -55.514349  3.178390      0.094913   \n5310329351859038336  140.457997 -55.514349  3.178390      0.094913   \n5310661885408686336  139.383174 -54.518301  2.417060      0.063396   \n5310823032582832128  139.665714 -53.546696  2.054532      0.056492   \n\n                     mass_primary  mass_secondary  mass_primary_lower  \\\nsource_id                                                               \n577600125523574400       1.093606             NaN            1.036624   \n578724303147997824       1.383444             NaN            1.199296   \n579463965236154112       1.052349        1.037993            0.990182   \n579840685407304704       1.334517             NaN            1.281419   \n580223869504212480       2.108106             NaN            2.043757   \n...                           ...             ...                 ...   \n5310291624866429952      2.012350             NaN            1.943559   \n5310329351859038336      2.050419             NaN            1.794378   \n5310329351859038336      1.948070        2.332806            1.853917   \n5310661885408686336      1.504585        1.425612            1.428184   \n5310823032582832128      1.903509             NaN            1.844761   \n\n                     mass_primary_upper     core_temp  core_temp_abs_error  \\\nsource_id                                                                    \n577600125523574400             1.149162  1.755879e+07         1.032992e+06   \n578724303147997824             1.435773  3.904787e+07         3.974123e+06   \n579463965236154112             1.111813  2.396032e+07         1.789469e+06   \n579840685407304704             1.389256  3.398336e+07         1.967533e+06   \n580223869504212480             2.164858  1.255708e+08         1.533250e+07   \n...                                 ...           ...                  ...   \n5310291624866429952            2.077520  7.727537e+07         6.105216e+06   \n5310329351859038336            2.112532  9.775546e+07         1.222526e+07   \n5310329351859038336            2.056918  9.287592e+07         1.004729e+07   \n5310661885408686336            1.587806  5.455008e+07         4.504973e+06   \n5310823032582832128            1.962504  5.866230e+07         3.778057e+06   \n\n                     core_temp_rel_error  mass_error  mass_avg  \nsource_id                                                       \n577600125523574400              0.058831    0.056269  1.092893  \n578724303147997824              0.101776    0.118239  1.317534  \n579463965236154112              0.074685    0.060815  1.050998  \n579840685407304704              0.057897    0.053919  1.335338  \n580223869504212480              0.122102    0.060550  2.104308  \n...                                  ...         ...       ...  \n5310291624866429952             0.079006    0.066980  2.010540  \n5310329351859038336             0.125060    0.159077  1.953455  \n5310329351859038336             0.108180    0.101501  1.955417  \n5310661885408686336             0.082584    0.079811  1.507995  \n5310823032582832128             0.064403    0.058871  1.903633  \n\n[5996 rows x 13 columns]",
      "text/html": "<div>\n<style scoped>\n    .dataframe tbody tr th:only-of-type {\n        vertical-align: middle;\n    }\n\n    .dataframe tbody tr th {\n        vertical-align: top;\n    }\n\n    .dataframe thead th {\n        text-align: right;\n    }\n</style>\n<table border=\"1\" class=\"dataframe\">\n  <thead>\n    <tr style=\"text-align: right;\">\n      <th></th>\n      <th>ra</th>\n      <th>dec</th>\n      <th>radius</th>\n      <th>radius_error</th>\n      <th>mass_primary</th>\n      <th>mass_secondary</th>\n      <th>mass_primary_lower</th>\n      <th>mass_primary_upper</th>\n      <th>core_temp</th>\n      <th>core_temp_abs_error</th>\n      <th>core_temp_rel_error</th>\n      <th>mass_error</th>\n      <th>mass_avg</th>\n    </tr>\n    <tr>\n      <th>source_id</th>\n      <th></th>\n      <th></th>\n      <th></th>\n      <th></th>\n      <th></th>\n      <th></th>\n      <th></th>\n      <th></th>\n      <th></th>\n      <th></th>\n      <th></th>\n      <th></th>\n      <th></th>\n    </tr>\n  </thead>\n  <tbody>\n    <tr>\n      <th>577600125523574400</th>\n      <td>133.654404</td>\n      <td>1.450089</td>\n      <td>1.070391</td>\n      <td>0.028464</td>\n      <td>1.093606</td>\n      <td>NaN</td>\n      <td>1.036624</td>\n      <td>1.149162</td>\n      <td>1.755879e+07</td>\n      <td>1.032992e+06</td>\n      <td>0.058831</td>\n      <td>0.056269</td>\n      <td>1.092893</td>\n    </tr>\n    <tr>\n      <th>578724303147997824</th>\n      <td>138.139429</td>\n      <td>2.688561</td>\n      <td>1.881674</td>\n      <td>0.048006</td>\n      <td>1.383444</td>\n      <td>NaN</td>\n      <td>1.199296</td>\n      <td>1.435773</td>\n      <td>3.904787e+07</td>\n      <td>3.974123e+06</td>\n      <td>0.101776</td>\n      <td>0.118239</td>\n      <td>1.317534</td>\n    </tr>\n    <tr>\n      <th>579463965236154112</th>\n      <td>140.505721</td>\n      <td>4.806395</td>\n      <td>1.517894</td>\n      <td>0.047218</td>\n      <td>1.052349</td>\n      <td>1.037993</td>\n      <td>0.990182</td>\n      <td>1.111813</td>\n      <td>2.396032e+07</td>\n      <td>1.789469e+06</td>\n      <td>0.074685</td>\n      <td>0.060815</td>\n      <td>1.050998</td>\n    </tr>\n    <tr>\n      <th>579840685407304704</th>\n      <td>136.499234</td>\n      <td>3.674005</td>\n      <td>1.697662</td>\n      <td>0.041493</td>\n      <td>1.334517</td>\n      <td>NaN</td>\n      <td>1.281419</td>\n      <td>1.389256</td>\n      <td>3.398336e+07</td>\n      <td>1.967533e+06</td>\n      <td>0.057897</td>\n      <td>0.053919</td>\n      <td>1.335338</td>\n    </tr>\n    <tr>\n      <th>580223869504212480</th>\n      <td>135.398586</td>\n      <td>4.986870</td>\n      <td>3.971047</td>\n      <td>0.118664</td>\n      <td>2.108106</td>\n      <td>NaN</td>\n      <td>2.043757</td>\n      <td>2.164858</td>\n      <td>1.255708e+08</td>\n      <td>1.533250e+07</td>\n      <td>0.122102</td>\n      <td>0.060550</td>\n      <td>2.104308</td>\n    </tr>\n    <tr>\n      <th>...</th>\n      <td>...</td>\n      <td>...</td>\n      <td>...</td>\n      <td>...</td>\n      <td>...</td>\n      <td>...</td>\n      <td>...</td>\n      <td>...</td>\n      <td>...</td>\n      <td>...</td>\n      <td>...</td>\n      <td>...</td>\n      <td>...</td>\n    </tr>\n    <tr>\n      <th>5310291624866429952</th>\n      <td>138.681301</td>\n      <td>-54.788978</td>\n      <td>2.560037</td>\n      <td>0.071639</td>\n      <td>2.012350</td>\n      <td>NaN</td>\n      <td>1.943559</td>\n      <td>2.077520</td>\n      <td>7.727537e+07</td>\n      <td>6.105216e+06</td>\n      <td>0.079006</td>\n      <td>0.066980</td>\n      <td>2.010540</td>\n    </tr>\n    <tr>\n      <th>5310329351859038336</th>\n      <td>140.457997</td>\n      <td>-55.514349</td>\n      <td>3.178390</td>\n      <td>0.094913</td>\n      <td>2.050419</td>\n      <td>NaN</td>\n      <td>1.794378</td>\n      <td>2.112532</td>\n      <td>9.775546e+07</td>\n      <td>1.222526e+07</td>\n      <td>0.125060</td>\n      <td>0.159077</td>\n      <td>1.953455</td>\n    </tr>\n    <tr>\n      <th>5310329351859038336</th>\n      <td>140.457997</td>\n      <td>-55.514349</td>\n      <td>3.178390</td>\n      <td>0.094913</td>\n      <td>1.948070</td>\n      <td>2.332806</td>\n      <td>1.853917</td>\n      <td>2.056918</td>\n      <td>9.287592e+07</td>\n      <td>1.004729e+07</td>\n      <td>0.108180</td>\n      <td>0.101501</td>\n      <td>1.955417</td>\n    </tr>\n    <tr>\n      <th>5310661885408686336</th>\n      <td>139.383174</td>\n      <td>-54.518301</td>\n      <td>2.417060</td>\n      <td>0.063396</td>\n      <td>1.504585</td>\n      <td>1.425612</td>\n      <td>1.428184</td>\n      <td>1.587806</td>\n      <td>5.455008e+07</td>\n      <td>4.504973e+06</td>\n      <td>0.082584</td>\n      <td>0.079811</td>\n      <td>1.507995</td>\n    </tr>\n    <tr>\n      <th>5310823032582832128</th>\n      <td>139.665714</td>\n      <td>-53.546696</td>\n      <td>2.054532</td>\n      <td>0.056492</td>\n      <td>1.903509</td>\n      <td>NaN</td>\n      <td>1.844761</td>\n      <td>1.962504</td>\n      <td>5.866230e+07</td>\n      <td>3.778057e+06</td>\n      <td>0.064403</td>\n      <td>0.058871</td>\n      <td>1.903633</td>\n    </tr>\n  </tbody>\n</table>\n<p>5996 rows × 13 columns</p>\n</div>"
     },
     "execution_count": 34,
     "metadata": {},
     "output_type": "execute_result"
    }
   ],
   "source": [
    "# Calculate core temperature error\n",
    "combined_table_df['mass_error'] = np.abs(combined_table_df['mass_primary_upper'] - combined_table_df['mass_primary_lower']) / 2\n",
    "combined_table_df['mass_avg'] = (combined_table_df['mass_primary_upper'] + combined_table_df['mass_primary_lower']) / 2\n",
    "\n",
    "combined_table_df['core_temp_rel_error'] = np.sqrt(np.square(combined_table_df['mass_error'] / combined_table_df['mass_avg']) + np.square(-1 * combined_table_df['radius_error']))\n",
    "combined_table_df['core_temp_abs_error'] = combined_table_df['core_temp'] * combined_table_df['core_temp_rel_error']\n",
    "\n",
    "combined_table_df"
   ],
   "metadata": {
    "collapsed": false,
    "ExecuteTime": {
     "end_time": "2024-01-18T18:51:39.971663200Z",
     "start_time": "2024-01-18T18:51:39.933849500Z"
    }
   },
   "id": "1a11346bbba1d0a7",
   "execution_count": 34
  },
  {
   "cell_type": "markdown",
   "source": [
    "### Save to Gaia\n",
    "Export to VOT, update labels then push to Gaia"
   ],
   "metadata": {
    "collapsed": false
   },
   "id": "b65cd2260fb7e209"
  },
  {
   "cell_type": "code",
   "outputs": [
    {
     "name": "stdout",
     "output_type": "stream",
     "text": [
      "Sending file: data/stellar_dataset_final.vot\n",
      "Uploaded table 'stellar_dataset_final'.\n",
      "Retrieving table 'user_mwidmaie.stellar_dataset_final'\n",
      "Table 'user_mwidmaie.stellar_dataset_final' updated.\n",
      "500 Error 500:\n",
      "Can not execute the following SQL: \n",
      "DROP TABLE user_mwidmaie.stellar_masses_and_radii\n",
      "Because: ERROR: table \"stellar_masses_and_radii\" does not exist\n"
     ]
    },
    {
     "ename": "HTTPError",
     "evalue": "Error 500:\nCan not execute the following SQL: \nDROP TABLE user_mwidmaie.stellar_masses_and_radii\nBecause: ERROR: table \"stellar_masses_and_radii\" does not exist",
     "output_type": "error",
     "traceback": [
      "\u001B[1;31m---------------------------------------------------------------------------\u001B[0m",
      "\u001B[1;31mHTTPError\u001B[0m                                 Traceback (most recent call last)",
      "Cell \u001B[1;32mIn[40], line 49\u001B[0m\n\u001B[0;32m     44\u001B[0m Gaia\u001B[38;5;241m.\u001B[39mupdate_user_table(table_name\u001B[38;5;241m=\u001B[39mfinal_table_name,\n\u001B[0;32m     45\u001B[0m                        list_of_changes\u001B[38;5;241m=\u001B[39m[[\u001B[38;5;124m'\u001B[39m\u001B[38;5;124mra\u001B[39m\u001B[38;5;124m'\u001B[39m, \u001B[38;5;124m'\u001B[39m\u001B[38;5;124mflags\u001B[39m\u001B[38;5;124m'\u001B[39m, \u001B[38;5;124m'\u001B[39m\u001B[38;5;124mRa\u001B[39m\u001B[38;5;124m'\u001B[39m], [\u001B[38;5;124m'\u001B[39m\u001B[38;5;124mdec\u001B[39m\u001B[38;5;124m'\u001B[39m, \u001B[38;5;124m'\u001B[39m\u001B[38;5;124mflags\u001B[39m\u001B[38;5;124m'\u001B[39m, \u001B[38;5;124m'\u001B[39m\u001B[38;5;124mDec\u001B[39m\u001B[38;5;124m'\u001B[39m], [\u001B[38;5;124m'\u001B[39m\u001B[38;5;124mra\u001B[39m\u001B[38;5;124m'\u001B[39m, \u001B[38;5;124m'\u001B[39m\u001B[38;5;124mindexed\u001B[39m\u001B[38;5;124m'\u001B[39m, \u001B[38;5;28;01mTrue\u001B[39;00m],\n\u001B[0;32m     46\u001B[0m                                         [\u001B[38;5;124m'\u001B[39m\u001B[38;5;124mdec\u001B[39m\u001B[38;5;124m'\u001B[39m, \u001B[38;5;124m'\u001B[39m\u001B[38;5;124mindexed\u001B[39m\u001B[38;5;124m'\u001B[39m, \u001B[38;5;28;01mTrue\u001B[39;00m]])\n\u001B[0;32m     48\u001B[0m \u001B[38;5;66;03m# Delete the old tables\u001B[39;00m\n\u001B[1;32m---> 49\u001B[0m \u001B[43mGaia\u001B[49m\u001B[38;5;241;43m.\u001B[39;49m\u001B[43mdelete_user_table\u001B[49m\u001B[43m(\u001B[49m\u001B[43mtable_name\u001B[49m\u001B[38;5;241;43m=\u001B[39;49m\u001B[43mcombined_table_name\u001B[49m\u001B[43m)\u001B[49m\n",
      "File \u001B[1;32mC:\\Python310\\lib\\site-packages\\astroquery\\utils\\tap\\core.py:1654\u001B[0m, in \u001B[0;36mTapPlus.delete_user_table\u001B[1;34m(self, table_name, force_removal, verbose)\u001B[0m\n\u001B[0;32m   1652\u001B[0m     \u001B[38;5;28mprint\u001B[39m(response\u001B[38;5;241m.\u001B[39mstatus, response\u001B[38;5;241m.\u001B[39mreason)\n\u001B[0;32m   1653\u001B[0m     \u001B[38;5;28mprint\u001B[39m(response\u001B[38;5;241m.\u001B[39mgetheaders())\n\u001B[1;32m-> 1654\u001B[0m \u001B[43mconnHandler\u001B[49m\u001B[38;5;241;43m.\u001B[39;49m\u001B[43mcheck_launch_response_status\u001B[49m\u001B[43m(\u001B[49m\u001B[43mresponse\u001B[49m\u001B[43m,\u001B[49m\n\u001B[0;32m   1655\u001B[0m \u001B[43m                                         \u001B[49m\u001B[43mverbose\u001B[49m\u001B[43m,\u001B[49m\n\u001B[0;32m   1656\u001B[0m \u001B[43m                                         \u001B[49m\u001B[38;5;241;43m200\u001B[39;49m\u001B[43m)\u001B[49m\n\u001B[0;32m   1657\u001B[0m msg \u001B[38;5;241m=\u001B[39m \u001B[38;5;124mf\u001B[39m\u001B[38;5;124m\"\u001B[39m\u001B[38;5;124mTable \u001B[39m\u001B[38;5;124m'\u001B[39m\u001B[38;5;132;01m{\u001B[39;00mtable_name\u001B[38;5;132;01m}\u001B[39;00m\u001B[38;5;124m'\u001B[39m\u001B[38;5;124m deleted.\u001B[39m\u001B[38;5;124m\"\u001B[39m\n\u001B[0;32m   1658\u001B[0m \u001B[38;5;28mprint\u001B[39m(msg)\n",
      "File \u001B[1;32mC:\\Python310\\lib\\site-packages\\astroquery\\utils\\tap\\conn\\tapconn.py:683\u001B[0m, in \u001B[0;36mTapConn.check_launch_response_status\u001B[1;34m(self, response, debug, expected_response_status, raise_exception)\u001B[0m\n\u001B[0;32m    681\u001B[0m     errMsg \u001B[38;5;241m=\u001B[39m taputils\u001B[38;5;241m.\u001B[39mget_http_response_error(response)\n\u001B[0;32m    682\u001B[0m     \u001B[38;5;28mprint\u001B[39m(response\u001B[38;5;241m.\u001B[39mstatus, errMsg)\n\u001B[1;32m--> 683\u001B[0m     \u001B[38;5;28;01mraise\u001B[39;00m requests\u001B[38;5;241m.\u001B[39mexceptions\u001B[38;5;241m.\u001B[39mHTTPError(errMsg)\n\u001B[0;32m    684\u001B[0m \u001B[38;5;28;01melse\u001B[39;00m:\n\u001B[0;32m    685\u001B[0m     \u001B[38;5;28;01mreturn\u001B[39;00m isError\n",
      "\u001B[1;31mHTTPError\u001B[0m: Error 500:\nCan not execute the following SQL: \nDROP TABLE user_mwidmaie.stellar_masses_and_radii\nBecause: ERROR: table \"stellar_masses_and_radii\" does not exist"
     ]
    }
   ],
   "source": [
    "# combined_table_df.drop(columns=['mass_error', 'mass_avg'], inplace=True)\n",
    "# Drop data with a temperature error greater than Q3 + 1.5 * IQR\n",
    "q3 = combined_table_df['core_temp_rel_error'].quantile(0.75)\n",
    "iqr = q3 - combined_table_df['core_temp_rel_error'].quantile(0.25)\n",
    "outlier = q3 + 1.5 * iqr\n",
    "combined_table_df = combined_table_df[combined_table_df['core_temp_rel_error'] < outlier]\n",
    "\n",
    "table: Table = Table.from_pandas(combined_table_df, index='source_id')\n",
    "\n",
    "# Update labels\n",
    "table['source_id'].description = 'Gaia Source ID'\n",
    "table['ra'].description = 'Right Ascension'\n",
    "table['dec'].description = 'Declination'\n",
    "table['radius'].description = 'Stellar Radius'\n",
    "table['radius_error'].description = 'Stellar Radius Error'\n",
    "table['mass_primary'].description = 'Primary Stellar Mass'\n",
    "table['mass_secondary'].description = 'Secondary Stellar Mass'\n",
    "table['core_temp'].description = 'Stellar Core Temperature'\n",
    "table['core_temp_abs_error'].description = 'Absolute Stellar Core Temperature Error'\n",
    "\n",
    "# Update units\n",
    "table['ra'].unit = 'deg'\n",
    "table['dec'].unit = 'deg'\n",
    "table['radius'].unit = 'Rsun'\n",
    "table['radius_error'].unit = 'Rsun'\n",
    "table['mass_primary'].unit = 'Msun'\n",
    "table['mass_secondary'].unit = 'Msun'\n",
    "table['core_temp'].unit = 'K'\n",
    "table['core_temp_abs_error'].unit = 'K'\n",
    "\n",
    "table.meta.description = 'Final dataset of Stellar Masses, Radii, and Core Temperatures'\n",
    "table.meta.keywords = ['Stellar', 'Mass', 'Radius', 'Core Temperature', 'Gaia']\n",
    "table.meta.curation = 'Data collated from various sources, including Gaia and Vizier, and processed using Python and Astroquery.'\n",
    "table.meta.curation_date = '2024-01-18'\n",
    "table.meta.creator_name = 'Maximus Widmaier'\n",
    "\n",
    "# Save as a VOTable and upload to Gaia\n",
    "table.write('data/stellar_dataset_final.vot', format='votable', overwrite=True, table_id='stellar_dataset_final')\n",
    "\n",
    "final_table_name = 'user_' + username + \".stellar_dataset_final\"\n",
    "\n",
    "Gaia.upload_table(upload_resource='data/stellar_dataset_final.vot', table_name='stellar_dataset_final', format='votable')\n",
    "\n",
    "Gaia.update_user_table(table_name=final_table_name,\n",
    "                       list_of_changes=[['ra', 'flags', 'Ra'], ['dec', 'flags', 'Dec'], ['ra', 'indexed', True],\n",
    "                                        ['dec', 'indexed', True]])\n",
    "\n",
    "# Delete the old tables\n",
    "Gaia.delete_user_table(table_name=combined_table_name)"
   ],
   "metadata": {
    "collapsed": false,
    "ExecuteTime": {
     "end_time": "2024-01-18T18:57:54.536490100Z",
     "start_time": "2024-01-18T18:57:44.399095800Z"
    }
   },
   "id": "bf27993729e32157",
   "execution_count": 40
  }
 ],
 "metadata": {
  "kernelspec": {
   "display_name": "Python 3",
   "language": "python",
   "name": "python3"
  },
  "language_info": {
   "codemirror_mode": {
    "name": "ipython",
    "version": 2
   },
   "file_extension": ".py",
   "mimetype": "text/x-python",
   "name": "python",
   "nbconvert_exporter": "python",
   "pygments_lexer": "ipython2",
   "version": "2.7.6"
  }
 },
 "nbformat": 4,
 "nbformat_minor": 5
}
