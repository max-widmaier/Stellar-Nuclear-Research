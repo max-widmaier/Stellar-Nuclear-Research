{
 "cells": [
  {
   "cell_type": "markdown",
   "source": [
    "# Data collation and analysis\n",
    "This file handles collecting all collected data into one consistent table.\n",
    "\n",
    "## Data Collection\n",
    "First data is collected, then any non-gaia stellar IDs (such as HD numbers) are matched \n",
    "with a corresponding Gaia star entry. \n",
    "\n",
    "## Analysis\n",
    "After data has been collected into a common table, mass analysis can be performed"
   ],
   "metadata": {
    "collapsed": false
   },
   "id": "790a09d6d2228b29"
  },
  {
   "cell_type": "code",
   "execution_count": 26,
   "outputs": [],
   "source": [
    "from astroquery.gaia import Gaia\n",
    "Gaia.MAIN_GAIA_TABLE = \"gaiadr3.gaia_source\"  # Reselect Data Release 3, default"
   ],
   "metadata": {
    "collapsed": true,
    "ExecuteTime": {
     "end_time": "2024-01-01T05:42:45.404397600Z",
     "start_time": "2024-01-01T05:42:45.394957100Z"
    }
   },
   "id": "initial_id"
  },
  {
   "cell_type": "markdown",
   "source": [
    "## Log in to Gaia\n",
    "Use credentials from gaia/CREDENTIALS file"
   ],
   "metadata": {
    "collapsed": false
   },
   "id": "e75e297e2d06fb8d"
  },
  {
   "cell_type": "code",
   "execution_count": 38,
   "outputs": [
    {
     "name": "stdout",
     "output_type": "stream",
     "text": [
      "INFO: Login to gaia TAP server [astroquery.gaia.core]\n",
      "OK\n",
      "INFO: Login to gaia data server [astroquery.gaia.core]\n",
      "OK\n"
     ]
    }
   ],
   "source": [
    "Gaia.login(credentials_file='gaia/CREDENTIALS')\n",
    "username = 'mwidmaie'"
   ],
   "metadata": {
    "collapsed": false,
    "ExecuteTime": {
     "end_time": "2024-01-01T05:58:14.850921400Z",
     "start_time": "2024-01-01T05:58:13.202034300Z"
    }
   },
   "id": "2798bf2e713a35be"
  },
  {
   "cell_type": "markdown",
   "source": [
    "## Check for existence of the stellar_radii table\n",
    "Upload if it does not exist."
   ],
   "metadata": {
    "collapsed": false
   },
   "id": "617af468853e6f17"
  },
  {
   "cell_type": "code",
   "execution_count": 30,
   "outputs": [
    {
     "name": "stdout",
     "output_type": "stream",
     "text": [
      "Retrieving table 'user_mwidmaie.stellar_radii'\n",
      "500 Error 500:\n",
      "esavo.tap.TAPException: Code: 404, msg: Table 'user_mwidmaie.stellar_radii' not found.\n",
      "Table does not exist, uploading from local machine.\n",
      "Sending file: stellar_radii.vot\n",
      "Uploaded table 'stellar_radii'.\n",
      "Retrieving table 'user_mwidmaie.stellar_radii'\n"
     ]
    }
   ],
   "source": [
    "stellar_radii_table_name = 'user_' + username + \".stellar_radii\"\n",
    "\n",
    "try:\n",
    "    stellar_radii = Gaia.load_table(stellar_radii_table_name)\n",
    "except:\n",
    "    # Table doesn't exist so we're gonna upload from the local stellar_radii.vot file\n",
    "    print(\"Table does not exist, uploading from local machine.\")\n",
    "    Gaia.upload_table(upload_resource=\"stellar_radii.vot\", table_name='stellar_radii', format=\"VOTable\")\n",
    "    stellar_radii = Gaia.load_table(stellar_radii_table_name)"
   ],
   "metadata": {
    "collapsed": false,
    "ExecuteTime": {
     "end_time": "2024-01-01T05:51:11.802466900Z",
     "start_time": "2024-01-01T05:50:58.314610600Z"
    }
   },
   "id": "ebe22a7f6277ec2c"
  },
  {
   "cell_type": "code",
   "execution_count": 42,
   "outputs": [
    {
     "name": "stdout",
     "output_type": "stream",
     "text": [
      "Retrieving table 'user_mwidmaie.stellar_radii'\n",
      "Table 'user_mwidmaie.stellar_radii' updated.\n"
     ]
    }
   ],
   "source": [
    "# Update Metadata Tags\n",
    "Gaia.update_user_table(table_name=stellar_radii_table_name, list_of_changes=[['\"ID1\"', 'indexed', True], ['\"RAJ2000\"', 'flags', 'Ra'], ['\"DEJ2000\"', 'flags', 'Dec'], ['recno', 'ucd', 'ucd sample']])"
   ],
   "metadata": {
    "collapsed": false,
    "ExecuteTime": {
     "end_time": "2024-01-01T06:10:14.705701300Z",
     "start_time": "2024-01-01T06:10:12.912872200Z"
    }
   },
   "id": "3b20b4414792d69"
  },
  {
   "cell_type": "markdown",
   "source": [
    "## Matching HD numbers up with Gaia source ids\n",
    "\n",
    "This was achieved by performing the following ADQL command:"
   ],
   "metadata": {
    "collapsed": false
   },
   "id": "7d772e34f9a82337"
  },
  {
   "cell_type": "markdown",
   "source": [
    "```sql\n",
    "SELECT recno, source_id as gaia_id, \"ID1\" as HD_NUMBER, \"RAJ2000\", \"DEJ2000\", \"Vmag\", \"Rad\" as StellarRadius, \n",
    "DISTANCE(\n",
    "    POINT(stellar_radii.RAJ2000, stellar_radii.DEJ2000),\n",
    "    POINT(ra, dec)\n",
    ") * 3600. AS dist_arcsec,\n",
    "ABS(Vmag - gaia.phot_g_mean_mag) as VMag_Difference\n",
    "FROM user_mwidmaie.stellar_radii AS stellar_radii\n",
    "JOIN gaiaedr3.gaia_source AS gaia\n",
    "-- Geometric Cross-Match: =======\n",
    "ON DISTANCE(\n",
    "    POINT(stellar_radii.RAJ2000, stellar_radii.DEJ2000),\n",
    "    POINT(ra, dec)\n",
    ") < 1.8 / 3600.\n",
    "-- Condition: ===================\n",
    "WHERE ABS(Vmag - gaia.phot_g_mean_mag) < 2.\n",
    "```"
   ],
   "metadata": {
    "collapsed": false
   },
   "id": "437d37d71948ddef"
  },
  {
   "cell_type": "markdown",
   "source": [
    "The results of this operation were stored in `data/hd_stellar_radii_match.vot`"
   ],
   "metadata": {
    "collapsed": false
   },
   "id": "87c978a489ad0014"
  },
  {
   "cell_type": "markdown",
   "source": [
    "## Collating with stellar mass data\n",
    "Using data from `data/hd_stellar_radii_match.vot` we can pair up the Gaia source ids from `data/stellar_masses.vot` to form a new dataset including both radii and mass, 2 of the 3 data points we need to calculate stellar core temperature"
   ],
   "metadata": {
    "collapsed": false
   },
   "id": "cabf31e44cdc6d78"
  },
  {
   "cell_type": "code",
   "execution_count": null,
   "outputs": [],
   "source": [],
   "metadata": {
    "collapsed": false
   },
   "id": "2d4caf1bc2caf33b"
  }
 ],
 "metadata": {
  "kernelspec": {
   "display_name": "Python 3",
   "language": "python",
   "name": "python3"
  },
  "language_info": {
   "codemirror_mode": {
    "name": "ipython",
    "version": 2
   },
   "file_extension": ".py",
   "mimetype": "text/x-python",
   "name": "python",
   "nbconvert_exporter": "python",
   "pygments_lexer": "ipython2",
   "version": "2.7.6"
  }
 },
 "nbformat": 4,
 "nbformat_minor": 5
}
