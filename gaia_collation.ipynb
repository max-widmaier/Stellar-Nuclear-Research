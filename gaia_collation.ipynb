{
 "cells": [
  {
   "cell_type": "markdown",
   "source": [
    "# Data collation and analysis\n",
    "This file handles collecting all collected data into one consistent table.\n",
    "\n",
    "## Data Collection\n",
    "First data is collected, then any non-gaia stellar IDs (such as HD numbers) are matched \n",
    "with a corresponding Gaia star entry. \n",
    "\n",
    "## Analysis\n",
    "After data has been collected into a common table, mass analysis can be performed"
   ],
   "metadata": {
    "collapsed": false
   },
   "id": "790a09d6d2228b29"
  },
  {
   "cell_type": "code",
   "execution_count": 1,
   "outputs": [],
   "source": [
    "from astropy.table import Table\n",
    "\n",
    "from astroquery.gaia import Gaia\n",
    "\n",
    "import pandas as pd\n",
    "\n",
    "Gaia.MAIN_GAIA_TABLE = \"gaiadr3.gaia_source\"  # Reselect Data Release 3, default"
   ],
   "metadata": {
    "collapsed": true,
    "ExecuteTime": {
     "end_time": "2024-01-02T00:34:25.824751100Z",
     "start_time": "2024-01-02T00:34:24.628400300Z"
    }
   },
   "id": "initial_id"
  },
  {
   "cell_type": "markdown",
   "source": [
    "## Log in to Gaia\n",
    "Use credentials from gaia/CREDENTIALS file"
   ],
   "metadata": {
    "collapsed": false
   },
   "id": "e75e297e2d06fb8d"
  },
  {
   "cell_type": "code",
   "execution_count": 2,
   "outputs": [
    {
     "name": "stdout",
     "output_type": "stream",
     "text": [
      "INFO: Login to gaia TAP server [astroquery.gaia.core]\n",
      "OK\n",
      "INFO: Login to gaia data server [astroquery.gaia.core]\n",
      "OK\n"
     ]
    }
   ],
   "source": [
    "Gaia.login(credentials_file='gaia/CREDENTIALS')\n",
    "username = 'mwidmaie'"
   ],
   "metadata": {
    "collapsed": false,
    "ExecuteTime": {
     "end_time": "2024-01-02T00:34:28.377325500Z",
     "start_time": "2024-01-02T00:34:26.691007Z"
    }
   },
   "id": "2798bf2e713a35be"
  },
  {
   "cell_type": "markdown",
   "source": [
    "## Radii Data\n",
    "The initial radii dataset was insufficient, so we need to use another dataset and combine them into one. \n",
    "We will use the data from `data/stellar_ldd.vot` as well as some Gaia data to manually calculate the stellar radii (using trigonometry)."
   ],
   "metadata": {
    "collapsed": false
   },
   "id": "c5695ec7e07aaac4"
  },
  {
   "cell_type": "code",
   "outputs": [],
   "source": [
    "stellar_ldd_table_name = 'user_' + username + \".stellar_ldd\"\n",
    "\n",
    "try:\n",
    "    stellar_ldd = Gaia.load_table(stellar_ldd_table_name)\n",
    "except:\n",
    "    # Table doesn't exist so we're gonna upload from the local stellar_ldd.vot file\n",
    "    print(\"Table does not exist, uploading from local machine.\")\n",
    "    Gaia.upload_table(upload_resource=\"data/stellar_ldd.vot\", table_name='stellar_ldd', format=\"VOTable\")\n",
    "    stellar_ldd = Gaia.load_table(stellar_ldd_table_name)"
   ],
   "metadata": {
    "collapsed": false
   },
   "id": "50614072eb49bab4",
   "execution_count": null
  },
  {
   "cell_type": "markdown",
   "source": [
    "## Update metadata for stellar_ldd and stellar_radii\n",
    "This will make the next steps a lot easier. (and faster)"
   ],
   "metadata": {
    "collapsed": false
   },
   "id": "4cf370ce7c2369be"
  },
  {
   "cell_type": "code",
   "outputs": [],
   "source": [
    "    Gaia.update_user_table(table_name=stellar_ldd_table_name, list_of_changes=[['\"RAJ2000\"', 'flags', 'Ra'], ['\"DEJ2000\"', 'flags', 'Dec'], ['\"RAJ2000\"', 'indexed', True], ['\"DEJ2000\"', 'indexed', True]])"
   ],
   "metadata": {
    "collapsed": false
   },
   "id": "6a58b0ece0909f65",
   "execution_count": null
  },
  {
   "cell_type": "markdown",
   "source": [
    "## Retrieving Gaia Parallax and Parallax Error\n",
    "We need to retrieve the parallax and parallax error from Gaia for each star in the stellar_ldd table.\n",
    "\n",
    "With this data, we can calculate the distance to the star, and then use the angular diameter from the stellar_ldd table to calculate the stellar radius.\n",
    "We can combine the data using the following ADQL query:\n",
    "```sql\n",
    "SELECT recno, source_id, Name, RAJ2000, DEJ2000, LDD, e_LDD, ra as gaia_ra, dec as gaia_dec, vmag, parallax, parallax_error,\n",
    "DISTANCE(\n",
    "    POINT(RAJ2000, DEJ2000),\n",
    "    POINT(ra, dec)\n",
    ") * 3600. AS dist_arcsec\n",
    "FROM user_<username>.stellar_ldd AS stellar_ldd\n",
    "JOIN gaiadr3.gaia_source AS gaia\n",
    "-- Geometric Cross-Match: =======\n",
    "ON DISTANCE(\n",
    "    POINT(RAJ2000, DEJ2000),\n",
    "    POINT(ra, dec)\n",
    ") < 1.8 / 3600.\n",
    "-- Condition: ===================\n",
    "WHERE ABS(vmag - phot_g_mean_mag) < 2.\n",
    "```\n",
    "\n",
    "Processing will be done in Python."
   ],
   "metadata": {
    "collapsed": false
   },
   "id": "3071e57a45a0f7ce"
  },
  {
   "cell_type": "code",
   "outputs": [],
   "source": [
    "import gzip\n",
    "\n",
    "job = Gaia.launch_job(f\"\"\"SELECT TOP 466000 recno, source_id, Name, RAJ2000, DEJ2000, ra as gaia_ra, dec as gaia_dec, vmag, parallax, parallax_error, LDD, e_LDD,\n",
    "DISTANCE(\n",
    "    POINT(RAJ2000, DEJ2000),\n",
    "    POINT(ra, dec)\n",
    ") * 3600. AS dist_arcsec\n",
    "FROM {stellar_ldd_table_name} AS stellar_ldd\n",
    "JOIN gaiadr3.gaia_source AS gaia\n",
    "-- Geometric Cross-Match: =======\n",
    "ON DISTANCE(\n",
    "    POINT(RAJ2000, DEJ2000),\n",
    "    POINT(ra, dec)\n",
    ") < 1.8 / 3600.\n",
    "-- Condition: ===================\n",
    "WHERE ABS(vmag - phot_g_mean_mag) < 2.\"\"\", dump_to_file=True, output_format='votable', output_file='data/stellar_ldd_gaia.vot.gz', verbose=True)\n",
    "\n",
    "results = job.get_results()\n",
    "\n",
    "with gzip.open('data/stellar_ldd_gaia.vot.gz', 'rb') as f:\n",
    "    with open('data/stellar_ldd_gaia.vot', 'wb') as f2:\n",
    "        f2.write(f.read())"
   ],
   "metadata": {
    "collapsed": false
   },
   "id": "8529aac6a05a9b41",
   "execution_count": null
  },
  {
   "cell_type": "markdown",
   "source": [
    "## Calculating Stellar Radii\n",
    "### Calculating Distance\n",
    "We can calculate the distance to the star using the parallax from Gaia, using the following formula:\n",
    "![Distance Formula](imgs/latex_distance.png)\n",
    "Where:\n",
    "d = distance to star (in parsecs)\n",
    "p = parallax angle (in mas)\n",
    "\n",
    "### Calculating Stellar Radius\n",
    "We can calculate the stellar radius using the angular diameter from the stellar_ldd table, using the following formula:\n",
    "![Stellar Radius Formula](imgs/latex_radius.png)\n",
    "Where:\n",
    "r_star = stellar radius (in kilometers)\n",
    "d = distance to star (in parsecs)\n",
    "theta = angular diameter (in radians)\n",
    "\n",
    "### Calculating Stellar Radius Error\n",
    "We can calculate the stellar radius error using the following formula:\n",
    "![Stellar Radius Error Formula](imgs/latex_radius_error.png)"
   ],
   "metadata": {
    "collapsed": false
   },
   "id": "5412b376d4a3a84c"
  },
  {
   "cell_type": "code",
   "outputs": [
    {
     "data": {
      "text/plain": "                  source_id     gaia_ra   gaia_dec     radius  radius_error  \\\n0             7632157690368   45.034343   0.235390   5.713006      0.127737   \n1            16733192740608   45.152965   0.386342   1.489124      0.040466   \n2            30343944744320   45.094992   0.476836   3.069619      0.085569   \n3            44358422235136   45.501454   0.497697   1.223615      0.030880   \n4            64531884461952   45.490906   0.741372  29.043697      0.770821   \n...                     ...         ...        ...        ...           ...   \n285576  4538856292348877568  278.769402  27.059397  18.348716      0.537857   \n285577  4538859320307829504  278.737038  27.078939   2.003283      0.055428   \n285578  4538864504326336256  278.942034  27.211519  19.537612      0.512465   \n285579  4538867944602450048  278.848242  27.246558   1.626073      0.045976   \n285580  4538868627494933888  278.915223  27.308849   2.376616      0.058908   \n\n        radius_error_ratio  \n0                 0.022359  \n1                 0.027174  \n2                 0.027876  \n3                 0.025237  \n4                 0.026540  \n...                    ...  \n285576            0.029313  \n285577            0.027669  \n285578            0.026230  \n285579            0.028274  \n285580            0.024786  \n\n[282056 rows x 6 columns]",
      "text/html": "<div>\n<style scoped>\n    .dataframe tbody tr th:only-of-type {\n        vertical-align: middle;\n    }\n\n    .dataframe tbody tr th {\n        vertical-align: top;\n    }\n\n    .dataframe thead th {\n        text-align: right;\n    }\n</style>\n<table border=\"1\" class=\"dataframe\">\n  <thead>\n    <tr style=\"text-align: right;\">\n      <th></th>\n      <th>source_id</th>\n      <th>gaia_ra</th>\n      <th>gaia_dec</th>\n      <th>radius</th>\n      <th>radius_error</th>\n      <th>radius_error_ratio</th>\n    </tr>\n  </thead>\n  <tbody>\n    <tr>\n      <th>0</th>\n      <td>7632157690368</td>\n      <td>45.034343</td>\n      <td>0.235390</td>\n      <td>5.713006</td>\n      <td>0.127737</td>\n      <td>0.022359</td>\n    </tr>\n    <tr>\n      <th>1</th>\n      <td>16733192740608</td>\n      <td>45.152965</td>\n      <td>0.386342</td>\n      <td>1.489124</td>\n      <td>0.040466</td>\n      <td>0.027174</td>\n    </tr>\n    <tr>\n      <th>2</th>\n      <td>30343944744320</td>\n      <td>45.094992</td>\n      <td>0.476836</td>\n      <td>3.069619</td>\n      <td>0.085569</td>\n      <td>0.027876</td>\n    </tr>\n    <tr>\n      <th>3</th>\n      <td>44358422235136</td>\n      <td>45.501454</td>\n      <td>0.497697</td>\n      <td>1.223615</td>\n      <td>0.030880</td>\n      <td>0.025237</td>\n    </tr>\n    <tr>\n      <th>4</th>\n      <td>64531884461952</td>\n      <td>45.490906</td>\n      <td>0.741372</td>\n      <td>29.043697</td>\n      <td>0.770821</td>\n      <td>0.026540</td>\n    </tr>\n    <tr>\n      <th>...</th>\n      <td>...</td>\n      <td>...</td>\n      <td>...</td>\n      <td>...</td>\n      <td>...</td>\n      <td>...</td>\n    </tr>\n    <tr>\n      <th>285576</th>\n      <td>4538856292348877568</td>\n      <td>278.769402</td>\n      <td>27.059397</td>\n      <td>18.348716</td>\n      <td>0.537857</td>\n      <td>0.029313</td>\n    </tr>\n    <tr>\n      <th>285577</th>\n      <td>4538859320307829504</td>\n      <td>278.737038</td>\n      <td>27.078939</td>\n      <td>2.003283</td>\n      <td>0.055428</td>\n      <td>0.027669</td>\n    </tr>\n    <tr>\n      <th>285578</th>\n      <td>4538864504326336256</td>\n      <td>278.942034</td>\n      <td>27.211519</td>\n      <td>19.537612</td>\n      <td>0.512465</td>\n      <td>0.026230</td>\n    </tr>\n    <tr>\n      <th>285579</th>\n      <td>4538867944602450048</td>\n      <td>278.848242</td>\n      <td>27.246558</td>\n      <td>1.626073</td>\n      <td>0.045976</td>\n      <td>0.028274</td>\n    </tr>\n    <tr>\n      <th>285580</th>\n      <td>4538868627494933888</td>\n      <td>278.915223</td>\n      <td>27.308849</td>\n      <td>2.376616</td>\n      <td>0.058908</td>\n      <td>0.024786</td>\n    </tr>\n  </tbody>\n</table>\n<p>282056 rows × 6 columns</p>\n</div>"
     },
     "execution_count": 4,
     "metadata": {},
     "output_type": "execute_result"
    }
   ],
   "source": [
    "import numpy as np\n",
    "df = Table.read('data/stellar_ldd_gaia.vot').to_pandas()\n",
    "df['distance'] = 1000 / df['parallax']  # Convert parallax to distance in km\n",
    "df['LDD_rad'] = df['LDD'] / 1000 / 3600 * np.pi / 180  # Convert LDD to radians (First convert to arcseconds, then to degrees, then to radians)\n",
    "df['e_LDD_rad'] = df['e_LDD'] / 1000 / 3600 * np.pi / 180  # Convert e_LDD to radians\n",
    "df['radius'] = 1/2 * df['distance'] * np.tan(df['LDD_rad']) * 3.086e+13  # Calculate radius in km \n",
    "df['distance_error'] = 1000 / np.square(df['parallax']) * df['parallax_error']  # Calculate distance error in parsecs\n",
    "df['distance_error_ratio'] = df['distance_error'] / df['distance']  # Calculate distance error as a ratio\n",
    "df['radius_error'] = np.sqrt(np.square(1/2 * df['distance'] * 1/(np.square(np.cos(df['LDD_rad']))) * df['e_LDD_rad']) + np.square(1/2 * df['distance_error'] * df['parallax_error'] * np.tan(df['LDD_rad']))) * 3.086e+13 # Calculate radius error in km\n",
    "df['radius_error_ratio'] = df['radius_error'] / df['radius']  # Calculate radius error as a ratio\n",
    "\n",
    "df['radius'] = df['radius'] / 695700  # Convert radius to solar radii\n",
    "df['radius_error'] = df['radius_error'] / 695700  # Convert radius error to solar radii\n",
    "\n",
    "df.drop(columns=['LDD_rad', 'e_LDD_rad'], inplace=True)\n",
    "df.dropna(subset=['distance', 'distance_error', 'radius', 'radius_error', 'source_id', 'gaia_dec', 'gaia_ra'], inplace=True)\n",
    "df.drop(columns=['parallax', 'parallax_error', 'LDD', 'e_LDD', 'RAJ2000', 'DEJ2000', 'Name', 'dist_arcsec', 'vmag', 'distance', 'distance_error', 'distance_error_ratio', 'recno'], inplace=True)\n",
    "df"
   ],
   "metadata": {
    "collapsed": false,
    "ExecuteTime": {
     "end_time": "2024-01-02T00:35:20.120370600Z",
     "start_time": "2024-01-02T00:35:08.923671400Z"
    }
   },
   "id": "dd6302d276913997",
   "execution_count": 4
  },
  {
   "cell_type": "code",
   "outputs": [
    {
     "name": "stdout",
     "output_type": "stream",
     "text": [
      "Sending file: data/stellar_radii_finalized.vot\n",
      "Uploaded table 'stellar_radii'.\n"
     ]
    },
    {
     "ename": "NameError",
     "evalue": "name 'stellar_ldd_table_name' is not defined",
     "output_type": "error",
     "traceback": [
      "\u001B[1;31m---------------------------------------------------------------------------\u001B[0m",
      "\u001B[1;31mNameError\u001B[0m                                 Traceback (most recent call last)",
      "Cell \u001B[1;32mIn[6], line 6\u001B[0m\n\u001B[0;32m      3\u001B[0m stellar_radii_vot\u001B[38;5;241m.\u001B[39mwrite(\u001B[38;5;124m'\u001B[39m\u001B[38;5;124mdata/stellar_radii_finalized.vot\u001B[39m\u001B[38;5;124m'\u001B[39m, \u001B[38;5;28mformat\u001B[39m\u001B[38;5;241m=\u001B[39m\u001B[38;5;124m'\u001B[39m\u001B[38;5;124mvotable\u001B[39m\u001B[38;5;124m'\u001B[39m, overwrite\u001B[38;5;241m=\u001B[39m\u001B[38;5;28;01mTrue\u001B[39;00m)\n\u001B[0;32m      5\u001B[0m Gaia\u001B[38;5;241m.\u001B[39mupload_table(upload_resource\u001B[38;5;241m=\u001B[39m\u001B[38;5;124m'\u001B[39m\u001B[38;5;124mdata/stellar_radii_finalized.vot\u001B[39m\u001B[38;5;124m'\u001B[39m, table_name\u001B[38;5;241m=\u001B[39m\u001B[38;5;124m'\u001B[39m\u001B[38;5;124mstellar_radii\u001B[39m\u001B[38;5;124m'\u001B[39m, \u001B[38;5;28mformat\u001B[39m\u001B[38;5;241m=\u001B[39m\u001B[38;5;124m'\u001B[39m\u001B[38;5;124mvotable\u001B[39m\u001B[38;5;124m'\u001B[39m)\n\u001B[1;32m----> 6\u001B[0m Gaia\u001B[38;5;241m.\u001B[39mdelete_user_table(table_name\u001B[38;5;241m=\u001B[39m\u001B[43mstellar_ldd_table_name\u001B[49m) \u001B[38;5;66;03m# Delete the old stellar_ldd table\u001B[39;00m\n",
      "\u001B[1;31mNameError\u001B[0m: name 'stellar_ldd_table_name' is not defined"
     ]
    }
   ],
   "source": [
    "# Save as a VOTable and upload to Gaia\n",
    "stellar_radii_table_name = 'user_' + username + \".stellar_radii\"\n",
    "stellar_radii_vot = Table.from_pandas(df)\n",
    "stellar_radii_vot.write('data/stellar_radii_finalized.vot', format='votable', overwrite=True)\n",
    "\n",
    "Gaia.upload_table(upload_resource='data/stellar_radii_finalized.vot', table_name='stellar_radii', format='votable')\n",
    "Gaia.update_user_table(table_name=stellar_radii_table_name, list_of_changes=[['\"gaia_ra\"', 'flags', 'Ra'], ['\"gaia_dec\"', 'flags', 'Dec'], ['\"gaia_ra\"', 'indexed', True], ['\"gaia_dec\"', 'indexed', True]])\n",
    "Gaia.delete_user_table(table_name=stellar_ldd_table_name) # Delete the old stellar_ldd table"
   ],
   "metadata": {
    "collapsed": false,
    "ExecuteTime": {
     "end_time": "2024-01-02T00:42:48.119085500Z",
     "start_time": "2024-01-02T00:39:35.780634600Z"
    }
   },
   "id": "f6978ff14ca71c5e",
   "execution_count": 6
  },
  {
   "cell_type": "markdown",
   "source": [
    "## Collating with stellar mass data\n",
    "Using data from `data/stellar_radii_combined.vot` we can pair up the Gaia source ids from `data/stellar_masses.rawdata` to form a new dataset including both radii and mass, 2 of the 3 data points we need to calculate stellar core temperature"
   ],
   "metadata": {
    "collapsed": false
   },
   "id": "cabf31e44cdc6d78"
  },
  {
   "cell_type": "code",
   "outputs": [],
   "source": [
    "# We need to download and pre-process the data from https://cdsarc.cds.unistra.fr/viz-bin/nph-Cat/txt?I/360/binmass.dat.gz\n",
    "# This is a table of stellar masses\n",
    "import requests\n",
    "\n",
    "url = 'https://cdsarc.cds.unistra.fr/viz-bin/nph-Cat/txt?I/360/binmass.dat'\n",
    "print(\"Downloading data from \" + url + \"... This may take a while.\")\n",
    "r = requests.get(url, allow_redirects=True)\n",
    "\n",
    "with open('data/binmass.rawdata', 'wb') as f:\n",
    "   f.write(r.content)\n",
    "    \n",
    "print('Download complete, processing...')\n",
    "fixed_content = ''\n",
    "# Now we need to process the data, since it's not in a standard format\n",
    "with open('data/binmass.rawdata', 'r') as f:\n",
    "    lines = f.readlines()[4:-1]\n",
    "    for line in lines:\n",
    "        if line[0] == '#' or line[0] == '-':\n",
    "            continue\n",
    "        content = line.replace('|', ',')\n",
    "        ra_and_dec = content.split(',')[13]\n",
    "        ra = ra_and_dec.split(' ')[0]\n",
    "        dec = ra_and_dec.split(' ')[-1]\n",
    "        content = content.replace(ra_and_dec, ra + ',' + dec).replace(' ', '')\n",
    "        fixed_content += content\n",
    "        \n",
    "with open('data/stellar_masses.rawdata', 'w') as f:\n",
    "    f.write(fixed_content)\n",
    "    \n",
    "print('Done')"
   ],
   "metadata": {
    "collapsed": false
   },
   "id": "3011ec5d1e172768",
   "execution_count": null
  },
  {
   "cell_type": "markdown",
   "source": [
    "## Uploading stellar_masses to Gaia\n",
    "We need to upload the stellar_masses data to Gaia so we can join it with the stellar_radii data."
   ],
   "metadata": {
    "collapsed": false
   },
   "id": "f9420d6cb567b0ab"
  },
  {
   "cell_type": "code",
   "outputs": [],
   "source": [
    "# Load stellar_masses.rawdata as a Pandas DataFrame\n",
    "\n",
    "# Removed the column headers because they weren't specific enough, we'll use these column names instead\n",
    "columns = ['source_id', 'mass_primary', 'mass_primary_lower', 'mass_primary_upper', 'mass_secondary', 'mass_secondary_lower', 'mass_secondary_upper', 'flux_ratio', 'flux_ratio_lower', \n",
    "           'flux_ratio_upper', 'method', 'reference_for_primary_mass', 'flag', 'ra2016', 'dec2016']\n",
    "\n",
    "# Load the data into a Pandas DataFrame\n",
    "stellar_masses = pd.read_csv('data/stellar_masses.rawdata', names=columns, skiprows=4)\n",
    "stellar_masses.drop(columns=['mass_primary_lower', 'mass_primary_upper', 'mass_secondary_lower', 'mass_secondary_upper', 'flux_ratio_lower', 'flux_ratio_upper', 'flag', 'method', 'reference_for_primary_mass'], inplace=True)\n",
    "\n",
    "# Drop any with NaN ra or dec\n",
    "stellar_masses.dropna(subset=['ra2016', 'dec2016'], inplace=True)\n",
    "\n",
    "# Save as a VOTable\n",
    "stellar_masses_vot = Table.from_pandas(stellar_masses)\n",
    "stellar_masses_vot.write('data/stellar_masses.vot', format='votable', overwrite=True)\n",
    "\n",
    "# Upload to Gaia\n",
    "Gaia.upload_table(upload_resource='data/stellar_masses.vot', table_name='stellar_masses', format='votable')"
   ],
   "metadata": {
    "collapsed": false
   },
   "id": "2d4caf1bc2caf33b",
   "execution_count": null
  },
  {
   "cell_type": "markdown",
   "source": [
    "## Joining stellar_masses and stellar_radii\n",
    "\n",
    "We can join the stellar_masses and stellar_radii tables using the following ADQL query:\n",
    "```sql\n",
    "SELECT TOP 150000 stellar_radii.source_id, gaia_ra as ra, gaia_dec as dec, radius, radius_error, mass_primary, mass_secondary\n",
    "FROM {stellar_radii_table_name} AS stellar_radii\n",
    "JOIN {stellar_masses_table_name} AS stellar_masses\n",
    "ON stellar_radii.source_id = stellar_masses.source_id\n",
    "```"
   ],
   "metadata": {
    "collapsed": false
   },
   "id": "9a1174621d8a3b99"
  },
  {
   "cell_type": "code",
   "outputs": [
    {
     "name": "stdout",
     "output_type": "stream",
     "text": [
      "Retrieving table 'user_mwidmaie.stellar_masses_and_radii'\n",
      "500 Error 500:\n",
      "esavo.tap.TAPException: Code: 404, msg: Table 'user_mwidmaie.stellar_masses_and_radii' not found.\n",
      "Table does not exist, running queries and uploading from local machine.\n",
      "Launched query: 'SELECT TOP 150000 stellar_radii.source_id, gaia_ra as ra, gaia_dec as dec, radius, radius_error, mass_primary, mass_secondary\n",
      "FROM user_mwidmaie.stellar_radii AS stellar_radii\n",
      "JOIN user_mwidmaie.stellar_masses AS stellar_masses\n",
      "ON stellar_radii.source_id = stellar_masses.source_id'\n",
      "------>https\n",
      "host = gea.esac.esa.int:443\n",
      "context = /tap-server/tap/sync\n",
      "Content-type = application/x-www-form-urlencoded\n",
      "200 200\n",
      "[('Date', 'Tue, 02 Jan 2024 00:50:44 GMT'), ('Server', 'Apache/2.4.6 (CentOS) OpenSSL/1.0.2k-fips mod_jk/1.2.43'), ('Cache-Control', 'no-cache, no-store, max-age=0, must-revalidate'), ('Pragma', 'no-cache'), ('Expires', '0'), ('X-XSS-Protection', '1; mode=block'), ('X-Frame-Options', 'SAMEORIGIN'), ('X-Content-Type-Options', 'nosniff'), ('Content-Encoding', 'gzip'), ('Content-Disposition', 'attachment;filename=\"1704156644864O-result.vot\"'), ('Transfer-Encoding', 'chunked'), ('Content-Type', 'application/x-votable+xml')]\n",
      "Retrieving sync. results...\n",
      "Saving results to: data/stellar_masses_and_radii.vot.gz\n",
      "Query finished.\n"
     ]
    },
    {
     "name": "stderr",
     "output_type": "stream",
     "text": [
      "WARNING: W50: ?:?:?: W50: Invalid unit string 'solar radii' [astropy.io.votable.tree]\n",
      "WARNING: W50: ?:?:?: W50: Invalid unit string 'solar masses' [astropy.io.votable.tree]\n"
     ]
    },
    {
     "name": "stdout",
     "output_type": "stream",
     "text": [
      "Sending file: data/stellar_masses_and_radii.vot\n",
      "Uploaded table 'stellar_masses_and_radii'.\n",
      "Retrieving table 'user_mwidmaie.stellar_masses_and_radii'\n",
      "Table 'user_mwidmaie.stellar_masses_and_radii' updated.\n",
      "Table 'user_mwidmaie.stellar_radii' deleted.\n",
      "Table 'user_mwidmaie.stellar_masses' deleted.\n"
     ]
    }
   ],
   "source": [
    "import gzip\n",
    "\n",
    "stellar_radii_table_name = 'user_' + username + \".stellar_radii\"\n",
    "stellar_masses_table_name = 'user_' + username + \".stellar_masses\"\n",
    "combined_table_name = 'user_' + username + \".stellar_masses_and_radii\"\n",
    "\n",
    "try:\n",
    "    stellar_mass_and_radii = Gaia.load_table(combined_table_name)\n",
    "except:\n",
    "    # Table doesn't exist so we're gonna upload from the local stellar_ldd.vot file\n",
    "    print(\"Table does not exist, running queries and uploading from local machine.\")\n",
    "    job = Gaia.launch_job(f\"\"\"SELECT TOP 150000 stellar_radii.source_id, gaia_ra as ra, gaia_dec as dec, radius, radius_error, mass_primary, mass_secondary\n",
    "FROM {stellar_radii_table_name} AS stellar_radii\n",
    "JOIN {stellar_masses_table_name} AS stellar_masses\n",
    "ON stellar_radii.source_id = stellar_masses.source_id\"\"\", dump_to_file=True, output_format='votable', output_file='data/stellar_masses_and_radii.vot.gz', verbose=True)\n",
    "    \n",
    "    results = job.get_results()\n",
    "    \n",
    "    with gzip.open('data/stellar_masses_and_radii.vot.gz', 'rb') as f:\n",
    "        with open('data/stellar_masses_and_radii.vot', 'wb') as f2:\n",
    "            f2.write(f.read())\n",
    "            \n",
    "    table = Table.read('data/stellar_masses_and_radii.vot')\n",
    "    # Set units for the table\n",
    "    table['radius'].unit = 'solar radii'\n",
    "    table['radius_error'].unit = 'Rsun'\n",
    "    table['mass_primary'].unit = 'Msun'\n",
    "    table['mass_secondary'].unit = 'Msun'\n",
    "    table['ra'].unit = 'deg'\n",
    "    table['dec'].unit = 'deg'\n",
    "    \n",
    "    # Save as a VOTable and upload to Gaia\n",
    "    table.write('data/stellar_masses_and_radii.vot', format='votable', overwrite=True)\n",
    "            \n",
    "    Gaia.upload_table(upload_resource='data/stellar_masses_and_radii.vot', table_name='stellar_masses_and_radii', format='votable')\n",
    "    Gaia.update_user_table(table_name=combined_table_name, list_of_changes=[['ra', 'flags', 'Ra'], ['dec', 'flags', 'Dec'], ['ra', 'indexed', True], ['dec', 'indexed', True]])\n",
    "    \n",
    "    # Remove the old tables\n",
    "    Gaia.delete_user_table(table_name=stellar_radii_table_name)\n",
    "    Gaia.delete_user_table(table_name=stellar_masses_table_name)  "
   ],
   "metadata": {
    "collapsed": false,
    "ExecuteTime": {
     "end_time": "2024-01-02T00:50:55.362379Z",
     "start_time": "2024-01-02T00:50:43.768277300Z"
    }
   },
   "id": "f55fb9180d764ba",
   "execution_count": 13
  },
  {
   "cell_type": "markdown",
   "source": [
    "## Calculating Stellar Core Temperature"
   ],
   "metadata": {
    "collapsed": false
   },
   "id": "2fa5f0ea111fb064"
  }
 ],
 "metadata": {
  "kernelspec": {
   "display_name": "Python 3",
   "language": "python",
   "name": "python3"
  },
  "language_info": {
   "codemirror_mode": {
    "name": "ipython",
    "version": 2
   },
   "file_extension": ".py",
   "mimetype": "text/x-python",
   "name": "python",
   "nbconvert_exporter": "python",
   "pygments_lexer": "ipython2",
   "version": "2.7.6"
  }
 },
 "nbformat": 4,
 "nbformat_minor": 5
}
